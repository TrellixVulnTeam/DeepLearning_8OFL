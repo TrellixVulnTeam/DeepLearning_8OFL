{
 "cells": [
  {
   "cell_type": "code",
   "execution_count": null,
   "metadata": {
    "collapsed": true
   },
   "outputs": [],
   "source": [
    "<h6>Cuda programming</h6>\n",
    "Build up enough knowledge to understand cuda programming implementation in frameworks and how to code for these\n",
    "programming model:\n",
    "<img src=\"cuda1.png\">\n",
    "<img src=\"cuda2.png\">\n",
    "<img src=\"cuda3.png\">\n",
    "<img src=\"cuda4.png\">\n",
    "<img src=\"cuda5.png\">\n",
    "<img src=\"cuda6.png\">\n",
    "<img src=\"cuda7.png\">\n"
   ]
  }
 ],
 "metadata": {
  "kernelspec": {
   "display_name": "Python 3",
   "language": "python",
   "name": "python3"
  },
  "language_info": {
   "codemirror_mode": {
    "name": "ipython",
    "version": 3
   },
   "file_extension": ".py",
   "mimetype": "text/x-python",
   "name": "python",
   "nbconvert_exporter": "python",
   "pygments_lexer": "ipython3",
   "version": "3.4.5"
  }
 },
 "nbformat": 4,
 "nbformat_minor": 2
}
