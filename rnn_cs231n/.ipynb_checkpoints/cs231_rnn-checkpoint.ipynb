{
 "cells": [
  {
   "cell_type": "code",
   "execution_count": null,
   "metadata": {},
   "outputs": [],
   "source": [
    "<h6>cs231 RNN</h6>\n",
    "My outline for RNNs:\n",
    "    1) calculation of RNN backprop w/chain rule and description of exploding/vanishing gradients\n",
    "    2) discussion of embeddings combining Jeremey Howard's skipgram code and rossmann embeddings\n",
    "    3) attention mechanisms \n",
    "<p>The standard RNN tutorial starts from a vanilla RNN, unrolls it to show where the weights are and then covers\n",
    "the different RNN archictectures, one to one, many to one and one to many. </p>\n",
    "\n",
    "<img src=\"cs231n8.png\">\n",
    "<img src=\"cs231n9.png\">\n",
    "<img src=\"cs231n10.png\">\n",
    "<img src=\"cs231n11.png\">\n",
    "<img src=\"cs231n12.png\">\n",
    "<img src=\"cs231n13.png\">\n",
    "<img src=\"imagecap1.png\">\n",
    "<img src=\"imagecap2.png\">\n",
    "<img src=\"imagecap3.png\">\n"
   ]
  },
  {
   "cell_type": "code",
   "execution_count": null,
   "metadata": {},
   "outputs": [],
   "source": []
  }
 ],
 "metadata": {
  "kernelspec": {
   "display_name": "Python 3",
   "language": "python",
   "name": "python3"
  },
  "language_info": {
   "codemirror_mode": {
    "name": "ipython",
    "version": 3
   },
   "file_extension": ".py",
   "mimetype": "text/x-python",
   "name": "python",
   "nbconvert_exporter": "python",
   "pygments_lexer": "ipython3",
   "version": "3.6.1"
  }
 },
 "nbformat": 4,
 "nbformat_minor": 2
}
