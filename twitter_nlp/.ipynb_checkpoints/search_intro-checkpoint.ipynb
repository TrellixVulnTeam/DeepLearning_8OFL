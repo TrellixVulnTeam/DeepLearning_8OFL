{
 "cells": [
  {
   "cell_type": "markdown",
   "metadata": {},
   "source": [
    "<h6>Solr</h6>\n",
    "Source: cs276 slides\n",
    "<p></p>\n",
    "Source: USF Internet search\n",
    "<p></p>\n",
    "<img src=\"solr1.png\">\n",
    "<img src=\"solr2.png\">\n",
    "<img src=\"solr4.png\">\n",
    "<img src=\"search4a.png\">\n",
    "<img src=\"search4b.png\">\n",
    "<img src=\"search4c.png\">\n",
    "<img src=\"search4d.png\">\n",
    "<img src=\"search4e.png\">\n",
    "<img src=\"search4f.png\">\n",
    "<img src=\"solr3.png\">\n",
    "<img src=\"solr5.png\">\n",
    "<img src=\"solr6.png\">\n",
    "<img src=\"solr7.png\">\n",
    "<img src=\"solr8.png\">\n",
    "<img src=\"solr9.png\">\n",
    "<img src=\"solr10.png\">\n",
    "<img src=\"solr11.png\">\n",
    "<img src=\"solr12.png\">\n",
    "<img src=\"solr13.png\">\n",
    "<img src=\"solr14.png\">\n",
    "<img src=\"solr15.png\">\n",
    "<img src=\"solr16.png\">\n",
    "<img src=\"solr17.png\">\n",
    "<img src=\"solr18.png\">\n",
    "<img src=\"solr19.png\">\n",
    "<img src=\"solr20.png\">\n"
   ]
  },
  {
   "cell_type": "code",
   "execution_count": null,
   "metadata": {},
   "outputs": [],
   "source": []
  }
 ],
 "metadata": {
  "kernelspec": {
   "display_name": "Python 3",
   "language": "python",
   "name": "python3"
  },
  "language_info": {
   "codemirror_mode": {
    "name": "ipython",
    "version": 3
   },
   "file_extension": ".py",
   "mimetype": "text/x-python",
   "name": "python",
   "nbconvert_exporter": "python",
   "pygments_lexer": "ipython3",
   "version": "3.6.5"
  }
 },
 "nbformat": 4,
 "nbformat_minor": 2
}
