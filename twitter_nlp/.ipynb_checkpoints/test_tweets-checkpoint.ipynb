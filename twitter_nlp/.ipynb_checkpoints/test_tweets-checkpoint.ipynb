{
 "cells": [
  {
   "cell_type": "code",
   "execution_count": 21,
   "metadata": {},
   "outputs": [
    {
     "name": "stdout",
     "output_type": "stream",
     "text": [
      "3195\n",
      "{0: 3030, 1: 115, 2: 34, 3: 9, 6: 1, 4: 4, 5: 2}\n"
     ]
    }
   ],
   "source": [
    "import os,json\n",
    "\n",
    "subdirs=['jh_tweets','bc_tweets','mw_tweets']\n",
    "\n",
    "jh_tweets = [x for x in os.listdir(os.path.join(os.getcwd(), subdirs[0])) if not x.endswith(\"txt\")]\n",
    "hashtags_dist = {}\n",
    "fav_count_dist = {}\n",
    "retweet_count_dist = {}\n",
    "#stats for retweets?\n",
    "#\n",
    "for tweet_file in jh_tweets:\n",
    "    with open(os.path.join(os.getcwd(),subdirs[0],tweet_file),\"r\") as fh:\n",
    "        tweet_dict = json.loads(fh.read())\n",
    "        #print (type(tweet_dict))\n",
    "        #print(tweet_dict.keys())\n",
    "        hashtags = tweet_dict['entities']['hashtags']\n",
    "        #print(len(hashtags))\n",
    "        if len(hashtags) in hashtags_dist:\n",
    "            hashtags_dist[len(hashtags)] += 1\n",
    "        else:\n",
    "            hashtags_dist[len(hashtags)] = 1\n",
    "        fav_count = tweet_dict['favorite_count']\n",
    "        if len()\n",
    "        retweet_count = tweet_dict['retweet_count']\n",
    "        #print(\"fav_count:{}, retweet_count:{}\".format(fav_count,retweet_count))\n",
    "        \n",
    "print(len(jh_tweets))\n",
    "print(hashtags_dist)"
   ]
  },
  {
   "cell_type": "code",
   "execution_count": null,
   "metadata": {},
   "outputs": [],
   "source": []
  }
 ],
 "metadata": {
  "kernelspec": {
   "display_name": "Python 3",
   "language": "python",
   "name": "python3"
  },
  "language_info": {
   "codemirror_mode": {
    "name": "ipython",
    "version": 3
   },
   "file_extension": ".py",
   "mimetype": "text/x-python",
   "name": "python",
   "nbconvert_exporter": "python",
   "pygments_lexer": "ipython3",
   "version": "3.6.5"
  }
 },
 "nbformat": 4,
 "nbformat_minor": 2
}
