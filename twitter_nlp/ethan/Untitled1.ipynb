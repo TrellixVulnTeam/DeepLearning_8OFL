{
 "cells": [
  {
   "cell_type": "markdown",
   "metadata": {},
   "source": [
    "<h6>NLP1</h6>\n",
    "Improve on document term occurence matrix/one hot encoded vectors for word/document representations\n",
    "with embeddings. The advantage of embeddings over matrix representations followed by dimensionality reduction\n",
    "is embeddings encode word similarity directly without the dimensionsionality reduction step. \n",
    "<img src=\"embed1.png\">\n",
    "If you have the following sentences:\n",
    "<li>Mathematician can run</li>\n",
    "<li>Mathematician likes coffee</li>\n",
    "<li>Mathematician majored in physics</li>\n",
    "<li>Physicst can run</li>\n",
    "<li>Physicst likes coffee</li>\n",
    "<li>Physicst majored in physics</li>\n",
    "We can give each word a vector, a vector for mathematician and one for physicist and we can see the words\n",
    "surrouding these 2 words are similar. \n",
    "<img src=\"embed2.png\">\n",
    "\n",
    "We can use a dot product and cos between the 2 vectors to represent similarity. This concept of word vectors\n",
    "doesn't scale so we use word embeddings which is a mini DL vector. \n"
   ]
  },
  {
   "cell_type": "code",
   "execution_count": 8,
   "metadata": {},
   "outputs": [
    {
     "name": "stdout",
     "output_type": "stream",
     "text": [
      "2823\n"
     ]
    }
   ],
   "source": [
    "import torch\n",
    "import torch.nn as nn\n",
    "import torch.nn.functional as F\n",
    "import torch.optim as optim\n",
    "\n",
    "torch.manual_seed(42)\n",
    "\n",
    "vocab = set()\n",
    "with open('howard.txt','r') as fh:\n",
    "    for x in fh:\n",
    "        #print(x)\n",
    "        vocab = vocab | set(x.split())\n",
    "\n",
    "print (len(vocab))\n",
    "index_to_word= []\n",
    "word_to_index = []\n",
    "#create index to word and word to index mappings\n",
    "for index,word in enumerate(vocab):\n",
    "    index_to_word.append(word)\n",
    "    word_to_index.append(index)\n"
   ]
  },
  {
   "cell_type": "code",
   "execution_count": null,
   "metadata": {},
   "outputs": [],
   "source": []
  }
 ],
 "metadata": {
  "kernelspec": {
   "display_name": "Python 3",
   "language": "python",
   "name": "python3"
  },
  "language_info": {
   "codemirror_mode": {
    "name": "ipython",
    "version": 3
   },
   "file_extension": ".py",
   "mimetype": "text/x-python",
   "name": "python",
   "nbconvert_exporter": "python",
   "pygments_lexer": "ipython3",
   "version": "3.6.1"
  }
 },
 "nbformat": 4,
 "nbformat_minor": 2
}
