{
 "cells": [
  {
   "cell_type": "code",
   "execution_count": 1,
   "metadata": {},
   "outputs": [
    {
     "ename": "ImportError",
     "evalue": "No module named 'spacy'",
     "output_type": "error",
     "traceback": [
      "\u001b[0;31m---------------------------------------------------------------------------\u001b[0m",
      "\u001b[0;31mImportError\u001b[0m                               Traceback (most recent call last)",
      "\u001b[0;32m<ipython-input-1-49e9f2305ee2>\u001b[0m in \u001b[0;36m<module>\u001b[0;34m()\u001b[0m\n\u001b[0;32m----> 1\u001b[0;31m \u001b[0;32mimport\u001b[0m \u001b[0mos\u001b[0m\u001b[0;34m,\u001b[0m\u001b[0msys\u001b[0m\u001b[0;34m,\u001b[0m\u001b[0mspacy\u001b[0m\u001b[0;34m\u001b[0m\u001b[0m\n\u001b[0m\u001b[1;32m      2\u001b[0m \u001b[0;32mimport\u001b[0m \u001b[0mpickle\u001b[0m\u001b[0;34m\u001b[0m\u001b[0m\n\u001b[1;32m      3\u001b[0m \u001b[0;34m\u001b[0m\u001b[0m\n\u001b[1;32m      4\u001b[0m \u001b[0mnlp\u001b[0m \u001b[0;34m=\u001b[0m \u001b[0mspacy\u001b[0m\u001b[0;34m.\u001b[0m\u001b[0mload\u001b[0m\u001b[0;34m(\u001b[0m\u001b[0;34m'en_core_web_lg'\u001b[0m\u001b[0;34m)\u001b[0m\u001b[0;34m\u001b[0m\u001b[0m\n\u001b[1;32m      5\u001b[0m \u001b[0;34m\u001b[0m\u001b[0m\n",
      "\u001b[0;31mImportError\u001b[0m: No module named 'spacy'"
     ]
    }
   ],
   "source": [
    "import os,sys,spacy\n",
    "import pickle\n",
    "\n",
    "nlp = spacy.load('en_core_web_lg')\n",
    "\n",
    "num_doc=0\n",
    "docs = []\n",
    "with open('howard.txt','r') as fh:\n",
    "    for x in fh:\n",
    "        print(x)\n",
    "        docs.append(nlp(x))\n",
    "print(len(docs))\n",
    "\n",
    "with open('docs.pkl', 'wb') as fh:\n",
    "    pickle.dump(docs, fh)"
   ]
  },
  {
   "cell_type": "code",
   "execution_count": 10,
   "metadata": {},
   "outputs": [],
   "source": [
    "\n",
    "\n",
    "\n"
   ]
  },
  {
   "cell_type": "code",
   "execution_count": 6,
   "metadata": {},
   "outputs": [
    {
     "name": "stdout",
     "output_type": "stream",
     "text": [
      "cols:2 rows:1 sim:0.0\n",
      "cols:3 rows:1 sim:1.0\n",
      "cols:4 rows:1 sim:0.0\n",
      "cols:5 rows:1 sim:0.0\n",
      "cols:6 rows:1 sim:0.0\n",
      "cols:7 rows:1 sim:0.0\n",
      "cols:8 rows:1 sim:0.0\n",
      "cols:9 rows:1 sim:1.0\n",
      "cols:1 rows:2 sim:0.0\n",
      "cols:3 rows:2 sim:0.0\n",
      "cols:4 rows:2 sim:0.9797971401261623\n",
      "cols:5 rows:2 sim:0.936298485146582\n",
      "cols:6 rows:2 sim:0.9878016658662806\n",
      "cols:7 rows:2 sim:0.0\n",
      "cols:8 rows:2 sim:0.9398234927406026\n",
      "cols:9 rows:2 sim:0.0\n",
      "cols:1 rows:3 sim:1.0\n",
      "cols:2 rows:3 sim:0.0\n",
      "cols:4 rows:3 sim:0.0\n",
      "cols:5 rows:3 sim:0.0\n",
      "cols:6 rows:3 sim:0.0\n",
      "cols:7 rows:3 sim:0.0\n",
      "cols:8 rows:3 sim:0.0\n",
      "cols:9 rows:3 sim:1.0\n",
      "cols:1 rows:4 sim:0.0\n",
      "cols:2 rows:4 sim:0.9797971401261623\n",
      "cols:3 rows:4 sim:0.0\n",
      "cols:5 rows:4 sim:0.9273621243712156\n",
      "cols:6 rows:4 sim:0.9889337476920611\n",
      "cols:7 rows:4 sim:0.0\n",
      "cols:8 rows:4 sim:0.9498703644905363\n",
      "cols:9 rows:4 sim:0.0\n",
      "cols:1 rows:5 sim:0.0\n",
      "cols:2 rows:5 sim:0.936298485146582\n",
      "cols:3 rows:5 sim:0.0\n",
      "cols:4 rows:5 sim:0.9273621243712156\n",
      "cols:6 rows:5 sim:0.9298443936102327\n",
      "cols:7 rows:5 sim:0.0\n",
      "cols:8 rows:5 sim:0.9100971060217042\n",
      "cols:9 rows:5 sim:0.0\n",
      "cols:1 rows:6 sim:0.0\n",
      "cols:2 rows:6 sim:0.9878016658662806\n",
      "cols:3 rows:6 sim:0.0\n",
      "cols:4 rows:6 sim:0.9889337476920611\n",
      "cols:5 rows:6 sim:0.9298443936102327\n",
      "cols:7 rows:6 sim:0.0\n",
      "cols:8 rows:6 sim:0.9462084887183045\n",
      "cols:9 rows:6 sim:0.0\n",
      "cols:1 rows:7 sim:0.0\n",
      "cols:2 rows:7 sim:0.0\n",
      "cols:3 rows:7 sim:0.0\n",
      "cols:4 rows:7 sim:0.0\n",
      "cols:5 rows:7 sim:0.0\n",
      "cols:6 rows:7 sim:0.0\n",
      "cols:8 rows:7 sim:0.0\n",
      "cols:9 rows:7 sim:0.0\n",
      "cols:1 rows:8 sim:0.0\n",
      "cols:2 rows:8 sim:0.9398234927406026\n",
      "cols:3 rows:8 sim:0.0\n",
      "cols:4 rows:8 sim:0.9498703644905363\n",
      "cols:5 rows:8 sim:0.9100971060217042\n",
      "cols:6 rows:8 sim:0.9462084887183045\n",
      "cols:7 rows:8 sim:0.0\n",
      "cols:9 rows:8 sim:0.0\n",
      "cols:1 rows:9 sim:1.0\n",
      "cols:2 rows:9 sim:0.0\n",
      "cols:3 rows:9 sim:1.0\n",
      "cols:4 rows:9 sim:0.0\n",
      "cols:5 rows:9 sim:0.0\n",
      "cols:6 rows:9 sim:0.0\n",
      "cols:7 rows:9 sim:0.0\n",
      "cols:8 rows:9 sim:0.0\n"
     ]
    }
   ],
   "source": [
    "with open('docs.pkl','r') as fh:\n",
    "    docs = pickle.load(fh)\n",
    "\n",
    "sim = [[0 for x in range(10)] for y in range (10)]\n",
    "for rows in range(1,10):\n",
    "    for cols in range(1,10):\n",
    "        \n",
    "        if rows==cols:\n",
    "            sim[cols][rows]=1\n",
    "        else:\n",
    "            sim[cols][rows] = docs[cols].similarity(docs[rows])\n",
    "            print(\"cols:{} rows:{} sim:{}\".format(cols,rows,sim[cols][rows]))\n"
   ]
  },
  {
   "cell_type": "code",
   "execution_count": null,
   "metadata": {},
   "outputs": [],
   "source": []
  }
 ],
 "metadata": {
  "kernelspec": {
   "display_name": "Python 3",
   "language": "python",
   "name": "python3"
  },
  "language_info": {
   "codemirror_mode": {
    "name": "ipython",
    "version": 3
   },
   "file_extension": ".py",
   "mimetype": "text/x-python",
   "name": "python",
   "nbconvert_exporter": "python",
   "pygments_lexer": "ipython3",
   "version": "3.5.2"
  }
 },
 "nbformat": 4,
 "nbformat_minor": 2
}
