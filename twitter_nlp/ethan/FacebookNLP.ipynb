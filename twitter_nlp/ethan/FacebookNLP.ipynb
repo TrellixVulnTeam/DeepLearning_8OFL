{
 "cells": [
  {
   "cell_type": "code",
   "execution_count": null,
   "metadata": {},
   "outputs": [],
   "source": [
    "From ethan:\n",
    "    Is twitter link useful information or small talk? Sentiment classifier/binary train\n",
    "    If hashtag search get a lot of results\n",
    "    hashtags are a topic, not exhaustive\n",
    "    hashtag search as a lot of results\n",
    "    Reddit sources\n",
    "    Quora: have to scrape data w/browser. Q/A data Rendered on server.\n",
    "    Ethan going to see some company in LA. \n",
    "    Question similarity not very good has to be fast\n",
    "    1 month: automatically tag questions\n",
    "    3 months: general NMT, Neural question or neural answering\n",
    "    6 months: need generative answers done/working/50-100k daily active users\n",
    "    starspace facebook\n",
    "    "
   ]
  }
 ],
 "metadata": {
  "kernelspec": {
   "display_name": "Python 3",
   "language": "python",
   "name": "python3"
  },
  "language_info": {
   "codemirror_mode": {
    "name": "ipython",
    "version": 3
   },
   "file_extension": ".py",
   "mimetype": "text/x-python",
   "name": "python",
   "nbconvert_exporter": "python",
   "pygments_lexer": "ipython3",
   "version": "3.6.1"
  }
 },
 "nbformat": 4,
 "nbformat_minor": 2
}
