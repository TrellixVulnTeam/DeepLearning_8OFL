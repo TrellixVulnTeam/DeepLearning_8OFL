{
 "cells": [
  {
   "cell_type": "markdown",
   "metadata": {},
   "source": [
    "<img src=\"week1/m1.png\">\n",
    "<img src=\"week1/m2.png\">\n",
    "<img src=\"week1/m3.png\">\n",
    "<img src=\"week1/m4.png\">\n",
    "<img src=\"week1/m5.png\">\n",
    "<img src=\"week1/m6.png\">\n",
    "<img src=\"week1/m7.png\">\n",
    "<img src=\"week1/m8.png\">\n",
    "<img src=\"week1/m9.png\">\n",
    "<img src=\"week1/m10.png\">\n",
    "<img src=\"week1/m11.png\">\n",
    "<img src=\"week1/m12.png\">\n",
    "<img src=\"week1/m13.png\">\n",
    "<img src=\"week1/m14.png\">\n",
    "<img src=\"week1/m15.png\">\n",
    "<img src=\"week1/m16.png\">\n"
   ]
  },
  {
   "cell_type": "code",
   "execution_count": null,
   "metadata": {},
   "outputs": [],
   "source": []
  }
 ],
 "metadata": {
  "kernelspec": {
   "display_name": "Python 3",
   "language": "python",
   "name": "python3"
  },
  "language_info": {
   "codemirror_mode": {
    "name": "ipython",
    "version": 3
   },
   "file_extension": ".py",
   "mimetype": "text/x-python",
   "name": "python",
   "nbconvert_exporter": "python",
   "pygments_lexer": "ipython3",
   "version": "3.6.1"
  }
 },
 "nbformat": 4,
 "nbformat_minor": 2
}
