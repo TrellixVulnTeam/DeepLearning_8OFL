{
 "cells": [
  {
   "cell_type": "code",
   "execution_count": null,
   "metadata": {
    "collapsed": true
   },
   "outputs": [],
   "source": [
    "<h6>Outlier detecction</h6>\n",
    "For cleaning data. Grail example\n",
    "#http://scikit-learn.org/stable/auto_examples/applications/plot_outlier_detection_housing.html\n",
    "#sphx-glr-auto-examples-applications-plot-outlier-detection-housing-py\n",
    "http://scikit-learn.org/stable/modules/outlier_detection.html\n",
    "    \n",
    "Simple example if multinomial or binomial datatypes are mixed in with gaussian data like in a biological example\n",
    "for grail. \n",
    "\n"
   ]
  }
 ],
 "metadata": {
  "kernelspec": {
   "display_name": "Python 3",
   "language": "python",
   "name": "python3"
  },
  "language_info": {
   "codemirror_mode": {
    "name": "ipython",
    "version": 3
   },
   "file_extension": ".py",
   "mimetype": "text/x-python",
   "name": "python",
   "nbconvert_exporter": "python",
   "pygments_lexer": "ipython3",
   "version": "3.4.5"
  }
 },
 "nbformat": 4,
 "nbformat_minor": 2
}
