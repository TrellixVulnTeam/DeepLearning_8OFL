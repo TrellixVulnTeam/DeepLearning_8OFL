{
 "cells": [
  {
   "cell_type": "markdown",
   "metadata": {
    "collapsed": true
   },
   "source": [
    "<h6>Random Variables</h6>\n",
    "<p>\n",
    "https://www.countbayesie.com/blog/2015/2/20/random-variables-and-expectation\n",
    "</p>\n",
    "<p>\n",
    "A random variable is something the user assigns to an event. An example of an event is a dice roll. \n",
    "A roll of a color wheel gives a yellow, green or red. \n",
    "</p>\n",
    "<img src=\"randomvar1.png\">\n",
    "The color wheel when spun defines an event space. From looking at the color wheel we can infer the probabilities\n",
    "of each event. \n",
    "<p>$P(yellow)=1/2$</p>\n",
    "<p>$P(red)=1/4$</p>\n",
    "<p>$P(blue)=1/4$</p>\n",
    "<p>\n",
    "Given a set of events, Y,R,R,B,B we can convert these to a number. \n",
    "</p>\n",
    "<p>$X(w)=2$ if yellow</p>\n",
    "<p>$X(w)=1$ if red</p>\n",
    "<p>$X(w)=0$ if blue</p>\n",
    "\n",
    "<p>The act of assignings numbers to a categorical variable creates a random variable. We capitalize random\n",
    "variables and the lower case w refers to the event as part of an event space.</p>\n",
    "\n",
    "<p>In most cases we are not able to infer the probability for the event space. In this case we use the data\n",
    "to define the event space and use the number of occurrences for each event to define the probabilities. This\n",
    "requires large amounts of data for multidimensional data and also requires us to update our probabilities\n",
    "to conform to the total probablity rule as we see new events which are a common occurrence in sparse conditions. \n",
    "</p>"
   ]
  },
  {
   "cell_type": "code",
   "execution_count": null,
   "metadata": {
    "collapsed": true
   },
   "outputs": [],
   "source": [
    "https://ocw.mit.edu/courses/mathematics/18-05-introduction-to-probability-and-statistics-spring-2014/readings/\n",
    "    Wow this is so clear...\n"
   ]
  },
  {
   "cell_type": "code",
   "execution_count": null,
   "metadata": {
    "collapsed": true
   },
   "outputs": [],
   "source": [
    "https://ocw.mit.edu/courses/mathematics/18-05-introduction-to-probability-and-statistics-spring-2014/readings/MIT18_05S14_Reading3.pdf\n",
    "<h6>Conditional Probabiity</h6>\n",
    "Conditional probability answers the question \"how does the probabiltity of an event change when we have extra or\n",
    "new information?\"\n",
    "\n",
    "<p>Example1:: toss a coin 3 times, what is the probability of 3 heads? The entire event space has 8 combinations:\n",
    "            {HHH, HHT, HTH, HTT, THH, THT, TTH, TTT}. All outcomes are equally likely at 1/8. </p>\n",
    "<p>Suppose we are told the first toss was H, this is new information in contrast to the scenario above where\n",
    "we have no information other than there is a fair coin. There is a new reduced sample space bc the first one\n",
    "is H, {HHH, HHT, HTH, HTT}, so the probability is 1/4. This is called conditional probability bc we have the \n",
    "conditon of observing a H first. </p>\n",
    "<p>The conditional probablity is written as </p>\n",
    "$P(A|B)$\n",
    "This is read as the conditional probablity of A given B or the probability of A conditioned on B or the probability\n",
    "of A given B. \n",
    "<img src=\"condprob.png\">\n",
    "\n",
    "<p>The graphical explanation for the conditional probability is the are taken up by the area under A and B divided\n",
    "by the area of B. </p>\n",
    "$P(A|B) = \\frac{P(A \\cap B)}{P(B)}$\n",
    "<p>Redoing the coin example where we want the conditional probablity of A given B, applying the above formula;\n",
    "A = \"3 heads\", B=\"first toss out of 3 is H\", the probability of A or P(A)=1/8, the\n",
    "probability of B, P(B)=1/4. We know $P(A \\cap B)=A = \\frac{1}{8}$  </p>"
   ]
  },
  {
   "cell_type": "code",
   "execution_count": null,
   "metadata": {
    "collapsed": true
   },
   "outputs": [],
   "source": [
    "<h6>Probability Mass Distribuiton for the Discrete case</h6>"
   ]
  },
  {
   "cell_type": "code",
   "execution_count": null,
   "metadata": {
    "collapsed": true
   },
   "outputs": [],
   "source": [
    "<h6>Probability Distribution function for the continuous case</h6>"
   ]
  }
 ],
 "metadata": {
  "kernelspec": {
   "display_name": "Python 3",
   "language": "python",
   "name": "python3"
  },
  "language_info": {
   "codemirror_mode": {
    "name": "ipython",
    "version": 3
   },
   "file_extension": ".py",
   "mimetype": "text/x-python",
   "name": "python",
   "nbconvert_exporter": "python",
   "pygments_lexer": "ipython3",
   "version": "3.5.1"
  }
 },
 "nbformat": 4,
 "nbformat_minor": 2
}
