{
 "cells": [
  {
   "cell_type": "markdown",
   "metadata": {},
   "source": [
    "The squared error cost function for n linear units is:\n",
    "    \n",
    "$$\\frac{1}{2}\\sum\\limits_{i=1}^n(t_i-w_i^Tx)^2$$\n",
    "    \n",
    "where t is a vector of zeros except for 1 in index j. The cross entropy function for a n-way softmax is:\n",
    "    \n",
    "$$-log(\\frac{exp(w^T_jx)}{\\sum\\limits_{i=1}^nexp(w_i^Tx)}) = -w_j^Tx + log(\\sum\\limits_{i=1}^n exp(w_i^Tx)) $$    \n",
    "    \n",
    "n logistic units compute an output of \n",
    "$$\\sigma(w_i^Tx) = \\frac{1}{1+exp(-w_i^Tx)} $$\n",
    "independently for each class i. Cmobining with the squared error: \n",
    "    \n",
    "$$ \\frac{1}{2}\\sum\\limits_{i=1}^n(t_i-\\sigma(w_i^Tx))  $$\n",
    "    \n",
    "t is a vector of zeros with 1 at index j assuming the true class of the example is j. \n",
    "Using this definition for t, the cross entropy error for n logistic units is the sum of the individual\n",
    "cross entropy errors:\n",
    "    \n",
    "    \n",
    "$$-\\sum\\limits_{i=1}^n t_i log(\\sigma(w_i^Tx)) + (1-t_i)log(1-\\sigma(w_i^Tx)) $$\n",
    "    \n"
   ]
  },
  {
   "cell_type": "code",
   "execution_count": null,
   "metadata": {
    "collapsed": true
   },
   "outputs": [],
   "source": [
    "Backpropagation Softmax\n"
   ]
  }
 ],
 "metadata": {
  "anaconda-cloud": {},
  "kernelspec": {
   "display_name": "Python [conda env:tf35]",
   "language": "python",
   "name": "conda-env-tf35-py"
  },
  "language_info": {
   "codemirror_mode": {
    "name": "ipython",
    "version": 3
   },
   "file_extension": ".py",
   "mimetype": "text/x-python",
   "name": "python",
   "nbconvert_exporter": "python",
   "pygments_lexer": "ipython3",
   "version": "3.5.1"
  }
 },
 "nbformat": 4,
 "nbformat_minor": 1
}
