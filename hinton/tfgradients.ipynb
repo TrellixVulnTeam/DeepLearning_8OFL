{
 "cells": [
  {
   "cell_type": "markdown",
   "metadata": {
    "collapsed": true,
    "deletable": true,
    "editable": true
   },
   "source": [
    "<h6>TF to verify gradient calculations</h6>"
   ]
  },
  {
   "cell_type": "code",
   "execution_count": 2,
   "metadata": {
    "collapsed": false,
    "deletable": true,
    "editable": true
   },
   "outputs": [
    {
     "name": "stdout",
     "output_type": "stream",
     "text": [
      "WARNING:tensorflow:From <ipython-input-2-4c751986dded>:12: initialize_all_variables (from tensorflow.python.ops.variables) is deprecated and will be removed after 2017-03-02.\n",
      "Instructions for updating:\n",
      "Use `tf.global_variables_initializer` instead.\n",
      "[<tf.Variable 'x:0' shape=() dtype=float32_ref>]\n",
      "[(12.0, 2.0)]\n",
      "None\n"
     ]
    }
   ],
   "source": [
    "import tensorflow as tf\n",
    "\n",
    "\n",
    "\n",
    "tf.reset_default_graph()\n",
    "x=tf.Variable(2.0,name=\"x\")\n",
    "loss = tf.pow(x,3)\n",
    "optimizer = tf.train.GradientDescentOptimizer(.01)\n",
    "grads = tf.gradients(loss,x)\n",
    "grads = list(zip(grads, tf.trainable_variables()))\n",
    "apply_me = optimizer.apply_gradients(grads)\n",
    "init = tf.initialize_all_variables()\n",
    "\n",
    "with tf.Session() as sess:\n",
    "    sess.run(init)\n",
    "    print(tf.trainable_variables())\n",
    "    print(sess.run(grads))\n",
    "    print(sess.run(apply_me))\n",
    "    \n",
    "    "
   ]
  },
  {
   "cell_type": "code",
   "execution_count": 3,
   "metadata": {
    "collapsed": false,
    "deletable": true,
    "editable": true
   },
   "outputs": [
    {
     "ename": "NameError",
     "evalue": "name 'x' is not defined",
     "output_type": "error",
     "traceback": [
      "\u001b[0;31m-------------------------------------------------------------\u001b[0m",
      "\u001b[0;31mNameError\u001b[0m                   Traceback (most recent call last)",
      "\u001b[0;32m<ipython-input-3-060e237b49dd>\u001b[0m in \u001b[0;36m<module>\u001b[0;34m()\u001b[0m\n\u001b[1;32m     12\u001b[0m \u001b[0;34m\u001b[0m\u001b[0m\n\u001b[1;32m     13\u001b[0m \u001b[0moptimizer\u001b[0m \u001b[0;34m=\u001b[0m \u001b[0mtf\u001b[0m\u001b[0;34m.\u001b[0m\u001b[0mtrain\u001b[0m\u001b[0;34m.\u001b[0m\u001b[0mGradientDescentOptimizer\u001b[0m\u001b[0;34m(\u001b[0m\u001b[0;36m.01\u001b[0m\u001b[0;34m)\u001b[0m\u001b[0;34m\u001b[0m\u001b[0m\n\u001b[0;32m---> 14\u001b[0;31m \u001b[0mgrads\u001b[0m \u001b[0;34m=\u001b[0m \u001b[0mtf\u001b[0m\u001b[0;34m.\u001b[0m\u001b[0mgradients\u001b[0m\u001b[0;34m(\u001b[0m\u001b[0mloss\u001b[0m\u001b[0;34m,\u001b[0m\u001b[0mx\u001b[0m\u001b[0;34m)\u001b[0m\u001b[0;34m\u001b[0m\u001b[0m\n\u001b[0m\u001b[1;32m     15\u001b[0m \u001b[0mgrads\u001b[0m \u001b[0;34m=\u001b[0m \u001b[0mlist\u001b[0m\u001b[0;34m(\u001b[0m\u001b[0mzip\u001b[0m\u001b[0;34m(\u001b[0m\u001b[0mgrads\u001b[0m\u001b[0;34m,\u001b[0m \u001b[0mtf\u001b[0m\u001b[0;34m.\u001b[0m\u001b[0mtrainable_variables\u001b[0m\u001b[0;34m(\u001b[0m\u001b[0;34m)\u001b[0m\u001b[0;34m)\u001b[0m\u001b[0;34m)\u001b[0m\u001b[0;34m\u001b[0m\u001b[0m\n\u001b[1;32m     16\u001b[0m \u001b[0mapply_me\u001b[0m \u001b[0;34m=\u001b[0m \u001b[0moptimizer\u001b[0m\u001b[0;34m.\u001b[0m\u001b[0mapply_gradients\u001b[0m\u001b[0;34m(\u001b[0m\u001b[0mgrads\u001b[0m\u001b[0;34m)\u001b[0m\u001b[0;34m\u001b[0m\u001b[0m\n",
      "\u001b[0;31mNameError\u001b[0m: name 'x' is not defined"
     ]
    }
   ],
   "source": [
    "import tensorflow as tf\n",
    "\n",
    "x1 = tf.Variable(0.1,name=\"x1\")\n",
    "x2 = tf.Variable(0.3,name=\"x2\")\n",
    "w1 = tf.Variable(0.4,name=\"w1\")\n",
    "w2 = tf.Variable(-0.2,name=\"w2\")\n",
    "w3 = tf.Variable(0.1,name=\"w3\")\n",
    "y = tf.add(tf.multiply(x1,w1),tf.multiply(x2,w2))\n",
    "layer1 = tf.sigmoid(y, name=\"layer1\")\n",
    "layer2 = tf.sigmoid(tf.multiply(layer1,w3),name=\"layer2\")\n",
    "loss = layer2\n",
    "\n",
    "optimizer = tf.train.GradientDescentOptimizer(.01)\n",
    "grads = tf.gradients(loss,x)\n",
    "grads = list(zip(grads, tf.trainable_variables()))\n",
    "apply_me = optimizer.apply_gradients(grads)\n",
    "init = tf.initialize_all_variables()\n",
    "\n",
    "with tf.Session() as sess:\n",
    "    sess.run(init)\n",
    "    print(tf.trainable_variables())\n",
    "    print(sess.run(grads))\n",
    "    print(sess.run(apply_me))\n",
    "    \n",
    "#this is funny... need to do the feed_dict crap..."
   ]
  },
  {
   "cell_type": "code",
   "execution_count": 15,
   "metadata": {
    "collapsed": false,
    "deletable": true,
    "editable": true
   },
   "outputs": [
    {
     "name": "stdout",
     "output_type": "stream",
     "text": [
      "[[ 0.1       ]\n",
      " [ 0.30000001]]\n",
      "-----------\n",
      "[[ 0.40000001  0.        ]\n",
      " [ 0.         -0.2       ]]\n",
      "-----------\n",
      "[[-0.2]]\n"
     ]
    }
   ],
   "source": [
    "import tensorflow as tf\n",
    "\n",
    "x = tf.placeholder(tf.float32, shape=[2,1], name=\"x\")\n",
    "y = tf.placeholder(tf.float32, shape=[1,1], name=\"y\")\n",
    "\n",
    "x_input = [0.1,0.3]\n",
    "w1_input = [0.4,0,0,-0.2]\n",
    "w2_input = [-0.2]\n",
    "\n",
    "\n",
    "x_init = tf.constant_initializer(x_input)\n",
    "w1_init = tf.constant_initializer(w1_input)\n",
    "w2_init = tf.constant_initializer(w2_input)\n",
    "\n",
    "tf.reset_default_graph()\n",
    "with tf.Session() :\n",
    "    x = tf.get_variable('x', shape = [2, 1], initializer = x_init)\n",
    "    w1 = tf.get_variable('w1', shape = [2, 2], initializer = w1_init)\n",
    "    w2 = tf.get_variable('w2', shape = [1, 1], initializer = w2_init)\n",
    "    \n",
    "    x.initializer.run()\n",
    "    w1.initializer.run()\n",
    "    w2.initializer.run()\n",
    "    \n",
    "    print(x.eval())\n",
    "    print('-----------')\n",
    "    print(w1.eval())\n",
    "    print('-----------')\n",
    "    print(w2.eval())\n",
    "    \n",
    "Bias1 = tf.Variable(tf.zeros([2]), name=\"Bias1\")\n",
    "Bias2 = tf.Variable(tf.zeros([1]), name=\"Bias2\")\n"
   ]
  },
  {
   "cell_type": "code",
   "execution_count": 17,
   "metadata": {
    "collapsed": true,
    "deletable": true,
    "editable": true
   },
   "outputs": [],
   "source": [
    "#layer1 = tf.sigmoid(tf.matmul(w1,x) + Bias1)\n",
    "#Hypothesis = tf.sigmoid(tf.matmul(layer1, w2) + Bias2)\n",
    "layer1 = tf.sigmoid(tf.matmul(w1,x) )\n",
    "Hypothesis = tf.sigmoid(tf.matmul(layer1, w2) )\n"
   ]
  },
  {
   "cell_type": "code",
   "execution_count": null,
   "metadata": {
    "collapsed": true,
    "deletable": true,
    "editable": true
   },
   "outputs": [],
   "source": []
  }
 ],
 "metadata": {
  "kernelspec": {
   "display_name": "Python 3",
   "language": "python",
   "name": "python3"
  },
  "language_info": {
   "codemirror_mode": {
    "name": "ipython",
    "version": 3
   },
   "file_extension": ".py",
   "mimetype": "text/x-python",
   "name": "python",
   "nbconvert_exporter": "python",
   "pygments_lexer": "ipython3",
   "version": "3.4.5"
  }
 },
 "nbformat": 4,
 "nbformat_minor": 2
}
