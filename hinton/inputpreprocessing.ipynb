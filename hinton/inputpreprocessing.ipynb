{
 "cells": [
  {
   "cell_type": "code",
   "execution_count": null,
   "metadata": {
    "collapsed": true
   },
   "outputs": [],
   "source": [
    "import numpy as np\n",
    "\n",
    "Add this after SGD lecture\n",
    "To improve NN performance\n",
    "\n",
    "\n",
    "1) mean of 0, unit variance for input images for SGD performance\n",
    "2) Decorrelate input using PCA. Is this the same as whitening? \n",
    "\n",
    "\n",
    "<img src=\"inputpp1.png\" >"
   ]
  },
  {
   "cell_type": "markdown",
   "metadata": {},
   "source": [
    "<img src = \"inputpp2.png\">\n",
    "<img src = \"inputpp3.png\">\n",
    "<img src = \"inputpp4.png\">\n",
    "<img src = \"inputpp5.png\">\n"
   ]
  },
  {
   "cell_type": "code",
   "execution_count": null,
   "metadata": {
    "collapsed": true
   },
   "outputs": [],
   "source": [
    "Experiment show SGD performance with non averaged 0 and non unit variance performance through simple \n",
    "multilayer perceptron\n",
    "Show non circle; show gradient performance? Does it get stuck? "
   ]
  }
 ],
 "metadata": {
  "anaconda-cloud": {},
  "kernelspec": {
   "display_name": "Python [conda env:tf35]",
   "language": "python",
   "name": "conda-env-tf35-py"
  },
  "language_info": {
   "codemirror_mode": {
    "name": "ipython",
    "version": 3
   },
   "file_extension": ".py",
   "mimetype": "text/x-python",
   "name": "python",
   "nbconvert_exporter": "python",
   "pygments_lexer": "ipython3",
   "version": "3.5.1"
  }
 },
 "nbformat": 4,
 "nbformat_minor": 1
}
