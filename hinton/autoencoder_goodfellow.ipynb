{
 "cells": [
  {
   "cell_type": "code",
   "execution_count": null,
   "metadata": {
    "collapsed": true
   },
   "outputs": [],
   "source": [
    "<h6>Goodfellow et al book Autoencoders</h6>\n",
    "<p>http://www.deeplearningbook.org/contents/autoencoders.html</p>\n",
    "<p>One of the problems with AEs are they learn the identity function. There are variants\n",
    "of AEs to help solve this problem.</p>\n",
    "\n",
    "http://ufldl.stanford.edu/tutorial/unsupervised/Autoencoders/\n",
    "\n",
    "<h6>Variational AE</h6>\n",
    "https://jaan.io/what-is-variational-autoencoder-vae-tutorial/\n"
   ]
  }
 ],
 "metadata": {
  "kernelspec": {
   "display_name": "Python 3",
   "language": "python",
   "name": "python3"
  },
  "language_info": {
   "codemirror_mode": {
    "name": "ipython",
    "version": 3
   },
   "file_extension": ".py",
   "mimetype": "text/x-python",
   "name": "python",
   "nbconvert_exporter": "python",
   "pygments_lexer": "ipython3",
   "version": "3.5.1"
  }
 },
 "nbformat": 4,
 "nbformat_minor": 2
}
