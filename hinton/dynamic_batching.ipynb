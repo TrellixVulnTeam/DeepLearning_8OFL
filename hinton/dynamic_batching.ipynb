{
 "cells": [
  {
   "cell_type": "code",
   "execution_count": null,
   "metadata": {
    "collapsed": true
   },
   "outputs": [],
   "source": [
    "#https://medium.com/@ilblackdragon/pytorch-dynamic-batching-f4df3dbe09ef\n",
    "\n",
    "Torch allows for changing the topography of the graph during runtime. You can add or delete nodes/edges\n",
    "as the batches are training. This is not possible with TF. TF allows the user to build the graph then the trainign\n",
    "is run over a defined graph which does not change. \n",
    "\n",
    "There are advantages to dynamic graphs. \n",
    "\n",
    "\n"
   ]
  }
 ],
 "metadata": {
  "kernelspec": {
   "display_name": "Python 3",
   "language": "python",
   "name": "python3"
  },
  "language_info": {
   "codemirror_mode": {
    "name": "ipython",
    "version": 3
   },
   "file_extension": ".py",
   "mimetype": "text/x-python",
   "name": "python",
   "nbconvert_exporter": "python",
   "pygments_lexer": "ipython3",
   "version": "3.5.1"
  }
 },
 "nbformat": 4,
 "nbformat_minor": 2
}
