{
 "cells": [
  {
   "cell_type": "code",
   "execution_count": null,
   "metadata": {
    "collapsed": true
   },
   "outputs": [],
   "source": [
    "import numpy  as np\n",
    "\n",
    "class linear_xor(object):\n",
    "    def __init__(self,in1,in2,w1,w2 out, learning_rate):\n",
    "        self.in1 = in1\n",
    "        self.in2 = in2\n",
    "        self.output_nodes = out\n",
    "        self.learning_rate = learning_rate\n",
    "        self.w1=w1\n",
    "        self.w2=w2\n",
    "        \n",
    "    def y_output(x,w):\n",
    "        out1 = x[0]*w[0]\n",
    "        out2 = x[1]*w[1]\n",
    "        out = out1+out2\n",
    "        return out\n",
    "    t=[0,0,1,1]\n",
    "    x=[[0,0],[0,1],[1,0],[1,1]]\n",
    "    w=[0,0]\n",
    "    def train():\n",
    "        for in in range(1000):\n",
    "            for i in range(len(t))\n",
    "                deltaw = learning_rate*(t[i]-y_output(x[i],w))\n",
    "                print ('deltaw:', deltaw)\n",
    "                "
   ]
  }
 ],
 "metadata": {
  "kernelspec": {
   "display_name": "Python 3",
   "language": "python",
   "name": "python3"
  },
  "language_info": {
   "codemirror_mode": {
    "name": "ipython",
    "version": 3
   },
   "file_extension": ".py",
   "mimetype": "text/x-python",
   "name": "python",
   "nbconvert_exporter": "python",
   "pygments_lexer": "ipython3",
   "version": "3.5.1"
  }
 },
 "nbformat": 4,
 "nbformat_minor": 2
}
