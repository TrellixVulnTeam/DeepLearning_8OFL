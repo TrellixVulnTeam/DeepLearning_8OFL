{
 "cells": [
  {
   "cell_type": "code",
   "execution_count": null,
   "metadata": {
    "collapsed": true
   },
   "outputs": [],
   "source": [
    "Plot the weight histogram for \n",
    "1) L2\n",
    "2) L1\n",
    "3) weight noise\n",
    "4) none\n",
    "Per hinton Week9 quiz question\n"
   ]
  },
  {
   "cell_type": "code",
   "execution_count": 5,
   "metadata": {
    "collapsed": false
   },
   "outputs": [
    {
     "name": "stdout",
     "output_type": "stream",
     "text": [
      "X_train shape: (60000, 28, 28)  y_train shape: (60000,)\n",
      "X_train shape: (10000, 28, 28)  y_train shape: (10000,)\n",
      "X_train shape: (60000, 784)  y_train shape: (60000, 10)\n",
      "X_train shape: (10000, 784)  y_train shape: (10000, 10)\n"
     ]
    }
   ],
   "source": [
    "import numpy as np\n",
    "import tensorflow as tf\n",
    "import keras as K\n",
    "from keras.layers import Conv2D, MaxPooling2D\n",
    "from keras.datasets import mnist\n",
    "from keras.utils import np_utils\n",
    "from keras.layers import Activation,Dense,Dropout\n",
    "from keras.models import Sequential\n",
    "\n",
    "\n",
    "\n",
    "(X_train, y_train),(X_test, y_test) = mnist.load_data()\n",
    "\n",
    "print(\"X_train shape:\",X_train.shape,\" y_train shape:\", y_train.shape)\n",
    "print(\"X_train shape:\",X_test.shape,\" y_train shape:\", y_test.shape)\n",
    "\n",
    "\n",
    "#reshape 28x28 to 768\n",
    "X_train = X_train.reshape(X_train.shape[0], X_train.shape[1]*X_train.shape[2])\n",
    "X_test = X_test.reshape(X_test.shape[0], X_test.shape[1]*X_test.shape[2])\n",
    "\n",
    "y_train = np_utils.to_categorical(y_train)\n",
    "y_test = np_utils.to_categorical(y_test)\n",
    "\n",
    "print(\"X_train shape:\",X_train.shape,\" y_train shape:\", y_train.shape)\n",
    "print(\"X_train shape:\",X_test.shape,\" y_train shape:\", y_test.shape)\n",
    "\n",
    "\n",
    "model = Sequential()\n",
    "model.add(Dense(512, input_shape=(784,)))\n",
    "\n",
    "\n",
    "\n"
   ]
  },
  {
   "cell_type": "code",
   "execution_count": null,
   "metadata": {
    "collapsed": true
   },
   "outputs": [],
   "source": []
  }
 ],
 "metadata": {
  "anaconda-cloud": {},
  "kernelspec": {
   "display_name": "Python [conda env:tf35]",
   "language": "python",
   "name": "conda-env-tf35-py"
  },
  "language_info": {
   "codemirror_mode": {
    "name": "ipython",
    "version": 3
   },
   "file_extension": ".py",
   "mimetype": "text/x-python",
   "name": "python",
   "nbconvert_exporter": "python",
   "pygments_lexer": "ipython3",
   "version": "3.5.1"
  }
 },
 "nbformat": 4,
 "nbformat_minor": 1
}
