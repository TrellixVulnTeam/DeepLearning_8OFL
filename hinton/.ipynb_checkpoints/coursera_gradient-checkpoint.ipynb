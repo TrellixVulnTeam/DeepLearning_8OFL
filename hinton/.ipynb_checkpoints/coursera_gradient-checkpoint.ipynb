{
 "cells": [
  {
   "cell_type": "code",
   "execution_count": null,
   "metadata": {
    "collapsed": true
   },
   "outputs": [],
   "source": [
    "\n",
    ">> save -6 dt_test_input.mat dt_test_input;\n",
    ">> save -6 dt_test_target.mat dt_test_target;\n",
    ">> save -6 dt_valid_target.mat dt_valid_target;\n",
    ">> save -6 dt_valid_input.mat dt_valid_input;\n",
    ">> save -6 dt_train_target.mat dt_train_target;\n",
    ">> save -6 dt_train_input.mat dt_train_input;"
   ]
  },
  {
   "cell_type": "code",
   "execution_count": 6,
   "metadata": {
    "collapsed": false
   },
   "outputs": [
    {
     "data": {
      "text/plain": [
       "(256, 9000)"
      ]
     },
     "execution_count": 6,
     "metadata": {},
     "output_type": "execute_result"
    }
   ],
   "source": [
    "import numpy as np\n",
    "import scipy.io as sio\n",
    "\n",
    "dt_test_input_mat = sio.loadmat('assignment3/dt_test_input.mat')\n",
    "dt_test_input = dt_test_input_mat['dt_test_input']\n",
    "dt_test_input.shape\n"
   ]
  },
  {
   "cell_type": "code",
   "execution_count": null,
   "metadata": {
    "collapsed": true
   },
   "outputs": [],
   "source": []
  }
 ],
 "metadata": {
  "anaconda-cloud": {},
  "kernelspec": {
   "display_name": "Python [conda env:tf35]",
   "language": "python",
   "name": "conda-env-tf35-py"
  },
  "language_info": {
   "codemirror_mode": {
    "name": "ipython",
    "version": 3
   },
   "file_extension": ".py",
   "mimetype": "text/x-python",
   "name": "python",
   "nbconvert_exporter": "python",
   "pygments_lexer": "ipython3",
   "version": "3.5.1"
  }
 },
 "nbformat": 4,
 "nbformat_minor": 1
}
