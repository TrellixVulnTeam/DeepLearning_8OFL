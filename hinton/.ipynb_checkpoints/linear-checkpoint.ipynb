{
 "cells": [
  {
   "cell_type": "code",
   "execution_count": 22,
   "metadata": {},
   "outputs": [
    {
     "name": "stdout",
     "output_type": "stream",
     "text": [
      "w_init shape: (3,)\n",
      "[-0.80857  0.83721]\n",
      "x.shape: (2,)\n",
      "x.T shape: (2,)\n",
      "self.w shape: (3,)\n"
     ]
    },
    {
     "ename": "ValueError",
     "evalue": "operands could not be broadcast together with shapes (2,) (3,) ",
     "output_type": "error",
     "traceback": [
      "\u001b[0;31m---------------------------------------------------------------------------\u001b[0m",
      "\u001b[0;31mValueError\u001b[0m                                Traceback (most recent call last)",
      "\u001b[0;32m<ipython-input-22-d50fdaa78247>\u001b[0m in \u001b[0;36m<module>\u001b[0;34m()\u001b[0m\n\u001b[1;32m     62\u001b[0m \u001b[0mperc\u001b[0m\u001b[0;34m.\u001b[0m\u001b[0msetExamples\u001b[0m\u001b[0;34m(\u001b[0m\u001b[0mneg_examples\u001b[0m\u001b[0;34m,\u001b[0m\u001b[0mpos_examples\u001b[0m\u001b[0;34m)\u001b[0m\u001b[0;34m\u001b[0m\u001b[0m\n\u001b[1;32m     63\u001b[0m \u001b[0mperc\u001b[0m\u001b[0;34m.\u001b[0m\u001b[0msetWeight\u001b[0m\u001b[0;34m(\u001b[0m\u001b[0mw_init\u001b[0m\u001b[0;34m)\u001b[0m\u001b[0;34m\u001b[0m\u001b[0m\n\u001b[0;32m---> 64\u001b[0;31m \u001b[0mperc\u001b[0m\u001b[0;34m.\u001b[0m\u001b[0miterate\u001b[0m\u001b[0;34m(\u001b[0m\u001b[0;34m)\u001b[0m\u001b[0;34m\u001b[0m\u001b[0m\n\u001b[0m",
      "\u001b[0;32m<ipython-input-22-d50fdaa78247>\u001b[0m in \u001b[0;36miterate\u001b[0;34m(self)\u001b[0m\n\u001b[1;32m     27\u001b[0m             \u001b[0mprint\u001b[0m \u001b[0;34m(\u001b[0m\u001b[0;34m'x.T shape:'\u001b[0m\u001b[0;34m,\u001b[0m\u001b[0mx\u001b[0m\u001b[0;34m.\u001b[0m\u001b[0mT\u001b[0m\u001b[0;34m.\u001b[0m\u001b[0mshape\u001b[0m\u001b[0;34m)\u001b[0m\u001b[0;34m\u001b[0m\u001b[0m\n\u001b[1;32m     28\u001b[0m             \u001b[0mprint\u001b[0m \u001b[0;34m(\u001b[0m\u001b[0;34m'self.w shape:'\u001b[0m\u001b[0;34m,\u001b[0m \u001b[0mself\u001b[0m\u001b[0;34m.\u001b[0m\u001b[0mw\u001b[0m\u001b[0;34m.\u001b[0m\u001b[0mshape\u001b[0m\u001b[0;34m)\u001b[0m\u001b[0;34m\u001b[0m\u001b[0m\n\u001b[0;32m---> 29\u001b[0;31m             \u001b[0mactivation\u001b[0m \u001b[0;34m=\u001b[0m \u001b[0mx\u001b[0m\u001b[0;34m.\u001b[0m\u001b[0mT\u001b[0m \u001b[0;34m*\u001b[0m \u001b[0mself\u001b[0m\u001b[0;34m.\u001b[0m\u001b[0mw\u001b[0m\u001b[0;34m\u001b[0m\u001b[0m\n\u001b[0m\u001b[1;32m     30\u001b[0m             \u001b[0mprint\u001b[0m \u001b[0;34m(\u001b[0m\u001b[0;34m'neg activation:'\u001b[0m\u001b[0;34m,\u001b[0m \u001b[0mactivation\u001b[0m\u001b[0;34m)\u001b[0m\u001b[0;34m\u001b[0m\u001b[0m\n\u001b[1;32m     31\u001b[0m             \u001b[0;32mif\u001b[0m \u001b[0mactivation\u001b[0m \u001b[0;34m>\u001b[0m \u001b[0;36m0\u001b[0m\u001b[0;34m:\u001b[0m\u001b[0;34m\u001b[0m\u001b[0m\n",
      "\u001b[0;31mValueError\u001b[0m: operands could not be broadcast together with shapes (2,) (3,) "
     ]
    }
   ],
   "source": [
    "import numpy as np\n",
    "\n",
    "\n",
    "class perceptron:\n",
    "    \n",
    "    def __init__(self):\n",
    "        self.x=0\n",
    "        self.weight=0\n",
    "        self.neg = 0\n",
    "        self.pos = 0\n",
    "        \n",
    "    def setExamples(self,n,p):\n",
    "        self.neg=n\n",
    "        self.pos=p\n",
    "        \n",
    "    def setX(self,input):\n",
    "        self.x = input\n",
    "    \n",
    "    def setWeight(self,weight):\n",
    "        self.w = weight\n",
    "    \n",
    "    def iterate(self):\n",
    "        for i in range(len(self.neg)):\n",
    "            print (self.neg[i])\n",
    "            x = np.array(self.neg[i])\n",
    "            print ('x.shape:',x.shape)\n",
    "            print ('x.T shape:',x.T.shape)\n",
    "            print ('self.w shape:', self.w.shape)\n",
    "            activation = x.T * self.w\n",
    "            print ('neg activation:', activation)\n",
    "            if activation > 0:\n",
    "                print('activation < 0 updating weights')\n",
    "                deltaw = x*(0-activation);\n",
    "                print('neg_examples w before update:\\t', w);\n",
    "                w = w + deltaw;\n",
    "                print('neg_examples deltaw:\\t', deltaw, '\\n');\n",
    "                print('neg_examples after update w:\\t', w, '\\n');\n",
    "        \n",
    "        print(\"\\n\")\n",
    "        \n",
    "        for i in range(len(self.pos)):\n",
    "            print (self.pos[i])\n",
    "            \n",
    "    \n",
    "   \n",
    "  \n",
    "\n",
    "   \n",
    "            \n",
    "pos_examples = np.array([[0.871429,0.624585,1],[ -0.020000,-0.923588,1],\n",
    "                         [0.362857,-0.318937,1],[0.888571,-0.870432,1]])\n",
    "\n",
    "neg_examples = np.array([[-0.80857,0.83721,1],[0.35714,0.85050,1],\n",
    "                         [-0.75143,-0.73090,1],[-0.30000,0.12625,1]\n",
    "                        ])\n",
    "\n",
    "\n",
    "\n",
    "w_init = np.array([-0.62170,0.76092,0.77187])\n",
    "print ('w_init shape:',w_init.shape)\n",
    "perc = perceptron()\n",
    "perc.setExamples(neg_examples,pos_examples)\n",
    "perc.setWeight(w_init)\n",
    "perc.iterate()"
   ]
  },
  {
   "cell_type": "code",
   "execution_count": null,
   "metadata": {
    "collapsed": true
   },
   "outputs": [],
   "source": []
  }
 ],
 "metadata": {
  "kernelspec": {
   "display_name": "Python 3",
   "language": "python",
   "name": "python3"
  },
  "language_info": {
   "codemirror_mode": {
    "name": "ipython",
    "version": 3
   },
   "file_extension": ".py",
   "mimetype": "text/x-python",
   "name": "python",
   "nbconvert_exporter": "python",
   "pygments_lexer": "ipython3",
   "version": "3.5.1"
  }
 },
 "nbformat": 4,
 "nbformat_minor": 2
}
