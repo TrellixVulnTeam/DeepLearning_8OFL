{
 "cells": [
  {
   "cell_type": "code",
   "execution_count": null,
   "metadata": {
    "collapsed": true
   },
   "outputs": [],
   "source": [
    "karpathy and ng do a good job of visualizing the convolutions; how they slide across an input window to compute \n",
    "the first layer of convolutions. There is less explanation how how to add layers and what this really does\n",
    "\n",
    "\n",
    "<img src=\"cnn1.png\">\n",
    "<img src=\"cnn2.png\">\n",
    "<img src=\"cnn3.png\">\n",
    "<img src=\"cnn4.png\">\n",
    "<img src=\"cnn5.png\">\n",
    "<img src=\"cnn6.png\">\n",
    "<img src=\"cnn7.png\">\n",
    "<img src=\"cnn8.png\">\n",
    "<img src=\"cnn9.png\">\n",
    "<img src=\"cnn10.png\">\n",
    "<img src=\"cnn11.png\">\n",
    "\n",
    "\n",
    "\n"
   ]
  },
  {
   "cell_type": "code",
   "execution_count": null,
   "metadata": {
    "collapsed": true
   },
   "outputs": [],
   "source": []
  }
 ],
 "metadata": {
  "anaconda-cloud": {},
  "kernelspec": {
   "display_name": "Python [conda env:tf35]",
   "language": "python",
   "name": "conda-env-tf35-py"
  },
  "language_info": {
   "codemirror_mode": {
    "name": "ipython",
    "version": 3
   },
   "file_extension": ".py",
   "mimetype": "text/x-python",
   "name": "python",
   "nbconvert_exporter": "python",
   "pygments_lexer": "ipython3",
   "version": "3.5.1"
  }
 },
 "nbformat": 4,
 "nbformat_minor": 1
}
