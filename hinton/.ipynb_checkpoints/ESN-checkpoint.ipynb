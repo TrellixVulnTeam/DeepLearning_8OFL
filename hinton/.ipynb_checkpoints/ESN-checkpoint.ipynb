{
 "cells": [
  {
   "cell_type": "code",
   "execution_count": null,
   "metadata": {
    "collapsed": true
   },
   "outputs": [],
   "source": [
    "#echo state networks, precursor to RNNs. \n",
    "#https://github.com/m-colombo/Tensorflow-EchoStateNetwork/blob/master/esn_cell.py\n",
    "\n",
    " http://www.faculty.jacobs-university.de/hjaeger/pubs/EchoStatesTechRep.pdf\n",
    "\n",
    "#similar in development to autoencoders, this tries to echo the input using a RNN\n",
    "\n",
    "\n",
    "\n"
   ]
  }
 ],
 "metadata": {
  "kernelspec": {
   "display_name": "Python 3",
   "language": "python",
   "name": "python3"
  },
  "language_info": {
   "codemirror_mode": {
    "name": "ipython",
    "version": 3
   },
   "file_extension": ".py",
   "mimetype": "text/x-python",
   "name": "python",
   "nbconvert_exporter": "python",
   "pygments_lexer": "ipython3",
   "version": "3.5.1"
  }
 },
 "nbformat": 4,
 "nbformat_minor": 2
}
