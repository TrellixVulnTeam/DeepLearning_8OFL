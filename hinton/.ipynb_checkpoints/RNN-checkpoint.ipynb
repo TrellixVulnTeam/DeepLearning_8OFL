{
 "cells": [
  {
   "cell_type": "code",
   "execution_count": null,
   "metadata": {
    "collapsed": true
   },
   "outputs": [],
   "source": [
    "RNN for MNIST classification\n",
    "RNN, bidirectional RNN for MNIST classification\n",
    "why is bidirectional better? \n",
    "what is windowed RNN? Why/when would this be better?\n",
    "\n"
   ]
  },
  {
   "cell_type": "code",
   "execution_count": null,
   "metadata": {
    "collapsed": true
   },
   "outputs": [],
   "source": [
    "import os\n",
    "import numpy as np\n",
    "import tensorflow as tf\n",
    "from tensorflow.python.ops import rnn,rnn_cell\n",
    "from tensorflow.examples.tutorials.mnist import input_data\n",
    "\n",
    "n_input = 28\n",
    "n_steps = 100\n",
    "n_hidden=128\n",
    "n_classes = 10\n",
    "\n",
    "def run_model(x, weights, biases):\n",
    "    x = tf.transpose(x,[1,0,2])\n",
    "    x = tf reshape(x,[-1,n_input])\n",
    "    x = tf.split(0,n_steps,x)\n",
    "    lstm_cell = rnn_cell.BasicLSTMCell(n_hidden, forget_bias=1.0)\n",
    "    outputs, states = rnn.rnn(lstm_cell, x,dtype=tf.float32)\n",
    "    return tf.matmul(outputs[-1], weights) + biases\n",
    "\n",
    "def train():\n",
    "    \"\"\"\n",
    "    \n",
    "    \"\"\"\n",
    "    mnist = input_data.read_data_sets(\"/MNIST_data\",one_hot = True)\n",
    "    x = tf.placeholder(tf.float32,[None,n_steps,n_input],name=\"x\")\n",
    "    y = tf.placeholder(tf.float32,[None,n_classes],name=\"y\")\n",
    "    \n",
    "    weights = tf.Variable(tf.random_normal([n_hidden, n_classes]),name=\"weights\")\n",
    "    biases = tf.Variable(tf.random_normal([n_classes]), name=\"biases\")\n",
    "    \n",
    "    pred = rnn_model(x,weights, biases)\n",
    "    cost = tf.reduce_mean(tf.nn.softmax_cross_entropy_with_logits(pred,y))\n",
    "    optimizer = tf.train.AdamOptimizer(learning_rate=0.001).minimize(cost)\n",
    "    \n",
    "    correct_pred = tf.equal(tf.argmax(pred,1), tf.argmax(y,1))\n",
    "    accuracy = tf.reduce_mean(tf.cast(correct_pred, tf.float32))\n",
    "    \n",
    "    \n",
    "    \n",
    "    "
   ]
  }
 ],
 "metadata": {
  "anaconda-cloud": {},
  "kernelspec": {
   "display_name": "Python [conda env:tf35]",
   "language": "python",
   "name": "conda-env-tf35-py"
  },
  "language_info": {
   "codemirror_mode": {
    "name": "ipython",
    "version": 3
   },
   "file_extension": ".py",
   "mimetype": "text/x-python",
   "name": "python",
   "nbconvert_exporter": "python",
   "pygments_lexer": "ipython3",
   "version": "3.5.1"
  }
 },
 "nbformat": 4,
 "nbformat_minor": 1
}
