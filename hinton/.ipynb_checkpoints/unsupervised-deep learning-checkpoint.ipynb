{
 "cells": [
  {
   "cell_type": "code",
   "execution_count": null,
   "metadata": {
    "collapsed": true
   },
   "outputs": [],
   "source": [
    "Unsupervised methods\n",
    "knn for mnist classification, stacked autoencoders for classification\n"
   ]
  },
  {
   "cell_type": "code",
   "execution_count": 2,
   "metadata": {
    "collapsed": false
   },
   "outputs": [
    {
     "name": "stdout",
     "output_type": "stream",
     "text": [
      "Extracting MNIST_data/train-images-idx3-ubyte.gz\n",
      "Extracting MNIST_data/train-labels-idx1-ubyte.gz\n",
      "Extracting MNIST_data/t10k-images-idx3-ubyte.gz\n",
      "Extracting MNIST_data/t10k-labels-idx1-ubyte.gz\n"
     ]
    }
   ],
   "source": [
    "import numpy as np\n",
    "import tensorflow as tf\n",
    "\n",
    "from tensorflow.examples.tutorials.mnist import input_data\n",
    "mnist = input_data.read_data_sets(\"MNIST_data/\", one_hot=True)\n",
    "\n"
   ]
  },
  {
   "cell_type": "code",
   "execution_count": 13,
   "metadata": {
    "collapsed": false
   },
   "outputs": [
    {
     "name": "stdout",
     "output_type": "stream",
     "text": [
      "Test: 0 pred: 2  True class: 2\n",
      "0.9700000000000008\n"
     ]
    }
   ],
   "source": [
    "X_train,y_trainlabels = mnist.train.next_batch(50000)\n",
    "X_test, y_testlabels = mnist.test.next_batch(500)\n",
    "\n",
    "\n",
    "first_image = tf.placeholder(\"float\", [None,784])\n",
    "second_image = tf.placeholder(\"float\", [784])\n",
    "# this is easier in tf than numpy since numpy returns an ndarray object w/1 entry vs a float/int value\n",
    "l1_dist = tf.reduce_sum(tf.abs(tf.add(first_image,tf.negative(second_image))), reduction_indices=1)\n",
    "\n",
    "pred = tf.arg_min(l1_dist, 0)\n",
    "\n",
    "accuracy = 0\n",
    "init = tf.global_variables_initializer()\n",
    "\n",
    "with tf.Session() as sess:\n",
    "    sess.run(init)\n",
    "    for i in range(len(X_test)):\n",
    "        nn_index = sess.run(pred,feed_dict={first_image:X_train, second_image:X_test[i,:]})\n",
    "        #print('nn_index:',nn_index)\n",
    "        if(i%1000 ==0):\n",
    "            print(\"Test:\", i, \"pred:\", np.argmax(y_trainlabels[nn_index]),\" True class:\",np.argmax(y_testlabels[i]))\n",
    "        \n",
    "        if np.argmax(y_trainlabels[nn_index])==np.argmax(y_testlabels[i]):\n",
    "            accuracy += 1./len(X_test)\n",
    "\n",
    "print (accuracy)\n"
   ]
  },
  {
   "cell_type": "code",
   "execution_count": null,
   "metadata": {
    "collapsed": true
   },
   "outputs": [],
   "source": [
    "Deep autoencoder as an unsupervised method. PCA and eigenvalues/eigenvector decompositions for dimensionality reduction\n",
    "are linear methods. Autoencoders are nonlinear and hence offer a different capability than existing methods.\n",
    "\n",
    "Image from http://ufldl.stanford.edu\n",
    "<img src=\"Autoencoder636.png\">\n",
    "Andrew Ng develops the idea of a sparse autoencoder to determine the nonlinear \"features\" in an unlabeled dataset and as a method\n",
    "for dimensionality reduction.  An obvious demonstration\n",
    "is to use a sparse autoencoder as an edge detector which he shows as an exercise. Edge detetion can be performed many ways\n",
    "besides using a sparse autoencoder. (Contrast w crappy images using sobel)\n",
    "\n",
    "\n",
    "We can also use this in text data .. for...\n",
    "https://web.stanford.edu/class/cs294a/sparseAutoencoder_2011new.pdf\n",
    "    \n",
    "    "
   ]
  },
  {
   "cell_type": "code",
   "execution_count": null,
   "metadata": {
    "collapsed": true
   },
   "outputs": [],
   "source": [
    "k-means autoencoder. \n",
    "https://github.com/tdunning/k-means-auto-encoder\n",
    "k-sparse encoders on mnist\n",
    "https://arxiv.org/abs/1312.5663 better than denoising autoencoders\n",
    "    \n",
    "Dunning uses an example from https://www.slideshare.net/HadoopSummit/deep-learning-for-fraud-detection\n",
    "    to show card velocity as metric for fraud detection"
   ]
  },
  {
   "cell_type": "code",
   "execution_count": null,
   "metadata": {
    "collapsed": true
   },
   "outputs": [],
   "source": [
    "Fraud detection\n",
    "https://github.com/TianqiJiang/Consumer-Fraud-Detection-with-Tweets-\n",
    "LSA is being replaced by Deep autoencoder. Trick is in how to process text.\n"
   ]
  }
 ],
 "metadata": {
  "anaconda-cloud": {},
  "kernelspec": {
   "display_name": "Python [conda env:tf35]",
   "language": "python",
   "name": "conda-env-tf35-py"
  },
  "language_info": {
   "codemirror_mode": {
    "name": "ipython",
    "version": 3
   },
   "file_extension": ".py",
   "mimetype": "text/x-python",
   "name": "python",
   "nbconvert_exporter": "python",
   "pygments_lexer": "ipython3",
   "version": "3.5.1"
  }
 },
 "nbformat": 4,
 "nbformat_minor": 1
}
