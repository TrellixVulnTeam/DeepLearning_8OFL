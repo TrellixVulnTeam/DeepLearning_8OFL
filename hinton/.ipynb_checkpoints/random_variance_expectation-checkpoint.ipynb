{
 "cells": [
  {
   "cell_type": "code",
   "execution_count": null,
   "metadata": {
    "collapsed": true
   },
   "outputs": [],
   "source": [
    "<h6>Random Variables</h6>\n",
    "<p>\n",
    "https://www.countbayesie.com/blog/2015/2/20/random-variables-and-expectation\n",
    "</p>\n",
    "<p>\n",
    "A random variable is something the user assigns to an event. An example of an event is a dice roll. \n",
    "A roll of a color wheel gives a yellow, green or red. \n",
    "</p>"
   ]
  }
 ],
 "metadata": {
  "kernelspec": {
   "display_name": "Python 3",
   "language": "python",
   "name": "python3"
  },
  "language_info": {
   "codemirror_mode": {
    "name": "ipython",
    "version": 3
   },
   "file_extension": ".py",
   "mimetype": "text/x-python",
   "name": "python",
   "nbconvert_exporter": "python",
   "pygments_lexer": "ipython3",
   "version": "3.5.1"
  }
 },
 "nbformat": 4,
 "nbformat_minor": 2
}
