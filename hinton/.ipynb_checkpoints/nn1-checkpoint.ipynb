{
 "cells": [
  {
   "cell_type": "markdown",
   "metadata": {},
   "source": [
    "<h2> outline<h2>\n",
    "<h4> 3 independent concepts</h4> \n",
    "<li>multiclass classifiers softmax regression</li> \n",
    "<li>backprop/vanishing gradients</li>\n",
    "<li>how to set weights/gradient descent(full training set)/SGD(online)</li>\n",
    "<h4> linear/logistic regression</h4>\n",
    "<h4> softmax regression</h4>\n",
    "<h4> cross entropy and softmax</h4>\n",
    "<h4> backpropagation in NN</h4>\n",
    "<h4> vanishing gradient demo</h4>\n",
    "<h4> relu</h4>\n"
   ]
  },
  {
   "cell_type": "markdown",
   "metadata": {},
   "source": [
    "![alt text](nn.png \"NN\")"
   ]
  },
  {
   "cell_type": "markdown",
   "metadata": {},
   "source": []
  },
  {
   "cell_type": "code",
   "execution_count": 2,
   "metadata": {
    "collapsed": false
   },
   "outputs": [
    {
     "ename": "SyntaxError",
     "evalue": "invalid syntax (<ipython-input-2-6b73efb81826>, line 1)",
     "output_type": "error",
     "traceback": [
      "\u001b[0;36m  File \u001b[0;32m\"<ipython-input-2-6b73efb81826>\"\u001b[0;36m, line \u001b[0;32m1\u001b[0m\n\u001b[0;31m    <p>the hidden layer is a function of the output y</p>\u001b[0m\n\u001b[0m    ^\u001b[0m\n\u001b[0;31mSyntaxError\u001b[0m\u001b[0;31m:\u001b[0m invalid syntax\n"
     ]
    }
   ],
   "source": [
    "<p>the hidden layer is a function of the output y</p>\n",
    "\n",
    "${h}_i=f({y}_i)=f(\\sum_{k=1}^{K}w_{ki}x_{k})$\n",
    "\n",
    "\n",
    "<p>Minimize the error between the training set output and actual</p>\n",
    "\n",
    "$E=\\frac{1}{2}({t}_n - {y}_n)^2 $\n",
    "\n",
    "\n",
    "<p>the dependent variable is y. y changes as a function of the weights and input to the hidden layer</p>\n",
    "\n",
    "\n"
   ]
  },
  {
   "cell_type": "code",
   "execution_count": null,
   "metadata": {
    "collapsed": true
   },
   "outputs": [],
   "source": [
    "$\\{z}_1$"
   ]
  },
  {
   "cell_type": "code",
   "execution_count": null,
   "metadata": {
    "collapsed": true
   },
   "outputs": [],
   "source": []
  }
 ],
 "metadata": {
  "anaconda-cloud": {},
  "kernelspec": {
   "display_name": "Python [conda env:tf35]",
   "language": "python",
   "name": "conda-env-tf35-py"
  },
  "language_info": {
   "codemirror_mode": {
    "name": "ipython",
    "version": 3
   },
   "file_extension": ".py",
   "mimetype": "text/x-python",
   "name": "python",
   "nbconvert_exporter": "python",
   "pygments_lexer": "ipython3",
   "version": "3.5.1"
  }
 },
 "nbformat": 4,
 "nbformat_minor": 1
}
