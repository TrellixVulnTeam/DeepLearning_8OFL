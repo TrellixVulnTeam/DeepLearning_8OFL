{
 "cells": [
  {
   "cell_type": "markdown",
   "metadata": {},
   "source": [
    "<h2> outline<h2>\n",
    "<h4> 3 independent concepts</h4> \n",
    "<li>multiclass classifiers softmax regression</li> \n",
    "<li>backprop/vanishing gradients</li>\n",
    "<li>how to set weights/gradient descent(full training set)/SGD(online)</li>\n",
    "<h4> linear/logistic regression</h4>\n",
    "<h4> softmax regression</h4>\n",
    "<h4> cross entropy and softmax</h4>\n",
    "<h4> backpropagation in NN</h4>\n",
    "<h4> vanishing gradient demo</h4>\n",
    "<h4> relu</h4>\n"
   ]
  },
  {
   "cell_type": "markdown",
   "metadata": {},
   "source": [
    "![alt text](nn.png \"NN\")"
   ]
  },
  {
   "cell_type": "markdown",
   "metadata": {},
   "source": []
  },
  {
   "cell_type": "code",
   "execution_count": null,
   "metadata": {
    "collapsed": true
   },
   "outputs": [],
   "source": [
    "#To set the weights f"
   ]
  }
 ],
 "metadata": {
  "anaconda-cloud": {},
  "kernelspec": {
   "display_name": "Python [conda env:tf35]",
   "language": "python",
   "name": "conda-env-tf35-py"
  },
  "language_info": {
   "codemirror_mode": {
    "name": "ipython",
    "version": 3
   },
   "file_extension": ".py",
   "mimetype": "text/x-python",
   "name": "python",
   "nbconvert_exporter": "python",
   "pygments_lexer": "ipython3",
   "version": "3.5.1"
  }
 },
 "nbformat": 4,
 "nbformat_minor": 1
}
