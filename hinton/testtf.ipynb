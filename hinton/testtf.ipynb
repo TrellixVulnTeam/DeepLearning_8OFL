{
 "cells": [
  {
   "cell_type": "code",
   "execution_count": 2,
   "metadata": {},
   "outputs": [
    {
     "name": "stdout",
     "output_type": "stream",
     "text": [
      "Tensor(\"Xia:0\", shape=(?, 4), dtype=float32)\n"
     ]
    }
   ],
   "source": [
    "import tensorflow as tf\n",
    "import numpy as np\n",
    "\n",
    "\n",
    "# to reshape (5,1) back to (5,) you can use ...\n",
    "\n",
    "X_XOR=np.array([[0,0],[0,1],[1,0],[1,1]])\n",
    "Y_XOR = np.array([0,1,1,0])\n",
    "\n",
    "\n",
    "X1a = tf.placeholder(tf.float32, shape=([None,len(X_XOR)]), name=\"Xia\")\n",
    "init = tf.global_variables_initializer()\n",
    "\n",
    "with tf.Session() as sess:\n",
    "    sess.run(init)\n",
    "    print(X1a)\n",
    "    "
   ]
  },
  {
   "cell_type": "code",
   "execution_count": 18,
   "metadata": {},
   "outputs": [
    {
     "name": "stdout",
     "output_type": "stream",
     "text": [
      "var0: [ 0.69999999  1.70000005]\n",
      "var1: [ 2.97000003  3.97000003]\n",
      "grads0: [ 0.1  0.1]\n",
      "grads1: [ 0.01  0.01]\n"
     ]
    }
   ],
   "source": [
    "import tensorflow as tf\n",
    "\n",
    "\n",
    "var0 = tf.Variable([1.0, 2.0], dtype=tf.float32)\n",
    "var1 = tf.Variable([3.0, 4.0], dtype=tf.float32)\n",
    "grads0 = tf.constant([0.1, 0.1], dtype=tf.float32)\n",
    "grads1 = tf.constant([0.01, 0.01], dtype=tf.float32)\n",
    "with tf.Session() as sess:\n",
    "    sgd_op = tf.train.GradientDescentOptimizer(3.0).apply_gradients(\n",
    "        zip([grads0, grads1], [var0, var1]))\n",
    "    tf.global_variables_initializer().run()\n",
    "    # Fetch params to validate initial values\n",
    "    #self.assertAllCloseAccordingToType([3.0, 4.0], var1.eval())\n",
    "    # Run 1 step of sgd\n",
    "    sgd_op.run()\n",
    "    print(\"var0:\",sess.run(var0))\n",
    "    print(\"var1:\",sess.run(var1))\n",
    "    print(\"grads0:\",sess.run(grads0))\n",
    "    print(\"grads1:\",sess.run(grads1))\n",
    "    \n",
    "#this is funny. The learning rate is 3.0 so 3.0*0.1 is .3. But when you do the multiply\n",
    "#you dont get .7. Is a little off bc rounding error. \n",
    "#\n"
   ]
  },
  {
   "cell_type": "code",
   "execution_count": null,
   "metadata": {
    "collapsed": true
   },
   "outputs": [],
   "source": [
    "# test compute_gradient, apply_gradient\n",
    "\n",
    "\n",
    "\n"
   ]
  }
 ],
 "metadata": {
  "kernelspec": {
   "display_name": "Python 3",
   "language": "python",
   "name": "python3"
  },
  "language_info": {
   "codemirror_mode": {
    "name": "ipython",
    "version": 3
   },
   "file_extension": ".py",
   "mimetype": "text/x-python",
   "name": "python",
   "nbconvert_exporter": "python",
   "pygments_lexer": "ipython3",
   "version": "3.5.1"
  }
 },
 "nbformat": 4,
 "nbformat_minor": 2
}
