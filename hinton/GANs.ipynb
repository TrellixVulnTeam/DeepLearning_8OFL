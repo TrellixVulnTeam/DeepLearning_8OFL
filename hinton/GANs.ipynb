{
 "cells": [
  {
   "cell_type": "code",
   "execution_count": null,
   "metadata": {
    "collapsed": true
   },
   "outputs": [],
   "source": [
    "Ian Goodfellow\n",
    "\n",
    "https://arxiv.org/pdf/1406.2661v1.pdf\n",
    "    \n",
    "So far we have covered discriminitave models where we used backpropagation to model probability distributions modeled by \n",
    "applying consecutive functions f(g(x)) using hidden layers. \n",
    "\n",
    "\n",
    "Another type of model are generative models where you generate the data based on a probability distribution. Given an equation\n",
    "or probability distribution you would create data based on this model. For example a random number generator for ints betwen\n",
    "1-6 is a generative model for a dice. \n",
    "\n",
    "A GAN for producing images takes as input random noise, \n",
    "feeds it into a differentiable function to reshape it into an image. \n",
    "\n",
    "<img src=\"Gan1.png\">\n",
    "\n",
    "\n",
    "GANS use a second NN called a discriminator to guide the generator. \n",
    "\n"
   ]
  },
  {
   "cell_type": "code",
   "execution_count": null,
   "metadata": {
    "collapsed": true
   },
   "outputs": [],
   "source": []
  }
 ],
 "metadata": {
  "anaconda-cloud": {},
  "kernelspec": {
   "display_name": "Python [conda env:tf35]",
   "language": "python",
   "name": "conda-env-tf35-py"
  },
  "language_info": {
   "codemirror_mode": {
    "name": "ipython",
    "version": 3
   },
   "file_extension": ".py",
   "mimetype": "text/x-python",
   "name": "python",
   "nbconvert_exporter": "python",
   "pygments_lexer": "ipython3",
   "version": "3.5.1"
  }
 },
 "nbformat": 4,
 "nbformat_minor": 1
}
