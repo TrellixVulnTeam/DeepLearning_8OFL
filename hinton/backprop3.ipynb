{
 "cells": [
  {
   "cell_type": "markdown",
   "metadata": {},
   "source": [
    "RELU activation function\n",
    "\n",
    "$ f(x)=max(0,x)$\n",
    "\n",
    "The RELUa activation function is used in multilayer deep networks, especially CNNs to compensate for vanishing gradients \n",
    "during backpropagation. The last layer is a FC layer to turn the output into a probability distribution. One of the problems\n",
    "with a RELU is returning a 0 causing a multiply by 0 which destroys coefficients. \n",
    "\n"
   ]
  },
  {
   "cell_type": "code",
   "execution_count": null,
   "metadata": {
    "collapsed": true
   },
   "outputs": [],
   "source": [
    "def relu(x):\n",
    "    \"\"\"if x>0 1, else 0.\"\"\"\n",
    "    return np.maximum(0,x)\n",
    "\n",
    "def derivative_relu(x):\n",
    "    if x<=0:\n",
    "        return 0\n",
    "    return 1\n"
   ]
  },
  {
   "cell_type": "markdown",
   "metadata": {},
   "source": [
    "SELU activation function\n",
    "\n",
    "$\n",
    "  selu(x)=\\lambda \\begin{cases}\n",
    "               x \\;for \\;x>0\\\\\n",
    "               \\alpha e^x-a \\;for \\;x<0\\\\\n",
    "            \\end{cases}\n",
    "$\n",
    "\n",
    "\n",
    "\n",
    "$\n",
    "  \\frac {\\partial selu(x)}{\\partial x}=\\lambda \\begin{cases}\n",
    "               1 \\;for \\;x>0 \\\\\n",
    "               \\alpha e^x \\;for\\; x<0\\\\\n",
    "            \\end{cases}\n",
    "$\n",
    "\n",
    "with λ=1.0507,a=1.6733"
   ]
  },
  {
   "cell_type": "code",
   "execution_count": null,
   "metadata": {
    "collapsed": true
   },
   "outputs": [],
   "source": [
    "def selu(lambda,x):\n",
    "    \"\"\"if x>0 1, else 0.\"\"\"\n",
    "    return np.maximum(0,x)\n",
    "\n"
   ]
  }
 ],
 "metadata": {
  "kernelspec": {
   "display_name": "Python 3",
   "language": "python",
   "name": "python3"
  },
  "language_info": {
   "codemirror_mode": {
    "name": "ipython",
    "version": 3
   },
   "file_extension": ".py",
   "mimetype": "text/x-python",
   "name": "python",
   "nbconvert_exporter": "python",
   "pygments_lexer": "ipython3",
   "version": "3.5.1"
  }
 },
 "nbformat": 4,
 "nbformat_minor": 2
}
