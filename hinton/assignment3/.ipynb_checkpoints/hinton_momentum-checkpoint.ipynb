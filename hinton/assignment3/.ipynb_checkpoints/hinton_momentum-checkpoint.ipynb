{
 "cells": [
  {
   "cell_type": "markdown",
   "metadata": {
    "deletable": true,
    "editable": true
   },
   "source": [
    "<h6>Momentum vs. SGD for optimization</h6>\n",
    "<img src=\"mom1.png\">"
   ]
  },
  {
   "cell_type": "markdown",
   "metadata": {
    "deletable": true,
    "editable": true
   },
   "source": [
    "<h6>Numerical Stability for calculating exponent divided by sum of exponents</h6>\n",
    "https://stackoverflow.com/questions/10278004/how-to-order-this-computation-for-numerical-stability\n",
    "\n",
    "<p>Do not calculate np.exp(x) directly, subtract x_max first</p>\n",
    "<p>tmp = np.array([-10**10, 10**10])</p>\n",
    "<p>tmp_max = tmp.max()</p>\n",
    "<p>logD = np.log(np.sum(np.exp(tmp-tmp_max))) + tmp_max</p>\n",
    "<p>log_v = tmp - log_D</p>\n",
    "<p>v = np.exp(log_v)</p>\n",
    "<p>>>> v\n",
    "array([ 0.,  1.])</p>\n",
    "<p></p>\n",
    "\n",
    "$log\\sum_{k=1}^{training set}exp(tmp-tmp_{max}) + tmp_{max}$\n",
    "\n",
    "$=log\\sum_{k=1}^{training set} \\frac{exp(tmp)}{exp(tmp_{max})} + tmp_{max}$\n",
    "\n",
    "$= log\\frac{1}{exp(tmp_{max})} \\sum_{k=1}^{training set}exp(tmp) + tmp_{max}$ \n",
    "\n",
    "$= log[exp(-tmp_{max}) \\sum_{k=1}^{training set} exp(tmp)] + tmp_{max}$\n",
    "\n",
    "$= logexp(-tmp_{max}) + log\\sum_{k=1}^{training set}exp(tmp) + tmp_{max}$\n",
    "\n",
    "$= -tmp_{max} + log\\sum_{k=1}^{training set} exp(tmp) + tmp_{max}$\n",
    "\n",
    "<p>The above sould reduce to summation exp(tmp)</p>\n",
    "<p>Below for fraction of exp(tmp)/summation(exp(tmp))</p>\n",
    "<p>Combine log_v = tmp=log_D and v=exp(log_v)</p>\n",
    "$v=exp(tmp-logD) = \\frac{exp(tmp)}{log_D}$"
   ]
  },
  {
   "cell_type": "markdown",
   "metadata": {
    "collapsed": true,
    "deletable": true,
    "editable": true
   },
   "source": [
    "Reference: http://cs231n.github.io/linear-classify/#softmax\n",
    "\n",
    "$\\frac{exp(x)}{\\sum_{k=1}^{K} exp(x)}$\n",
    "<p></p>\n",
    "\n",
    "$\\frac{C * exp(x)}{C*\\sum_{k=1}^{K}exp(x)}$\n",
    "\n",
    "$\\frac{exp(x + logC)}{\\sum_{k=1}^{K}exp(x+logC)}$"
   ]
  },
  {
   "cell_type": "code",
   "execution_count": 2,
   "metadata": {
    "collapsed": false,
    "deletable": true,
    "editable": true
   },
   "outputs": [
    {
     "name": "stdout",
     "output_type": "stream",
     "text": [
      "[  5.76612770e-04   1.56739601e-03   4.26062410e-03   1.15815771e-02\n",
      "   3.14819905e-02   8.55769227e-02   2.32622194e-01   6.32332683e-01]\n"
     ]
    }
   ],
   "source": [
    "import numpy as np\n",
    "tmp=[1,2,3,4,5,6,7,8]\n",
    "#tmp = np.array([-10**10, 10**10])\n",
    "   \n",
    "def foo(tmp):\n",
    "    tmp_max=np.max(tmp)\n",
    "    logD = np.log(np.sum(np.exp(tmp-tmp_max))) + tmp_max\n",
    "    log_v = tmp - logD\n",
    "    v = np.exp(log_v)\n",
    "    return v\n",
    "\n",
    "print(foo(tmp))\n"
   ]
  },
  {
   "cell_type": "code",
   "execution_count": 3,
   "metadata": {
    "collapsed": false,
    "deletable": true,
    "editable": true
   },
   "outputs": [
    {
     "name": "stdout",
     "output_type": "stream",
     "text": [
      "[ 0.  0.  1.]\n"
     ]
    }
   ],
   "source": [
    "import numpy as np\n",
    "\n",
    "def softmax(x):\n",
    "    \"\"\"Compute softmax values for each sets of scores in x.\"\"\"\n",
    "    e_x = np.exp(x - np.max(x))\n",
    "    return e_x / e_x.sum(axis=0)\n",
    "\n",
    "scores = [30000000000, 50000000000, 70000000000]\n",
    "print(softmax(scores))"
   ]
  },
  {
   "cell_type": "code",
   "execution_count": 4,
   "metadata": {
    "collapsed": false,
    "deletable": true,
    "editable": true
   },
   "outputs": [
    {
     "name": "stdout",
     "output_type": "stream",
     "text": [
      "[  5.76612770e-04   1.56739601e-03   4.26062410e-03   1.15815771e-02\n",
      "   3.14819905e-02   8.55769227e-02   2.32622194e-01   6.32332683e-01]\n"
     ]
    }
   ],
   "source": [
    "\n",
    "print (softmax(tmp))"
   ]
  },
  {
   "cell_type": "code",
   "execution_count": 6,
   "metadata": {
    "collapsed": false,
    "deletable": true,
    "editable": true
   },
   "outputs": [
    {
     "name": "stdout",
     "output_type": "stream",
     "text": [
      "{'__version__': '1.0', '__globals__': [], '__header__': b'MATLAB 5.0 MAT-file, written by Octave 3.2.4, 2012-10-31 21:15:39 UTC', 'data': array([[ (array([[ (array([[ 0.        ,  0.        ,  0.        , ...,  0.        ,\n",
      "         0.        ,  0.        ],\n",
      "       [ 0.        ,  0.        ,  0.        , ...,  0.        ,\n",
      "         0.        ,  0.        ],\n",
      "       [ 0.        ,  0.        ,  0.        , ...,  0.        ,\n",
      "         0.        ,  0.01960784],\n",
      "       ..., \n",
      "       [ 0.        ,  0.        ,  0.03921569, ...,  0.        ,\n",
      "         0.        ,  0.        ],\n",
      "       [ 0.        ,  0.        ,  0.02352941, ...,  0.        ,\n",
      "         0.        ,  0.        ],\n",
      "       [ 0.        ,  0.        ,  0.        , ...,  0.        ,\n",
      "         0.        ,  0.        ]]), array([[ 1.,  0.,  0., ...,  0.,  0.,  0.],\n",
      "       [ 0.,  1.,  0., ...,  0.,  0.,  0.],\n",
      "       [ 0.,  0.,  1., ...,  0.,  0.,  0.],\n",
      "       ..., \n",
      "       [ 0.,  0.,  0., ...,  1.,  0.,  0.],\n",
      "       [ 0.,  0.,  0., ...,  0.,  1.,  0.],\n",
      "       [ 0.,  0.,  0., ...,  0.,  0.,  1.]]))]], \n",
      "      dtype=[('inputs', 'O'), ('targets', 'O')]), array([[ (array([[ 1.,  0.,  0., ...,  0.,  0.,  0.],\n",
      "       [ 0.,  1.,  0., ...,  0.,  0.,  0.],\n",
      "       [ 0.,  0.,  1., ...,  0.,  0.,  0.],\n",
      "       ..., \n",
      "       [ 0.,  0.,  0., ...,  1.,  0.,  0.],\n",
      "       [ 0.,  0.,  0., ...,  0.,  1.,  0.],\n",
      "       [ 0.,  0.,  0., ...,  0.,  0.,  1.]]), array([[ 0.        ,  0.        ,  0.        , ...,  0.        ,\n",
      "         0.        ,  0.        ],\n",
      "       [ 0.        ,  0.        ,  0.05882353, ...,  0.        ,\n",
      "         0.        ,  0.        ],\n",
      "       [ 0.        ,  0.        ,  0.25490198, ...,  0.        ,\n",
      "         0.        ,  0.        ],\n",
      "       ..., \n",
      "       [ 0.        ,  0.        ,  0.        , ...,  0.        ,\n",
      "         0.        ,  0.        ],\n",
      "       [ 0.        ,  0.        ,  0.        , ...,  0.        ,\n",
      "         0.        ,  0.        ],\n",
      "       [ 0.        ,  0.        ,  0.        , ...,  0.        ,\n",
      "         0.        ,  0.        ]]))]], \n",
      "      dtype=[('targets', 'O'), ('inputs', 'O')]), array([[ (array([[ 0.        ,  0.        ,  0.        , ...,  0.        ,\n",
      "         0.        ,  0.        ],\n",
      "       [ 0.        ,  0.42745101,  0.        , ...,  0.        ,\n",
      "         0.        ,  0.        ],\n",
      "       [ 0.        ,  0.71372551,  0.01176471, ...,  0.        ,\n",
      "         0.        ,  0.        ],\n",
      "       ..., \n",
      "       [ 0.        ,  0.70980394,  0.        , ...,  0.        ,\n",
      "         0.        ,  0.        ],\n",
      "       [ 0.        ,  0.42352945,  0.        , ...,  0.        ,\n",
      "         0.        ,  0.        ],\n",
      "       [ 0.        ,  0.        ,  0.        , ...,  0.        ,\n",
      "         0.        ,  0.        ]]), array([[ 1.,  0.,  0., ...,  0.,  0.,  0.],\n",
      "       [ 0.,  1.,  0., ...,  0.,  0.,  0.],\n",
      "       [ 0.,  0.,  1., ...,  0.,  0.,  0.],\n",
      "       ..., \n",
      "       [ 0.,  0.,  0., ...,  1.,  0.,  0.],\n",
      "       [ 0.,  0.,  0., ...,  0.,  1.,  0.],\n",
      "       [ 0.,  0.,  0., ...,  0.,  0.,  1.]]))]], \n",
      "      dtype=[('inputs', 'O'), ('targets', 'O')]))]], \n",
      "      dtype=[('training', 'O'), ('validation', 'O'), ('test', 'O')])}\n"
     ]
    }
   ],
   "source": [
    "from scipy.io import loadmat\n",
    "x = loadmat('data.mat')\n",
    "print(x)"
   ]
  },
  {
   "cell_type": "code",
   "execution_count": 7,
   "metadata": {
    "collapsed": false,
    "deletable": true,
    "editable": true
   },
   "outputs": [
    {
     "name": "stdout",
     "output_type": "stream",
     "text": [
      "[[ array([[ (array([[ 0.        ,  0.        ,  0.        , ...,  0.        ,\n",
      "         0.        ,  0.        ],\n",
      "       [ 0.        ,  0.        ,  0.        , ...,  0.        ,\n",
      "         0.        ,  0.        ],\n",
      "       [ 0.        ,  0.        ,  0.        , ...,  0.        ,\n",
      "         0.        ,  0.01960784],\n",
      "       ..., \n",
      "       [ 0.        ,  0.        ,  0.03921569, ...,  0.        ,\n",
      "         0.        ,  0.        ],\n",
      "       [ 0.        ,  0.        ,  0.02352941, ...,  0.        ,\n",
      "         0.        ,  0.        ],\n",
      "       [ 0.        ,  0.        ,  0.        , ...,  0.        ,\n",
      "         0.        ,  0.        ]]), array([[ 1.,  0.,  0., ...,  0.,  0.,  0.],\n",
      "       [ 0.,  1.,  0., ...,  0.,  0.,  0.],\n",
      "       [ 0.,  0.,  1., ...,  0.,  0.,  0.],\n",
      "       ..., \n",
      "       [ 0.,  0.,  0., ...,  1.,  0.,  0.],\n",
      "       [ 0.,  0.,  0., ...,  0.,  1.,  0.],\n",
      "       [ 0.,  0.,  0., ...,  0.,  0.,  1.]]))]], \n",
      "      dtype=[('inputs', 'O'), ('targets', 'O')])]]\n"
     ]
    }
   ],
   "source": [
    "print(x['data']['training'])"
   ]
  },
  {
   "cell_type": "code",
   "execution_count": 8,
   "metadata": {
    "collapsed": false,
    "deletable": true,
    "editable": true
   },
   "outputs": [
    {
     "name": "stdout",
     "output_type": "stream",
     "text": [
      "[[ array([[ (array([[ 0.        ,  0.        ,  0.        , ...,  0.        ,\n",
      "         0.        ,  0.        ],\n",
      "       [ 0.        ,  0.        ,  0.        , ...,  0.        ,\n",
      "         0.        ,  0.        ],\n",
      "       [ 0.        ,  0.        ,  0.        , ...,  0.        ,\n",
      "         0.        ,  0.01960784],\n",
      "       ..., \n",
      "       [ 0.        ,  0.        ,  0.03921569, ...,  0.        ,\n",
      "         0.        ,  0.        ],\n",
      "       [ 0.        ,  0.        ,  0.02352941, ...,  0.        ,\n",
      "         0.        ,  0.        ],\n",
      "       [ 0.        ,  0.        ,  0.        , ...,  0.        ,\n",
      "         0.        ,  0.        ]]), array([[ 1.,  0.,  0., ...,  0.,  0.,  0.],\n",
      "       [ 0.,  1.,  0., ...,  0.,  0.,  0.],\n",
      "       [ 0.,  0.,  1., ...,  0.,  0.,  0.],\n",
      "       ..., \n",
      "       [ 0.,  0.,  0., ...,  1.,  0.,  0.],\n",
      "       [ 0.,  0.,  0., ...,  0.,  1.,  0.],\n",
      "       [ 0.,  0.,  0., ...,  0.,  0.,  1.]]))]], \n",
      "      dtype=[('inputs', 'O'), ('targets', 'O')])]]\n"
     ]
    }
   ],
   "source": [
    "#print(x['data']['training'])\n",
    "train = x['data']['training']\n",
    "print(train)"
   ]
  },
  {
   "cell_type": "code",
   "execution_count": 9,
   "metadata": {
    "collapsed": false,
    "deletable": true,
    "editable": true
   },
   "outputs": [
    {
     "name": "stdout",
     "output_type": "stream",
     "text": [
      "(1, 1)\n",
      "(1, 1)\n",
      "[[ (array([[ 0.        ,  0.        ,  0.        , ...,  0.        ,\n",
      "         0.        ,  0.        ],\n",
      "       [ 0.        ,  0.        ,  0.        , ...,  0.        ,\n",
      "         0.        ,  0.        ],\n",
      "       [ 0.        ,  0.        ,  0.        , ...,  0.        ,\n",
      "         0.        ,  0.01960784],\n",
      "       ..., \n",
      "       [ 0.        ,  0.        ,  0.03921569, ...,  0.        ,\n",
      "         0.        ,  0.        ],\n",
      "       [ 0.        ,  0.        ,  0.02352941, ...,  0.        ,\n",
      "         0.        ,  0.        ],\n",
      "       [ 0.        ,  0.        ,  0.        , ...,  0.        ,\n",
      "         0.        ,  0.        ]]), array([[ 1.,  0.,  0., ...,  0.,  0.,  0.],\n",
      "       [ 0.,  1.,  0., ...,  0.,  0.,  0.],\n",
      "       [ 0.,  0.,  1., ...,  0.,  0.,  0.],\n",
      "       ..., \n",
      "       [ 0.,  0.,  0., ...,  1.,  0.,  0.],\n",
      "       [ 0.,  0.,  0., ...,  0.,  1.,  0.],\n",
      "       [ 0.,  0.,  0., ...,  0.,  0.,  1.]]))]]\n"
     ]
    }
   ],
   "source": [
    "print(train.shape)                                                                                                                       \n",
    "print(train[0,0].shape)\n",
    "print(train[0][0])"
   ]
  },
  {
   "cell_type": "code",
   "execution_count": 10,
   "metadata": {
    "collapsed": false,
    "deletable": true,
    "editable": true
   },
   "outputs": [
    {
     "name": "stdout",
     "output_type": "stream",
     "text": [
      "[[ array([[ (array([[ 1.,  0.,  0., ...,  0.,  0.,  0.],\n",
      "       [ 0.,  1.,  0., ...,  0.,  0.,  0.],\n",
      "       [ 0.,  0.,  1., ...,  0.,  0.,  0.],\n",
      "       ..., \n",
      "       [ 0.,  0.,  0., ...,  1.,  0.,  0.],\n",
      "       [ 0.,  0.,  0., ...,  0.,  1.,  0.],\n",
      "       [ 0.,  0.,  0., ...,  0.,  0.,  1.]]), array([[ 0.        ,  0.        ,  0.        , ...,  0.        ,\n",
      "         0.        ,  0.        ],\n",
      "       [ 0.        ,  0.        ,  0.05882353, ...,  0.        ,\n",
      "         0.        ,  0.        ],\n",
      "       [ 0.        ,  0.        ,  0.25490198, ...,  0.        ,\n",
      "         0.        ,  0.        ],\n",
      "       ..., \n",
      "       [ 0.        ,  0.        ,  0.        , ...,  0.        ,\n",
      "         0.        ,  0.        ],\n",
      "       [ 0.        ,  0.        ,  0.        , ...,  0.        ,\n",
      "         0.        ,  0.        ],\n",
      "       [ 0.        ,  0.        ,  0.        , ...,  0.        ,\n",
      "         0.        ,  0.        ]]))]], \n",
      "      dtype=[('targets', 'O'), ('inputs', 'O')])]]\n"
     ]
    }
   ],
   "source": [
    "print(x['data']['validation'])"
   ]
  },
  {
   "cell_type": "code",
   "execution_count": 11,
   "metadata": {
    "collapsed": false,
    "deletable": true,
    "editable": true
   },
   "outputs": [
    {
     "name": "stdout",
     "output_type": "stream",
     "text": [
      "[[ array([[ (array([[ 0.        ,  0.        ,  0.        , ...,  0.        ,\n",
      "         0.        ,  0.        ],\n",
      "       [ 0.        ,  0.42745101,  0.        , ...,  0.        ,\n",
      "         0.        ,  0.        ],\n",
      "       [ 0.        ,  0.71372551,  0.01176471, ...,  0.        ,\n",
      "         0.        ,  0.        ],\n",
      "       ..., \n",
      "       [ 0.        ,  0.70980394,  0.        , ...,  0.        ,\n",
      "         0.        ,  0.        ],\n",
      "       [ 0.        ,  0.42352945,  0.        , ...,  0.        ,\n",
      "         0.        ,  0.        ],\n",
      "       [ 0.        ,  0.        ,  0.        , ...,  0.        ,\n",
      "         0.        ,  0.        ]]), array([[ 1.,  0.,  0., ...,  0.,  0.,  0.],\n",
      "       [ 0.,  1.,  0., ...,  0.,  0.,  0.],\n",
      "       [ 0.,  0.,  1., ...,  0.,  0.,  0.],\n",
      "       ..., \n",
      "       [ 0.,  0.,  0., ...,  1.,  0.,  0.],\n",
      "       [ 0.,  0.,  0., ...,  0.,  1.,  0.],\n",
      "       [ 0.,  0.,  0., ...,  0.,  0.,  1.]]))]], \n",
      "      dtype=[('inputs', 'O'), ('targets', 'O')])]]\n"
     ]
    }
   ],
   "source": [
    "print(x['data']['test'])"
   ]
  },
  {
   "cell_type": "code",
   "execution_count": 12,
   "metadata": {
    "collapsed": false,
    "deletable": true,
    "editable": true
   },
   "outputs": [
    {
     "name": "stdout",
     "output_type": "stream",
     "text": [
      "[[ array([[ (array([[ 0.        ,  0.        ,  0.        , ...,  0.        ,\n",
      "         0.        ,  0.        ],\n",
      "       [ 0.        ,  0.42745101,  0.        , ...,  0.        ,\n",
      "         0.        ,  0.        ],\n",
      "       [ 0.        ,  0.71372551,  0.01176471, ...,  0.        ,\n",
      "         0.        ,  0.        ],\n",
      "       ..., \n",
      "       [ 0.        ,  0.70980394,  0.        , ...,  0.        ,\n",
      "         0.        ,  0.        ],\n",
      "       [ 0.        ,  0.42352945,  0.        , ...,  0.        ,\n",
      "         0.        ,  0.        ],\n",
      "       [ 0.        ,  0.        ,  0.        , ...,  0.        ,\n",
      "         0.        ,  0.        ]]), array([[ 1.,  0.,  0., ...,  0.,  0.,  0.],\n",
      "       [ 0.,  1.,  0., ...,  0.,  0.,  0.],\n",
      "       [ 0.,  0.,  1., ...,  0.,  0.,  0.],\n",
      "       ..., \n",
      "       [ 0.,  0.,  0., ...,  1.,  0.,  0.],\n",
      "       [ 0.,  0.,  0., ...,  0.,  1.,  0.],\n",
      "       [ 0.,  0.,  0., ...,  0.,  0.,  1.]]))]], \n",
      "      dtype=[('inputs', 'O'), ('targets', 'O')])]]\n"
     ]
    }
   ],
   "source": [
    "print(x['data']['test'])"
   ]
  },
  {
   "cell_type": "code",
   "execution_count": 13,
   "metadata": {
    "collapsed": false,
    "deletable": true,
    "editable": true
   },
   "outputs": [
    {
     "data": {
      "text/plain": [
       "array([[ array([[ (array([[ 0.        ,  0.        ,  0.        , ...,  0.        ,\n",
       "         0.        ,  0.        ],\n",
       "       [ 0.        ,  0.42745101,  0.        , ...,  0.        ,\n",
       "         0.        ,  0.        ],\n",
       "       [ 0.        ,  0.71372551,  0.01176471, ...,  0.        ,\n",
       "         0.        ,  0.        ],\n",
       "       ..., \n",
       "       [ 0.        ,  0.70980394,  0.        , ...,  0.        ,\n",
       "         0.        ,  0.        ],\n",
       "       [ 0.        ,  0.42352945,  0.        , ...,  0.        ,\n",
       "         0.        ,  0.        ],\n",
       "       [ 0.        ,  0.        ,  0.        , ...,  0.        ,\n",
       "         0.        ,  0.        ]]), array([[ 1.,  0.,  0., ...,  0.,  0.,  0.],\n",
       "       [ 0.,  1.,  0., ...,  0.,  0.,  0.],\n",
       "       [ 0.,  0.,  1., ...,  0.,  0.,  0.],\n",
       "       ..., \n",
       "       [ 0.,  0.,  0., ...,  1.,  0.,  0.],\n",
       "       [ 0.,  0.,  0., ...,  0.,  1.,  0.],\n",
       "       [ 0.,  0.,  0., ...,  0.,  0.,  1.]]))]], \n",
       "      dtype=[('inputs', 'O'), ('targets', 'O')])]], dtype=object)"
      ]
     },
     "execution_count": 13,
     "metadata": {},
     "output_type": "execute_result"
    }
   ],
   "source": [
    "x['data']['test']"
   ]
  },
  {
   "cell_type": "code",
   "execution_count": 150,
   "metadata": {
    "collapsed": false,
    "deletable": true,
    "editable": true
   },
   "outputs": [
    {
     "name": "stdout",
     "output_type": "stream",
     "text": [
      "[1.0, 2.0]\n",
      "d.targets: [1, 2, 3]\n",
      "dataset.testing: <__main__.data object at 0x10cf627b8>\n",
      "dataset.testing.inputs: [4, 5, 6]\n",
      "dataset.testing.targets: [1, 2, 3]\n",
      "dataset.training.inputs: [[1 1 1]\n",
      " [2 2 2]]\n",
      "dataset.training.inputs shape: (2, 3)\n",
      "self.training.shape: (2, 3)\n"
     ]
    },
    {
     "data": {
      "text/plain": [
       "3"
      ]
     },
     "execution_count": 150,
     "metadata": {},
     "output_type": "execute_result"
    }
   ],
   "source": [
    "import numpy as np\n",
    "\n",
    "class model:    \n",
    "    def __init__(self):\n",
    "        self.input_to_hid=None\n",
    "        self.hid_to_class=None\n",
    "    \n",
    "    def set_input_to_hid(self,a):\n",
    "        self.input_to_hid = a\n",
    "    def set_hid_to_class(self,a):\n",
    "        self.hid_to_class = a\n",
    "\n",
    "class data:\n",
    "    def __init__(self):\n",
    "        self.targets=None\n",
    "        self.inputs=None\n",
    "    def set_target(self,targets):\n",
    "        self.targets=targets\n",
    "    def set_inputs(self,inputs):\n",
    "        self.inputs = inputs\n",
    "\n",
    "class datas:\n",
    "    def __init__(self):\n",
    "        self.training=None\n",
    "        self.testing=None\n",
    "        self.validation=None\n",
    "    def set_train(self,train_data):\n",
    "        self.training=train_data\n",
    "    def set_test(self,test_data):\n",
    "        self.testing=test_data\n",
    "    def set_valid(self,valid_data):\n",
    "        self.validation=valid_data\n",
    "    def get_num_training_cases(self):\n",
    "        print('self.training.shape:',self.training.inputs.shape)\n",
    "        return self.training.inputs.shape[1]\n",
    "        \n",
    "        \n",
    "m = model()\n",
    "m.set_input_to_hid([1.0,2.0])\n",
    "print(m.input_to_hid)\n",
    "\n",
    "d = data()\n",
    "d.set_target([1,2,3])\n",
    "d.set_inputs([4,5,6])\n",
    "print('d.targets:',d.targets)\n",
    "\n",
    "dataset = datas()\n",
    "dataset.set_test(d)\n",
    "print('dataset.testing:',dataset.testing)\n",
    "print('dataset.testing.inputs:',dataset.testing.inputs)\n",
    "print('dataset.testing.targets:',dataset.testing.targets)\n",
    "\n",
    "d1 = data()\n",
    "one = np.array([[1,2,3],[4,5,6]])\n",
    "two = np.array([[1,1,1],[2,2,2]])\n",
    "d1.set_target(one)\n",
    "d1.set_inputs(two)\n",
    "dataset.set_train(d1)\n",
    "print('dataset.training.inputs:',dataset.training.inputs)\n",
    "print('dataset.training.inputs shape:',dataset.training.inputs.shape)\n",
    "dataset.get_num_training_cases()"
   ]
  },
  {
   "cell_type": "code",
   "execution_count": 118,
   "metadata": {
    "collapsed": false
   },
   "outputs": [
    {
     "data": {
      "text/plain": [
       "1000"
      ]
     },
     "execution_count": 118,
     "metadata": {},
     "output_type": "execute_result"
    }
   ],
   "source": [
    "dt_train_target = loadmat('dt_train_target.mat')\n",
    "dt_train_target['dt_train_target'].shape[1]"
   ]
  },
  {
   "cell_type": "code",
   "execution_count": 152,
   "metadata": {
    "collapsed": false,
    "deletable": true,
    "editable": true
   },
   "outputs": [],
   "source": [
    "from scipy.io import loadmat\n",
    "def load():\n",
    "    dt_train_target = loadmat('dt_train_target.mat')\n",
    "    dt_train_input = loadmat('dt_train_input.mat')\n",
    "    dt_test_input = loadmat('dt_test_input.mat')\n",
    "    dt_test_target = loadmat('dt_test_target.mat')\n",
    "    dt_valid_input = loadmat('dt_valid_input.mat')\n",
    "    dt_valid_target = loadmat('dt_valid_target.mat')\n",
    "\n",
    "    \n",
    "    #methodology: first .keys() to print keys. Then pick one that is not header, globals, meta info, etc..\n",
    "    #find right key name and find shape to verify with octave\n",
    "\n",
    "    print(dt_train_target.keys())\n",
    "    print(dt_train_target['dt_train_target'].shape) #10x1000\n",
    "\n",
    "    print(dt_train_input.keys())\n",
    "    print(dt_train_input['dt_train_input'].shape) #256x1000\n",
    "\n",
    "    print(dt_test_input.keys())\n",
    "    print(dt_test_input['dt_test_input'].shape) #256x9000\n",
    "\n",
    "    print(dt_test_target.keys())\n",
    "    print(dt_test_target['dt_test_target'].shape) #10x9000\n",
    "\n",
    "    print(dt_valid_input.keys())\n",
    "    print(dt_valid_input['dt_valid_input'].shape) #256x1000\n",
    "\n",
    "    print(dt_valid_target.keys())\n",
    "    print(dt_valid_target['dt_valid_target'].shape) #10x1000\n",
    "    \n",
    "    train_target = dt_train_target['dt_train_target']\n",
    "    train_input = dt_train_input['dt_train_input']\n",
    "    train_data = data()\n",
    "    train_data.set_inputs(train_input)\n",
    "    train_data.set_target(train_target)\n",
    "    print ('train_target shape:',train_target.shape)\n",
    "    print ('train_input shape:',train_input.shape)\n",
    "    \n",
    "    test_input = dt_test_input['dt_test_input'] \n",
    "    test_target = dt_test_target['dt_test_target']\n",
    "    test_data = data()\n",
    "    test_data.set_inputs(test_input)\n",
    "    test_data.set_target(test_target)\n",
    "\n",
    "    \n",
    "    valid_input = dt_valid_input['dt_valid_input']\n",
    "    valid_target = dt_valid_target['dt_valid_target']\n",
    "    valid_data = data()\n",
    "    valid_data.set_inputs(valid_input)\n",
    "    valid_data.set_target(valid_target)\n",
    "    dataset_load = datas()\n",
    "    dataset_load.set_train(train_data)\n",
    "    dataset_load.set_test(test_data)\n",
    "    dataset_load.set_valid(valid_data)\n",
    "    return dataset_load\n"
   ]
  },
  {
   "cell_type": "code",
   "execution_count": 153,
   "metadata": {
    "collapsed": false
   },
   "outputs": [
    {
     "name": "stdout",
     "output_type": "stream",
     "text": [
      "dict_keys(['__version__', 'dt_train_target', '__globals__', '__header__'])\n",
      "(10, 1000)\n",
      "dict_keys(['__version__', 'dt_train_input', '__globals__', '__header__'])\n",
      "(256, 1000)\n",
      "dict_keys(['__version__', '__globals__', 'dt_test_input', '__header__'])\n",
      "(256, 9000)\n",
      "dict_keys(['__version__', 'dt_test_target', '__globals__', '__header__'])\n",
      "(10, 9000)\n",
      "dict_keys(['__version__', '__globals__', 'dt_valid_input', '__header__'])\n",
      "(256, 1000)\n",
      "dict_keys(['__version__', '__globals__', '__header__', 'dt_valid_target'])\n",
      "(10, 1000)\n",
      "train_target shape: (10, 1000)\n",
      "train_input shape: (256, 1000)\n",
      "self.training.shape: (256, 1000)\n"
     ]
    },
    {
     "data": {
      "text/plain": [
       "1000"
      ]
     },
     "execution_count": 153,
     "metadata": {},
     "output_type": "execute_result"
    }
   ],
   "source": [
    "test = load()\n",
    "test.get_num_training_cases()"
   ]
  },
  {
   "cell_type": "markdown",
   "metadata": {
    "deletable": true,
    "editable": true
   },
   "source": [
    "<img src='data.png'>"
   ]
  },
  {
   "cell_type": "code",
   "execution_count": 89,
   "metadata": {
    "collapsed": false,
    "deletable": true,
    "editable": true
   },
   "outputs": [],
   "source": [
    "import numpy as np\n",
    "\n",
    "def a3(wd_coefficient, n_hid,n_iters,learning_rate,momentum_multiplier,do_early_stopping, mini_batch_size):\n",
    "    model = initial_model(n_hid)\n",
    "    from_data_file = load()\n",
    "    datas = from_data_file.data\n",
    "    # this is funny, variable outside \n",
    "    n_training_cases = dt_train_input['dt_train_input'].shape[1]\n",
    "    print('n_training_cases:{}',n_training_cases)\n",
    "    assert(n_training_cases==1000)\n",
    "    if n_iters !=0:\n",
    "        test_gradient(model,datas.training,wd_coefficient)\n",
    "    theta = model_to_theta(model)\n",
    "    momentum_speed = theta * 0\n",
    "    training_data_losses = []\n",
    "    validataion_data_losses = []\n",
    "    if do_early_stopping:\n",
    "        print('do_early_stopping true')\n",
    "        best_so_far_theta = -1\n",
    "        best_so_far_validation_loss = 10000000 #replace inf with a large number\n",
    "        best_so_far_after_n_iters = -1\n",
    "    for optimization_iteration in range(1,n_iters):\n",
    "        print('optimization_iteration:{} n_iters:{}',optimization_iteration,n_iters)\n",
    "        model = theta_to_model(theta)\n",
    "        momentum_speed = theta * 0;\n",
    "        training_batch_start = (((optimization_iteration_i-1) * mini_batch_size) % n_training_cases)+1;\n",
    "        print('training_batch_start:',training_batch_start)\n",
    "        #training_batch_inputs = dt_train_input['dt_train_input'](:, training_batch_start : training_batch_start + mini_batch_size - 1);\n",
    "        #training_batch_targets = dt_train_target['dt_train_target'](:, training_batch_start : training_batch_start + mini_batch_size - 1);\n",
    "        #print('training_batch_inputs shape:{} training_batch_targets shape:',training_batch_inputs.shape,training_batch_targets.shape)\n",
    "        \n",
    "        gradient = model_to_theta(d_loss_by_d_model(model, training_batch, wd_coefficient));\n",
    "        momentum_speed = momentum_speed * momentum_multiplier - gradient;\n",
    "        theta = theta + momentum_speed * learning_rate;\n",
    "        model = theta_to_model(theta);\n",
    "        training_data_losses = [training_data_losses, loss(model, datas.training, wd_coefficient)];\n",
    "        validation_data_losses = [validation_data_losses, loss(model, datas.validation, wd_coefficient)];\n",
    "        if do_early_stopping and validation_data_losses(end) < best_so_far.validation_loss:\n",
    "            best_so_far.theta = theta; # this will be overwritten soon\n",
    "            best_so_far.validation_loss = validation_data_losses(end);\n",
    "            best_so_far.after_n_iters = optimization_iteration_i;\n",
    "        if optimization_iteration_i % round(n_iters/10) == 0:\n",
    "            print('After %d optimization iterations, training data loss is %f, and validation data loss is %f\\n', \n",
    "                    optimization_iteration_i, training_data_losses(end), validation_data_losses(end));\n",
    "        if n_iters != 0: \n",
    "            test_gradient(model, datas.training, wd_coefficient) \n",
    "            #end % check again, this time with more typical parameters\n",
    "    if do_early_stopping:\n",
    "        print('Early stopping: validation loss was lowest after %d iterations. We chose the model that we had then.\\n', \n",
    "              best_so_far.after_n_iters);\n",
    "        #theta = best_so_far.theta;\n",
    "\n",
    "def initial_model(n_hid):\n",
    "    \"\"\"\n",
    "    initial_model(0) creates model.input_to_hid={0x256} and model.hid_to_class=(10x0). A numpy 0 dimension\n",
    "    is an empty matrix with allocated shape. Just like in octave!\n",
    "    \n",
    "    octave starts array indexing from 1, numpy from 0. octave range = n_params-1 and numpy range 0,n_params\n",
    "    which is same as range(n_params)\n",
    "    the octave code creates a vector from 0 to n_params-1 and does a cos on the range\n",
    "    \"\"\"\n",
    "    if n_hid==0:\n",
    "        m = model()\n",
    "        m.set_input_to_hid(np.zeros(shape=(0,256)))\n",
    "        m.set_hid_to_class(np.zeros(shape=(10,0)))\n",
    "        return m\n",
    "    \n",
    "    n_params = (256+10)*n_hid\n",
    "    print(\"n_params:\",n_params)\n",
    "    as_row_vector = np.cos(np.array(range(0,n_params)))\n",
    "    #as_row_vector = (np.array(range(0,n_params)))\n",
    "    \n",
    "    #print('as_row_vector shape:',as_row_vector.shape)\n",
    "    #print('as_row_vector:',as_row_vector[0:20])\n",
    "    \n",
    "    m_theta =  theta_to_model(as_row_vector * 0.1 )\n",
    "    #m_theta =  theta_to_model(as_row_vector  )\n",
    "    \n",
    "    #print('initial_model model input_to_hid shape:', m_theta.input_to_hid.shape)\n",
    "    return m_theta\n",
    "\n",
    "#divide into 2 parts, the first 256 and the second 10; the 2 sets of weights are concatenated together\n",
    "#theta is some vector.. which can be split into 1 parts. Becareful of octave start 0 numpy from 1\n",
    "def theta_to_model(theta):\n",
    "    \n",
    "    print('theta shape:', theta.shape)\n",
    "    n_hid = (theta.shape[0]/(256+10))\n",
    "    n_hid = int(n_hid)\n",
    "    print('theta_to_model n_hid:%f',n_hid)\n",
    "    if(n_hid==0):\n",
    "        print (\"error n_hid!=0\")\n",
    "    #reshape changes the order...the reshape then tranpose are a problem...\n",
    "    input_to_hid = (theta[0:(256*n_hid)]).reshape(n_hid,-1)\n",
    "    print('input_to_hid shape:',input_to_hid.shape)\n",
    "    print('input_to_hid before reshape!!!!:', input_to_hid)\n",
    "    #print('hid to class before reshape:', theta[256*n_hid:])\n",
    "    if(n_hid==1):\n",
    "        hid_to_class = np.transpose(theta[256*n_hid:].reshape(1,-1))\n",
    "    else:\n",
    "        hid_to_class = theta[256*n_hid:].reshape(-1,n_hid)\n",
    "    print('after reshape input_to_hid shape:', input_to_hid.shape)\n",
    "    print('after reshape hid_to_class shape:', hid_to_class.shape)\n",
    "    \n",
    "    m = model()\n",
    "    m.set_input_to_hid(input_to_hid)\n",
    "   \n",
    "    m.set_hid_to_class(hid_to_class)\n",
    "    print('input_to_hid final:{}',m.input_to_hid)\n",
    "    print('hid_to_class final:{}', m.hid_to_class)\n",
    "    return m\n",
    "\n",
    "#\n",
    "def model_to_theta(model):\n",
    "    input_to_hid = model.input_to_hid\n",
    "    hid_to_class = model.hid_to_class\n",
    "    return np.stack((input_to_hid, hid_to_class),axis=1)\n",
    "\n",
    "def logistic(x):\n",
    "    return 1./(1+np.exp(np.negative(x)))\n",
    "\n",
    "#equivalent to log(sum(exp(A)))\n",
    "def log_sum_exp_over_rows(x):\n",
    "    maxs_small = x.max(0)\n",
    "    maxs_big = np.matlib.repmat(maxs_small, x.shape[0],1)\n",
    "    ret = np.log(np.sum(np.exp(x-maxs_big),axis=0))+ maxs_small\n",
    "                 \n",
    "    return ret\n",
    "\n",
    "#mapping from octave model.input_to_hid->input_to_hid, model.hid_to_class->hid_to_class\n",
    "#data.inputs->data_input, data.targets->data_targets, data_input,data_targets for test, validation, target\n",
    "#data sets. \n",
    "def loss(model, data, wd_coefficient):\n",
    "    print('loss model.input_to_hid shape:{} model.hid_to_class shape:{}'.format(model.input_to_hid.shape, model.hid_to_class.shape))\n",
    "    print('loss sum input_to_hid: {} , sum hid_to_class:{}'.format(np.sum(model.input_to_hid), np.sum(model.hid_to_class)))\n",
    "    print('loss data.inputs sum:{}, data_input.shape {}'.format(np.sum(data.inputs),(data.inputs).shape))\n",
    "    \n",
    "    hid_input = np.dot(model.input_to_hid, data.inputs)\n",
    "    print('hid_input shape: {}, sum hid_dot:{},'.format(hid_input.shape, np.sum(hid_input)))\n",
    "    hid_output = logistic(hid_input)\n",
    "    print('hid_output shape: {} sum hid_output: {}'.format(hid_output.shape, np.sum(hid_output)))\n",
    "\n",
    "    class_input = np.dot(model.hid_to_class,hid_output)\n",
    "    print('class_input shape:{}, sum class_input:{}',class_input.shape,np.sum(class_input))\n",
    "    class_normalizer = log_sum_exp_over_rows(class_input)\n",
    "    print('class_normalizer shape:',class_normalizer.shape)\n",
    "    print('sum class_normalizer:', np.sum(class_normalizer))\n",
    "    log_class_prob = class_input - np.matlib.repmat(class_normalizer, class_input.shape[0],1)\n",
    "    print('log_class_prob shape:{} sum log_class_prob {}'.format(log_class_prob.shape,np.sum(log_class_prob)))\n",
    "    \n",
    "    test_multiply = np.multiply(log_class_prob, data.targets)\n",
    "    print('test_mutiply shape:', test_multiply.shape)\n",
    "   \n",
    "    test_sum = np.sum(test_multiply,0)\n",
    "    print('test_sum shape:',test_sum.shape)\n",
    "    class_loss = -np.mean(test_sum)\n",
    "    print('classification_loss:', class_loss)\n",
    "    #wd_loss = \n",
    "    return class_loss\n",
    "    \n",
    "\n",
    "def test_gradient(model,data,wd_coefficient):\n",
    "    \"\"\"\n",
    "    \"\"\"\n",
    "    base_theta = model_to_theta(model)\n",
    "    h = 1e-2\n",
    "    correctness_threshold = 1e-5\n",
    "    analytic_gradient = model_to_theta(d_loss_by_d_model(model,data,wd_coefficient))\n",
    "    for i in range(100):\n",
    "        test_index = (i * 1299721) % base_theta.shape[0] + 1\n",
    "        print(\"i:{} test_index:{}\", i, test_index)\n",
    "        analytic_here = analytic_gradient(test_index)\n",
    "        theta_step = base_theta * 0\n",
    "        theta_step[test_index] = h\n",
    "        #contribution_distances = [-4:1, 1:4]\n",
    "        contribution_weights = [1/280,-4/105,1/5,4/5,-1/5,4/105,-1/280]\n",
    "        temp = 0\n",
    "        #for contribution_index in range(0,8):\n",
    "        #temp = temp + loss(theta_to_model(base_theta + theta_step * contribution_distances(contribution_index)),\n",
    "        #                  data,wd_coefficient) * contribution_weights(contribution_index)\n",
    "        #fd_here = temp/h\n",
    "        #diff = np.abs(analytic_here - fd_here)\n",
    "        # print('diff:{}',diff)\n",
    "        #print('correctness_threshold:{}',correctness_threshold)\n",
    "\n",
    "def d_loss_by_d_model(model,data,wd_coefficient):\n",
    "    '''\n",
    "    \n",
    "    '''\n",
    "    m = data.inputs.shape[1]\n",
    "    hid_input = model.input_to_hid * data.inputs\n",
    "    hid_output = logistic(hid_input)\n",
    "    class_input = np.dot(model.hid_to_class, hid_output)\n",
    "    class_normalizer = log_sum_exp_over_rows(class_input)\n",
    "    log_class_prob = class_input - np.matlib.repmat(class_normalizer, class_input.shape[0],1)\n",
    "    class_output = np.exp(log_class_prob)\n",
    "    \n",
    "    delta_3 = class_output = data.targets\n",
    "    \n",
    "    delta_2 = np.dot(np.transpose(model.hid_to_class),delta_3) * np.dot(logistic(hid_input), 1-logistic(hid_input))\n",
    "    \n",
    "    ret_input_to_hid = 1/m * np.dot(delta_2, np.transpose(data.inputs)) + np.dot(wd_coefficient,model.input_to_hid)\n",
    "    \n",
    "    ret_hid_to_class = 1/m * np.dot(delta_3,np.transpose(hid_output)) + np.dot(wd_coefficient, model.hid_to_class)\n",
    "    \n",
    "    m = model()\n",
    "    m.set_input_to_hid(ret_input_to_hid)\n",
    "    m.set_hid_to_class(ret_hid_to_class)\n",
    "    return m\n",
    "\n",
    "def classification_performance(model,data):\n",
    "    hid_input = np.dot(model.input_to_hid,data.inputs)\n",
    "    hid_output = logistic(hid_input)\n",
    "    class_input  = np.dot(model.hid_to_class, hid_output)\n",
    "    print('is this a tuple? max class_input:{}', np.max(class_input))\n",
    "    print('is this a tuple? max data.targets:{}', np.max(data.targets))\n",
    "    choices = np.max(class_input)\n",
    "    targets = max(data.targets)\n",
    "    #this is fucked up\n",
    "    test = mean((double)(choices = choices != targets))\n",
    "    \n",
    "#foo = np.array([ 4.04858735,  5.04858735,  6.04858735])\n",
    "#print(foo)\n",
    "#np.testing.assert_array_equal(np.array([1]),np.array([1]))\n",
    "#np.testing.assert_array_equal(test_logsumexp,np.array([ 4.04858735,  5.04858735,  6.04858735]))"
   ]
  },
  {
   "cell_type": "code",
   "execution_count": 34,
   "metadata": {
    "collapsed": false,
    "deletable": true,
    "editable": true
   },
   "outputs": [
    {
     "name": "stdout",
     "output_type": "stream",
     "text": [
      "<class 'numpy.ndarray'>\n",
      "test_logistic shape: (2, 3)\n",
      "test_logistic: [[ 0.73105858  0.88079708  0.95257413]\n",
      " [ 0.98201379  0.99330715  0.99752738]]\n"
     ]
    }
   ],
   "source": [
    "A=[[1,2,3],[4,5,6]]\n",
    "test_logistic = logistic(A)\n",
    "print(type(test_logistic))\n",
    "print(\"test_logistic shape:\",test_logistic.shape)\n",
    "print (\"test_logistic:\",test_logistic)\n"
   ]
  },
  {
   "cell_type": "markdown",
   "metadata": {
    "deletable": true,
    "editable": true
   },
   "source": [
    "<h6>verify logistic</h6>\n",
    "<img src=\"verify2.png\">"
   ]
  },
  {
   "cell_type": "code",
   "execution_count": 59,
   "metadata": {
    "collapsed": false
   },
   "outputs": [
    {
     "name": "stdout",
     "output_type": "stream",
     "text": [
      "n_params: 266\n",
      "as_row_vector shape: (266,)\n",
      "as_row_vector: [ 0  1  2  3  4  5  6  7  8  9 10 11 12 13 14 15 16 17 18 19]\n",
      "theta shape: (266,)\n",
      "theta_to_model n_hid:%f 1\n",
      "input_to_hid shape: (1, 256)\n",
      "input_to_hid before reshape!!!!: [[  0   1   2   3   4   5   6   7   8   9  10  11  12  13  14  15  16  17\n",
      "   18  19  20  21  22  23  24  25  26  27  28  29  30  31  32  33  34  35\n",
      "   36  37  38  39  40  41  42  43  44  45  46  47  48  49  50  51  52  53\n",
      "   54  55  56  57  58  59  60  61  62  63  64  65  66  67  68  69  70  71\n",
      "   72  73  74  75  76  77  78  79  80  81  82  83  84  85  86  87  88  89\n",
      "   90  91  92  93  94  95  96  97  98  99 100 101 102 103 104 105 106 107\n",
      "  108 109 110 111 112 113 114 115 116 117 118 119 120 121 122 123 124 125\n",
      "  126 127 128 129 130 131 132 133 134 135 136 137 138 139 140 141 142 143\n",
      "  144 145 146 147 148 149 150 151 152 153 154 155 156 157 158 159 160 161\n",
      "  162 163 164 165 166 167 168 169 170 171 172 173 174 175 176 177 178 179\n",
      "  180 181 182 183 184 185 186 187 188 189 190 191 192 193 194 195 196 197\n",
      "  198 199 200 201 202 203 204 205 206 207 208 209 210 211 212 213 214 215\n",
      "  216 217 218 219 220 221 222 223 224 225 226 227 228 229 230 231 232 233\n",
      "  234 235 236 237 238 239 240 241 242 243 244 245 246 247 248 249 250 251\n",
      "  252 253 254 255]]\n",
      "after reshape input_to_hid shape: (1, 256)\n",
      "after reshape hid_to_class shape: (10, 1)\n",
      "input_to_hid final:{} [[  0   1   2   3   4   5   6   7   8   9  10  11  12  13  14  15  16  17\n",
      "   18  19  20  21  22  23  24  25  26  27  28  29  30  31  32  33  34  35\n",
      "   36  37  38  39  40  41  42  43  44  45  46  47  48  49  50  51  52  53\n",
      "   54  55  56  57  58  59  60  61  62  63  64  65  66  67  68  69  70  71\n",
      "   72  73  74  75  76  77  78  79  80  81  82  83  84  85  86  87  88  89\n",
      "   90  91  92  93  94  95  96  97  98  99 100 101 102 103 104 105 106 107\n",
      "  108 109 110 111 112 113 114 115 116 117 118 119 120 121 122 123 124 125\n",
      "  126 127 128 129 130 131 132 133 134 135 136 137 138 139 140 141 142 143\n",
      "  144 145 146 147 148 149 150 151 152 153 154 155 156 157 158 159 160 161\n",
      "  162 163 164 165 166 167 168 169 170 171 172 173 174 175 176 177 178 179\n",
      "  180 181 182 183 184 185 186 187 188 189 190 191 192 193 194 195 196 197\n",
      "  198 199 200 201 202 203 204 205 206 207 208 209 210 211 212 213 214 215\n",
      "  216 217 218 219 220 221 222 223 224 225 226 227 228 229 230 231 232 233\n",
      "  234 235 236 237 238 239 240 241 242 243 244 245 246 247 248 249 250 251\n",
      "  252 253 254 255]]\n",
      "hid_to_class final:{} [[256]\n",
      " [257]\n",
      " [258]\n",
      " [259]\n",
      " [260]\n",
      " [261]\n",
      " [262]\n",
      " [263]\n",
      " [264]\n",
      " [265]]\n",
      "initial_model model input_to_hid shape: (1, 256)\n"
     ]
    }
   ],
   "source": [
    "a = initial_model(1)"
   ]
  },
  {
   "cell_type": "code",
   "execution_count": 35,
   "metadata": {
    "collapsed": false,
    "deletable": true,
    "editable": true,
    "scrolled": false
   },
   "outputs": [
    {
     "name": "stdout",
     "output_type": "stream",
     "text": [
      "n_params: 266\n",
      "as_row_vector shape: (266,)\n",
      "theta shape: (266,)\n",
      "theta_to_model n_hid:%f 1\n",
      "input_to_hid shape: (256, 1)\n",
      "hid to class before reshape: [-0.00397908  0.08193055  0.09251361  0.01804008 -0.07301942 -0.0969452\n",
      " -0.03174001  0.06264679  0.09943643  0.04480467]\n",
      "before transpose input_to_hid shape: (256, 1)\n",
      "before transpose hid_to_class shape: (1, 10)\n",
      "input_to_hid final:{} [[ 0.1         0.05403023 -0.04161468 -0.09899925 -0.06536436  0.02836622\n",
      "   0.09601703  0.07539023 -0.01455    -0.09111303 -0.08390715  0.00044257\n",
      "   0.0843854   0.09074468  0.01367372 -0.07596879 -0.09576595 -0.02751633\n",
      "   0.06603167  0.09887046  0.04080821 -0.05477293 -0.09999608 -0.0532833\n",
      "   0.0424179   0.09912028  0.06469193 -0.02921388 -0.09626059 -0.07480575\n",
      "   0.01542514  0.09147424  0.08342234 -0.00132767 -0.08485703 -0.09036922\n",
      "  -0.01279637  0.07654141  0.09550736  0.02666429 -0.06669381 -0.09873393\n",
      "  -0.03999853  0.05551133  0.09998433  0.0525322  -0.04321779 -0.09923355\n",
      "  -0.06401443  0.03005925  0.0964966   0.07421542 -0.01629908 -0.09182828\n",
      "  -0.08293098  0.00221268  0.08532201  0.08998668  0.01191801 -0.07710802\n",
      "  -0.0952413  -0.02581016  0.06735072  0.09858966  0.03918572 -0.05624539\n",
      "  -0.09996475 -0.05177698  0.0440143   0.09933904  0.06333192 -0.03090227\n",
      "  -0.09672506 -0.07361927  0.01717173  0.09217513  0.08243313 -0.0030975\n",
      "  -0.08578031 -0.08959709 -0.01103872  0.0776686   0.09496777  0.02495401\n",
      "  -0.06800235 -0.09843766 -0.03836984  0.05697503  0.09993733  0.0510177\n",
      "  -0.04480736 -0.09943675 -0.06264444  0.03174287  0.09694594  0.07301736\n",
      "  -0.01804304 -0.09251475 -0.08192882  0.00398209  0.08623189  0.08920049\n",
      "   0.01015857 -0.07822309 -0.0946868  -0.0240959   0.06864866  0.09827796\n",
      "   0.03755096 -0.05770022 -0.09990208 -0.05025443  0.04559691  0.09952666\n",
      "   0.06195206 -0.03258098 -0.09715922 -0.07240972  0.01891294  0.09284713\n",
      "   0.0814181  -0.00486636 -0.08667671 -0.08879689 -0.00927762  0.07877145\n",
      "   0.09439841  0.02323591 -0.06928958 -0.09811055 -0.03672913  0.05842088\n",
      "   0.09985901  0.04948722 -0.04638289 -0.09960878 -0.06125482  0.03341654\n",
      "   0.09736489  0.07179641 -0.01978136 -0.09317224 -0.08090099  0.00575025\n",
      "   0.08711474  0.08838634  0.00839594 -0.07931364 -0.09410263 -0.0223741\n",
      "   0.06992508  0.09793546  0.03590443 -0.05913697 -0.09980811 -0.04871613\n",
      "   0.04716523  0.0996831   0.06055279 -0.03424948 -0.09756293 -0.07117748\n",
      "   0.02064822  0.09349004  0.08037755 -0.00663369 -0.08754595 -0.08796886\n",
      "  -0.00751361  0.07984962  0.09379948  0.02151053 -0.0705551  -0.09775269\n",
      "  -0.03507691  0.05984842  0.09974939  0.04794123 -0.04794388 -0.09974961\n",
      "  -0.05984601  0.03507973  0.09775333  0.07055296 -0.02151347 -0.09380052\n",
      "  -0.0798478   0.00751662  0.08797029  0.08754449  0.00663069 -0.08037934\n",
      "  -0.09348897 -0.02064527  0.07117959  0.09756227  0.03424665 -0.06055519\n",
      "  -0.09968286 -0.04716257  0.04871877  0.0998083   0.05913454 -0.03590724\n",
      "  -0.09793607 -0.06992293  0.02237703  0.09410365  0.07931181 -0.00839895\n",
      "  -0.08838775 -0.08711326 -0.00574724  0.08090276  0.09317114  0.0197784\n",
      "  -0.07179851 -0.0973642  -0.0334137   0.06125721  0.09960852  0.04638022\n",
      "  -0.04948984 -0.09985917 -0.05841844  0.03673194  0.09811114  0.06928741\n",
      "  -0.02323884 -0.09439941 -0.07876959  0.00928062  0.08879828  0.08667521\n",
      "   0.00486335 -0.08141985 -0.09284601 -0.01890998  0.0724118   0.09715851\n",
      "   0.03257813 -0.06195443 -0.09952637 -0.04559423  0.05025704  0.09990221\n",
      "   0.05769776 -0.03755375 -0.09827852 -0.06864646  0.02409883  0.09468777\n",
      "   0.07822121 -0.01016157 -0.08920185 -0.08623036]]\n",
      "hid_to_class final:{} [[-0.00397908]\n",
      " [ 0.08193055]\n",
      " [ 0.09251361]\n",
      " [ 0.01804008]\n",
      " [-0.07301942]\n",
      " [-0.0969452 ]\n",
      " [-0.03174001]\n",
      " [ 0.06264679]\n",
      " [ 0.09943643]\n",
      " [ 0.04480467]]\n",
      "initial_model model input_to_hid shape: (1, 256)\n",
      "(1, 256)\n",
      "(10, 1)\n"
     ]
    }
   ],
   "source": [
    "a = initial_model(1)\n",
    "print(a.input_to_hid.shape)\n",
    "print(a.hid_to_class.shape)\n"
   ]
  },
  {
   "cell_type": "markdown",
   "metadata": {
    "deletable": true,
    "editable": true
   },
   "source": [
    "<h6>Initial Model(1)</h6>\n",
    "<img src=\"im1a.png\">\n",
    "<img src=\"im1b.png\">"
   ]
  },
  {
   "cell_type": "markdown",
   "metadata": {
    "deletable": true,
    "editable": true
   },
   "source": [
    "<img arc=\"verify3.png\">"
   ]
  },
  {
   "cell_type": "code",
   "execution_count": 36,
   "metadata": {
    "collapsed": false,
    "deletable": true,
    "editable": true
   },
   "outputs": [
    {
     "name": "stdout",
     "output_type": "stream",
     "text": [
      "<class 'numpy.ndarray'>\n",
      "test_logsumexp: (3,)\n",
      "test_logsumexp: [ 4.04858735  5.04858735  6.04858735]\n"
     ]
    }
   ],
   "source": [
    "A=[[1,2,3],[4,5,6]]\n",
    "test_logsumexp = log_sum_exp_over_rows(A)\n",
    "print(type(test_logsumexp))\n",
    "print(\"test_logsumexp:\",test_logsumexp.shape)\n",
    "print (\"test_logsumexp:\",test_logsumexp)\n"
   ]
  },
  {
   "cell_type": "markdown",
   "metadata": {
    "deletable": true,
    "editable": true
   },
   "source": [
    "<h6>verify log_sum_exp_over_rows</h6>\n",
    "<img src=\"verify1.png\">"
   ]
  },
  {
   "cell_type": "code",
   "execution_count": 55,
   "metadata": {
    "collapsed": false,
    "scrolled": false
   },
   "outputs": [
    {
     "name": "stdout",
     "output_type": "stream",
     "text": [
      "n_params: 532\n",
      "as_row_vector shape: (532,)\n",
      "as_row_vector: [ 0  1  2  3  4  5  6  7  8  9 10 11 12 13 14 15 16 17 18 19]\n",
      "theta shape: (532,)\n",
      "theta_to_model n_hid:%f 2\n",
      "input_to_hid shape: (2, 256)\n",
      "input_to_hid before reshape!!!!: [[  0   1   2   3   4   5   6   7   8   9  10  11  12  13  14  15  16  17\n",
      "   18  19  20  21  22  23  24  25  26  27  28  29  30  31  32  33  34  35\n",
      "   36  37  38  39  40  41  42  43  44  45  46  47  48  49  50  51  52  53\n",
      "   54  55  56  57  58  59  60  61  62  63  64  65  66  67  68  69  70  71\n",
      "   72  73  74  75  76  77  78  79  80  81  82  83  84  85  86  87  88  89\n",
      "   90  91  92  93  94  95  96  97  98  99 100 101 102 103 104 105 106 107\n",
      "  108 109 110 111 112 113 114 115 116 117 118 119 120 121 122 123 124 125\n",
      "  126 127 128 129 130 131 132 133 134 135 136 137 138 139 140 141 142 143\n",
      "  144 145 146 147 148 149 150 151 152 153 154 155 156 157 158 159 160 161\n",
      "  162 163 164 165 166 167 168 169 170 171 172 173 174 175 176 177 178 179\n",
      "  180 181 182 183 184 185 186 187 188 189 190 191 192 193 194 195 196 197\n",
      "  198 199 200 201 202 203 204 205 206 207 208 209 210 211 212 213 214 215\n",
      "  216 217 218 219 220 221 222 223 224 225 226 227 228 229 230 231 232 233\n",
      "  234 235 236 237 238 239 240 241 242 243 244 245 246 247 248 249 250 251\n",
      "  252 253 254 255]\n",
      " [256 257 258 259 260 261 262 263 264 265 266 267 268 269 270 271 272 273\n",
      "  274 275 276 277 278 279 280 281 282 283 284 285 286 287 288 289 290 291\n",
      "  292 293 294 295 296 297 298 299 300 301 302 303 304 305 306 307 308 309\n",
      "  310 311 312 313 314 315 316 317 318 319 320 321 322 323 324 325 326 327\n",
      "  328 329 330 331 332 333 334 335 336 337 338 339 340 341 342 343 344 345\n",
      "  346 347 348 349 350 351 352 353 354 355 356 357 358 359 360 361 362 363\n",
      "  364 365 366 367 368 369 370 371 372 373 374 375 376 377 378 379 380 381\n",
      "  382 383 384 385 386 387 388 389 390 391 392 393 394 395 396 397 398 399\n",
      "  400 401 402 403 404 405 406 407 408 409 410 411 412 413 414 415 416 417\n",
      "  418 419 420 421 422 423 424 425 426 427 428 429 430 431 432 433 434 435\n",
      "  436 437 438 439 440 441 442 443 444 445 446 447 448 449 450 451 452 453\n",
      "  454 455 456 457 458 459 460 461 462 463 464 465 466 467 468 469 470 471\n",
      "  472 473 474 475 476 477 478 479 480 481 482 483 484 485 486 487 488 489\n",
      "  490 491 492 493 494 495 496 497 498 499 500 501 502 503 504 505 506 507\n",
      "  508 509 510 511]]\n",
      "after reshape input_to_hid shape: (2, 256)\n",
      "after reshape hid_to_class shape: (10, 2)\n",
      "input_to_hid final:{} [[  0   1   2   3   4   5   6   7   8   9  10  11  12  13  14  15  16  17\n",
      "   18  19  20  21  22  23  24  25  26  27  28  29  30  31  32  33  34  35\n",
      "   36  37  38  39  40  41  42  43  44  45  46  47  48  49  50  51  52  53\n",
      "   54  55  56  57  58  59  60  61  62  63  64  65  66  67  68  69  70  71\n",
      "   72  73  74  75  76  77  78  79  80  81  82  83  84  85  86  87  88  89\n",
      "   90  91  92  93  94  95  96  97  98  99 100 101 102 103 104 105 106 107\n",
      "  108 109 110 111 112 113 114 115 116 117 118 119 120 121 122 123 124 125\n",
      "  126 127 128 129 130 131 132 133 134 135 136 137 138 139 140 141 142 143\n",
      "  144 145 146 147 148 149 150 151 152 153 154 155 156 157 158 159 160 161\n",
      "  162 163 164 165 166 167 168 169 170 171 172 173 174 175 176 177 178 179\n",
      "  180 181 182 183 184 185 186 187 188 189 190 191 192 193 194 195 196 197\n",
      "  198 199 200 201 202 203 204 205 206 207 208 209 210 211 212 213 214 215\n",
      "  216 217 218 219 220 221 222 223 224 225 226 227 228 229 230 231 232 233\n",
      "  234 235 236 237 238 239 240 241 242 243 244 245 246 247 248 249 250 251\n",
      "  252 253 254 255]\n",
      " [256 257 258 259 260 261 262 263 264 265 266 267 268 269 270 271 272 273\n",
      "  274 275 276 277 278 279 280 281 282 283 284 285 286 287 288 289 290 291\n",
      "  292 293 294 295 296 297 298 299 300 301 302 303 304 305 306 307 308 309\n",
      "  310 311 312 313 314 315 316 317 318 319 320 321 322 323 324 325 326 327\n",
      "  328 329 330 331 332 333 334 335 336 337 338 339 340 341 342 343 344 345\n",
      "  346 347 348 349 350 351 352 353 354 355 356 357 358 359 360 361 362 363\n",
      "  364 365 366 367 368 369 370 371 372 373 374 375 376 377 378 379 380 381\n",
      "  382 383 384 385 386 387 388 389 390 391 392 393 394 395 396 397 398 399\n",
      "  400 401 402 403 404 405 406 407 408 409 410 411 412 413 414 415 416 417\n",
      "  418 419 420 421 422 423 424 425 426 427 428 429 430 431 432 433 434 435\n",
      "  436 437 438 439 440 441 442 443 444 445 446 447 448 449 450 451 452 453\n",
      "  454 455 456 457 458 459 460 461 462 463 464 465 466 467 468 469 470 471\n",
      "  472 473 474 475 476 477 478 479 480 481 482 483 484 485 486 487 488 489\n",
      "  490 491 492 493 494 495 496 497 498 499 500 501 502 503 504 505 506 507\n",
      "  508 509 510 511]]\n",
      "hid_to_class final:{} [[512 513]\n",
      " [514 515]\n",
      " [516 517]\n",
      " [518 519]\n",
      " [520 521]\n",
      " [522 523]\n",
      " [524 525]\n",
      " [526 527]\n",
      " [528 529]\n",
      " [530 531]]\n",
      "initial_model model input_to_hid shape: (2, 256)\n"
     ]
    }
   ],
   "source": [
    "a = initial_model(2)\n"
   ]
  },
  {
   "cell_type": "code",
   "execution_count": 92,
   "metadata": {
    "collapsed": false,
    "deletable": true,
    "editable": true
   },
   "outputs": [
    {
     "name": "stdout",
     "output_type": "stream",
     "text": [
      "n_params: 2660\n",
      "theta shape: (2660,)\n",
      "theta_to_model n_hid:%f 10\n",
      "input_to_hid shape: (10, 256)\n",
      "input_to_hid before reshape!!!!: [[ 0.1         0.05403023 -0.04161468 ..., -0.01016157 -0.08920185\n",
      "  -0.08623036]\n",
      " [-0.00397908  0.08193055  0.09251361 ...,  0.09980792  0.0487135\n",
      "  -0.04716789]\n",
      " [-0.09968334 -0.06055039  0.03425231 ...,  0.0022187   0.08532515\n",
      "   0.08998405]\n",
      " ..., \n",
      " [ 0.02750184 -0.06604299 -0.0988682  ..., -0.09844085 -0.06798909\n",
      "   0.02497153]\n",
      " [ 0.09497343  0.0776572  -0.0110567  ...,  0.02149286 -0.07056792\n",
      "  -0.09774888]\n",
      " [-0.03505997  0.05986291  0.09974811 ...,  0.09673041  0.07360499\n",
      "  -0.01719252]]\n",
      "after reshape input_to_hid shape: (10, 256)\n",
      "after reshape hid_to_class shape: (10, 10)\n",
      "input_to_hid final:{} [[ 0.1         0.05403023 -0.04161468 ..., -0.01016157 -0.08920185\n",
      "  -0.08623036]\n",
      " [-0.00397908  0.08193055  0.09251361 ...,  0.09980792  0.0487135\n",
      "  -0.04716789]\n",
      " [-0.09968334 -0.06055039  0.03425231 ...,  0.0022187   0.08532515\n",
      "   0.08998405]\n",
      " ..., \n",
      " [ 0.02750184 -0.06604299 -0.0988682  ..., -0.09844085 -0.06798909\n",
      "   0.02497153]\n",
      " [ 0.09497343  0.0776572  -0.0110567  ...,  0.02149286 -0.07056792\n",
      "  -0.09774888]\n",
      " [-0.03505997  0.05986291  0.09974811 ...,  0.09673041  0.07360499\n",
      "  -0.01719252]]\n",
      "hid_to_class final:{} [[-0.09218331 -0.08242119  0.00311859  0.08579115  0.08958772  0.01101775\n",
      "  -0.07768189 -0.09496116 -0.02493358  0.06801782]\n",
      " [ 0.09843395  0.03835036 -0.05699237 -0.09993658 -0.05099955  0.04482622\n",
      "   0.09943898  0.062628   -0.03176288 -0.09695111]\n",
      " [-0.07300294  0.0180638   0.09252276  0.08191672 -0.00400317 -0.08624257\n",
      "  -0.08919095 -0.01013758  0.07823623  0.09468001]\n",
      " [ 0.02407543 -0.068664   -0.09827406 -0.0375314   0.05771745  0.09990115\n",
      "   0.05023619 -0.04561569 -0.09952871 -0.0619355 ]\n",
      " [ 0.03260093  0.09716421  0.07239516 -0.01893366 -0.09285497 -0.08140584\n",
      "   0.00488744  0.08668723  0.08878718  0.00925661]\n",
      " [-0.07878445 -0.09439145 -0.02321539  0.0693048   0.09810647  0.03670951\n",
      "  -0.05843801 -0.09985788 -0.04946888  0.04640158]\n",
      " [ 0.09961065  0.06123814 -0.03343643 -0.0973697  -0.07178172  0.01980204\n",
      "   0.0931799   0.08088859 -0.00577132 -0.0871251 ]\n",
      " [-0.08837647 -0.00837492  0.07932649  0.09409549  0.02235353 -0.06994016\n",
      "  -0.09793119 -0.03588473  0.05915398  0.0998068 ]\n",
      " [ 0.04869771 -0.04718383 -0.09968478 -0.06053599  0.0342693   0.09756756\n",
      "   0.07116265 -0.02066887 -0.09349753 -0.08036499]\n",
      " [ 0.00665475  0.08755614  0.08795882  0.00749257 -0.07986232 -0.09379216\n",
      "  -0.02148992  0.07057005  0.09774824  0.03505715]]\n",
      "a.input_to_hid shape:{} a.hid_to_class shape:{} (10, 256) (10, 10)\n",
      "0.131565327668\n",
      "0.0216791270802\n"
     ]
    }
   ],
   "source": [
    "m = initial_model(10)\n",
    "print('a.input_to_hid shape:{} a.hid_to_class shape:{}', m.input_to_hid.shape, m.hid_to_class.shape)\n",
    "print(np.sum(m.input_to_hid))\n",
    "print(np.sum(m.hid_to_class))"
   ]
  },
  {
   "cell_type": "markdown",
   "metadata": {
    "deletable": true,
    "editable": true
   },
   "source": [
    "<h6>notes</h6>\n",
    "in octave from_data_file = load('data.mat')\n",
    "<p></p>\n",
    "in octave datas = data_file.data\n",
    "<p></p>\n",
    "in octave, datas2 = {datas.training, datas.validation, datas.test}\n",
    "<p></p>\n",
    "data=datas2{data_i}\n",
    "<p></p>\n",
    "then loss is called with loss(model,data,wd_coefficient) or\n",
    "loss(model,datas.training,wd_coefficient) then loss(model,datas.validation,wd_coefficient) \n",
    "then loss(model,datas.test,wd_coefficient)"
   ]
  },
  {
   "cell_type": "code",
   "execution_count": 93,
   "metadata": {
    "collapsed": false,
    "deletable": true,
    "editable": true,
    "scrolled": true
   },
   "outputs": [
    {
     "name": "stdout",
     "output_type": "stream",
     "text": [
      "train_target shape: (10, 1000)\n",
      "train_input shape: (256, 1000)\n",
      "loss model.input_to_hid shape:(10, 256) model.hid_to_class shape:(10, 10)\n",
      "loss sum input_to_hid: 0.13156532766831744 , sum hid_to_class:0.021679127080227546\n",
      "loss data.inputs sum:63213.010485252365, data_input.shape (256, 1000)\n",
      "hid_input shape: (10, 1000), sum hid_dot:3.3735296228287424,\n",
      "hid_output shape: (10, 1000) sum hid_output: 5000.838618375347\n",
      "class_input shape:{}, sum class_input:{} (10, 1000) 10.8341785109\n",
      "class_normalizer shape: (1000,)\n",
      "sum class_normalizer: 2306.00964047\n",
      "log_class_prob shape:(10, 1000) sum log_class_prob -23049.262226208986\n",
      "test_mutiply shape: (10, 1000)\n",
      "test_sum shape: (1000,)\n",
      "classification_loss: 2.30486708825\n",
      "2.30486708825\n"
     ]
    }
   ],
   "source": [
    "\n",
    "train_target = dt_train_target['dt_train_target']\n",
    "train_input = dt_train_input['dt_train_input']\n",
    "traindata = data()\n",
    "traindata.set_inputs(train_input)\n",
    "traindata.set_target(train_target)\n",
    "print ('train_target shape:',train_target.shape)\n",
    "print ('train_input shape:',train_input.shape)\n",
    "a = loss(m, traindata, 0)\n",
    "print(a)\n",
    "\n",
    "\n"
   ]
  },
  {
   "cell_type": "code",
   "execution_count": 94,
   "metadata": {
    "collapsed": false,
    "deletable": true,
    "editable": true,
    "scrolled": true
   },
   "outputs": [
    {
     "name": "stdout",
     "output_type": "stream",
     "text": [
      "loss model.input_to_hid shape:(10, 256) model.hid_to_class shape:(10, 10)\n",
      "loss sum input_to_hid: 0.13156532766831744 , sum hid_to_class:0.021679127080227546\n",
      "loss data.inputs sum:572208.8237504652, data_input.shape (256, 9000)\n",
      "hid_input shape: (10, 9000), sum hid_dot:2.465664201807436,\n",
      "hid_output shape: (10, 9000) sum hid_output: 45000.621784697745\n",
      "class_input shape:{}, sum class_input:{} (10, 9000) 97.5501898306\n",
      "class_normalizer shape: (9000,)\n",
      "sum class_normalizer: 20754.1011739\n",
      "log_class_prob shape:(10, 9000) sum log_class_prob -207443.4615496063\n",
      "test_mutiply shape: (10, 9000)\n",
      "test_sum shape: (9000,)\n",
      "classification_loss: 2.30492531177\n",
      "2.30492531177\n",
      "loss model.input_to_hid shape:(10, 256) model.hid_to_class shape:(10, 10)\n",
      "loss sum input_to_hid: 0.13156532766831744 , sum hid_to_class:0.021679127080227546\n",
      "loss data.inputs sum:63984.210498373024, data_input.shape (256, 1000)\n",
      "hid_input shape: (10, 1000), sum hid_dot:11.568606411053135,\n",
      "hid_output shape: (10, 1000) sum hid_output: 5002.88447734581\n",
      "class_input shape:{}, sum class_input:{} (10, 1000) 10.8320913789\n",
      "class_normalizer shape: (1000,)\n",
      "sum class_normalizer: 2306.00677801\n",
      "log_class_prob shape:(10, 1000) sum log_class_prob -23049.235688683773\n",
      "test_mutiply shape: (10, 1000)\n",
      "test_sum shape: (1000,)\n",
      "classification_loss: 2.30489382848\n",
      "2.30489382848\n"
     ]
    }
   ],
   "source": [
    "test_input = dt_test_input['dt_test_input'] \n",
    "test_target = dt_test_target['dt_test_target']\n",
    "test_data = data()\n",
    "test_data.set_inputs(test_input)\n",
    "test_data.set_target(test_target)\n",
    "\n",
    "a = loss(m, test_data, 0)\n",
    "print(a)\n",
    "valid_input = dt_valid_input['dt_valid_input']\n",
    "valid_target = dt_valid_target['dt_valid_target']\n",
    "valid_data = data()\n",
    "valid_data.set_inputs(valid_input)\n",
    "valid_data.set_target(valid_target)\n",
    "\n",
    "a = loss(m, valid_data, 0)\n",
    "print(a)"
   ]
  },
  {
   "cell_type": "code",
   "execution_count": 95,
   "metadata": {
    "collapsed": false,
    "deletable": true,
    "editable": true
   },
   "outputs": [
    {
     "name": "stdout",
     "output_type": "stream",
     "text": [
      "n_params: 2660\n",
      "theta shape: (2660,)\n",
      "theta_to_model n_hid:%f 10\n",
      "input_to_hid shape: (10, 256)\n",
      "input_to_hid before reshape!!!!: [[ 0.1         0.05403023 -0.04161468 ..., -0.01016157 -0.08920185\n",
      "  -0.08623036]\n",
      " [-0.00397908  0.08193055  0.09251361 ...,  0.09980792  0.0487135\n",
      "  -0.04716789]\n",
      " [-0.09968334 -0.06055039  0.03425231 ...,  0.0022187   0.08532515\n",
      "   0.08998405]\n",
      " ..., \n",
      " [ 0.02750184 -0.06604299 -0.0988682  ..., -0.09844085 -0.06798909\n",
      "   0.02497153]\n",
      " [ 0.09497343  0.0776572  -0.0110567  ...,  0.02149286 -0.07056792\n",
      "  -0.09774888]\n",
      " [-0.03505997  0.05986291  0.09974811 ...,  0.09673041  0.07360499\n",
      "  -0.01719252]]\n",
      "after reshape input_to_hid shape: (10, 256)\n",
      "after reshape hid_to_class shape: (10, 10)\n",
      "input_to_hid final:{} [[ 0.1         0.05403023 -0.04161468 ..., -0.01016157 -0.08920185\n",
      "  -0.08623036]\n",
      " [-0.00397908  0.08193055  0.09251361 ...,  0.09980792  0.0487135\n",
      "  -0.04716789]\n",
      " [-0.09968334 -0.06055039  0.03425231 ...,  0.0022187   0.08532515\n",
      "   0.08998405]\n",
      " ..., \n",
      " [ 0.02750184 -0.06604299 -0.0988682  ..., -0.09844085 -0.06798909\n",
      "   0.02497153]\n",
      " [ 0.09497343  0.0776572  -0.0110567  ...,  0.02149286 -0.07056792\n",
      "  -0.09774888]\n",
      " [-0.03505997  0.05986291  0.09974811 ...,  0.09673041  0.07360499\n",
      "  -0.01719252]]\n",
      "hid_to_class final:{} [[-0.09218331 -0.08242119  0.00311859  0.08579115  0.08958772  0.01101775\n",
      "  -0.07768189 -0.09496116 -0.02493358  0.06801782]\n",
      " [ 0.09843395  0.03835036 -0.05699237 -0.09993658 -0.05099955  0.04482622\n",
      "   0.09943898  0.062628   -0.03176288 -0.09695111]\n",
      " [-0.07300294  0.0180638   0.09252276  0.08191672 -0.00400317 -0.08624257\n",
      "  -0.08919095 -0.01013758  0.07823623  0.09468001]\n",
      " [ 0.02407543 -0.068664   -0.09827406 -0.0375314   0.05771745  0.09990115\n",
      "   0.05023619 -0.04561569 -0.09952871 -0.0619355 ]\n",
      " [ 0.03260093  0.09716421  0.07239516 -0.01893366 -0.09285497 -0.08140584\n",
      "   0.00488744  0.08668723  0.08878718  0.00925661]\n",
      " [-0.07878445 -0.09439145 -0.02321539  0.0693048   0.09810647  0.03670951\n",
      "  -0.05843801 -0.09985788 -0.04946888  0.04640158]\n",
      " [ 0.09961065  0.06123814 -0.03343643 -0.0973697  -0.07178172  0.01980204\n",
      "   0.0931799   0.08088859 -0.00577132 -0.0871251 ]\n",
      " [-0.08837647 -0.00837492  0.07932649  0.09409549  0.02235353 -0.06994016\n",
      "  -0.09793119 -0.03588473  0.05915398  0.0998068 ]\n",
      " [ 0.04869771 -0.04718383 -0.09968478 -0.06053599  0.0342693   0.09756756\n",
      "   0.07116265 -0.02066887 -0.09349753 -0.08036499]\n",
      " [ 0.00665475  0.08755614  0.08795882  0.00749257 -0.07986232 -0.09379216\n",
      "  -0.02148992  0.07057005  0.09774824  0.03505715]]\n"
     ]
    },
    {
     "ename": "NameError",
     "evalue": "name 'load' is not defined",
     "output_type": "error",
     "traceback": [
      "\u001b[0;31m---------------------------------------------------------------------------\u001b[0m",
      "\u001b[0;31mNameError\u001b[0m                                 Traceback (most recent call last)",
      "\u001b[0;32m<ipython-input-95-2e1d90b98e9b>\u001b[0m in \u001b[0;36m<module>\u001b[0;34m()\u001b[0m\n\u001b[0;32m----> 1\u001b[0;31m \u001b[0ma3\u001b[0m\u001b[0;34m(\u001b[0m\u001b[0;36m0\u001b[0m\u001b[0;34m,\u001b[0m\u001b[0;36m10\u001b[0m\u001b[0;34m,\u001b[0m\u001b[0;36m0\u001b[0m\u001b[0;34m,\u001b[0m\u001b[0;36m0\u001b[0m\u001b[0;34m,\u001b[0m\u001b[0;36m0\u001b[0m\u001b[0;34m,\u001b[0m\u001b[0;32mFalse\u001b[0m\u001b[0;34m,\u001b[0m\u001b[0;36m0\u001b[0m\u001b[0;34m)\u001b[0m\u001b[0;34m\u001b[0m\u001b[0m\n\u001b[0m",
      "\u001b[0;32m<ipython-input-89-2c51bcd3f83a>\u001b[0m in \u001b[0;36ma3\u001b[0;34m(wd_coefficient, n_hid, n_iters, learning_rate, momentum_multiplier, do_early_stopping, mini_batch_size)\u001b[0m\n\u001b[1;32m      3\u001b[0m \u001b[0;32mdef\u001b[0m \u001b[0ma3\u001b[0m\u001b[0;34m(\u001b[0m\u001b[0mwd_coefficient\u001b[0m\u001b[0;34m,\u001b[0m \u001b[0mn_hid\u001b[0m\u001b[0;34m,\u001b[0m\u001b[0mn_iters\u001b[0m\u001b[0;34m,\u001b[0m\u001b[0mlearning_rate\u001b[0m\u001b[0;34m,\u001b[0m\u001b[0mmomentum_multiplier\u001b[0m\u001b[0;34m,\u001b[0m\u001b[0mdo_early_stopping\u001b[0m\u001b[0;34m,\u001b[0m \u001b[0mmini_batch_size\u001b[0m\u001b[0;34m)\u001b[0m\u001b[0;34m:\u001b[0m\u001b[0;34m\u001b[0m\u001b[0m\n\u001b[1;32m      4\u001b[0m     \u001b[0mmodel\u001b[0m \u001b[0;34m=\u001b[0m \u001b[0minitial_model\u001b[0m\u001b[0;34m(\u001b[0m\u001b[0mn_hid\u001b[0m\u001b[0;34m)\u001b[0m\u001b[0;34m\u001b[0m\u001b[0m\n\u001b[0;32m----> 5\u001b[0;31m     \u001b[0mfrom_data_file\u001b[0m \u001b[0;34m=\u001b[0m \u001b[0mload\u001b[0m\u001b[0;34m(\u001b[0m\u001b[0;34m'data.mat'\u001b[0m\u001b[0;34m)\u001b[0m\u001b[0;34m\u001b[0m\u001b[0m\n\u001b[0m\u001b[1;32m      6\u001b[0m     \u001b[0mdatas\u001b[0m \u001b[0;34m=\u001b[0m \u001b[0mfrom_data_file\u001b[0m\u001b[0;34m.\u001b[0m\u001b[0mdata\u001b[0m\u001b[0;34m\u001b[0m\u001b[0m\n\u001b[1;32m      7\u001b[0m     \u001b[0;31m# this is funny, variable outside\u001b[0m\u001b[0;34m\u001b[0m\u001b[0;34m\u001b[0m\u001b[0m\n",
      "\u001b[0;31mNameError\u001b[0m: name 'load' is not defined"
     ]
    }
   ],
   "source": [
    "a3(0,10,0,0,0,False,0)"
   ]
  },
  {
   "cell_type": "code",
   "execution_count": null,
   "metadata": {
    "collapsed": true
   },
   "outputs": [],
   "source": []
  }
 ],
 "metadata": {
  "kernelspec": {
   "display_name": "Python 3",
   "language": "python",
   "name": "python3"
  },
  "language_info": {
   "codemirror_mode": {
    "name": "ipython",
    "version": 3
   },
   "file_extension": ".py",
   "mimetype": "text/x-python",
   "name": "python",
   "nbconvert_exporter": "python",
   "pygments_lexer": "ipython3",
   "version": "3.4.5"
  }
 },
 "nbformat": 4,
 "nbformat_minor": 2
}
