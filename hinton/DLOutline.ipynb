{
 "cells": [
  {
   "cell_type": "code",
   "execution_count": null,
   "metadata": {
    "collapsed": true
   },
   "outputs": [],
   "source": [
    "# <h2> outline<h2>\n",
    "\n",
    "<h4> linear/logistic regression workbook</h4>\n",
    "<li>multiclass classifiers softmax regression workbook</li> \n",
    "<li>cross entropy as part of softmax workbook</li>\n",
    "<h4>backpropagation workbook</h4>\n",
    "<p>derivation of chain rule for simple 2 layer FF network derivative linear/logistic/softmax</p>\n",
    "<p>propagating derivitave through w/multiple layers and tree structure demo</p>\n",
    "</li> vanishing gradient demo after backprop</li>\n",
    "</li>exploding gradient demo</li>\n",
    "<h4>SGD workbook</h4>\n",
    "<p>sgd vs gd using all training examples vs. batch picked at random. Use wikipedia backpropagation link for more\n",
    "details on why batch is better, direction vs. gradient descent</p>\n",
    "<li>https://github.com/jcjohnson/neural-style whow L-BFGS not as good as Adam</li>\n",
    "<h4> Activation functions/relu/selu workbook</h4>\n",
    "<h4>CNN workbook</h4>\n",
    "<p>CNN image classification example/raffic signs</p>\n",
    "<p>VAE to add variations/generalization error better</p>\n",
    "<p>Poorly defined problem Cervical Cancer problem</p>\n",
    "<h4>RNN workbook</h4>\n",
    "<h4>RESNET workbook</h4>\n",
    "<h4>Attention mechanism</h4>\n",
    "<p>http://torch.ch/blog/2015/09/21/rmva.html</p>\n",
    "<h4>Reciommender workbook</h4>\n",
    "<p>https://erikbern.com/2014/06/28/recurrent-neural-networks-for-collaborative-filtering.html</p>\n",
    "<p>Wide and deep on sparse datasets, example from weblog targeting vs. RF</p>\n",
    "<h5>Data visualization</h5>\n",
    "<p>Google typescript/ppolymer stack https://pair-code.github.io/facets/</p>"
   ]
  },
  {
   "cell_type": "code",
   "execution_count": null,
   "metadata": {
    "collapsed": true
   },
   "outputs": [],
   "source": []
  }
 ],
 "metadata": {
  "kernelspec": {
   "display_name": "Python [conda env:tf35]",
   "language": "python",
   "name": "conda-env-tf35-py"
  },
  "language_info": {
   "codemirror_mode": {
    "name": "ipython",
    "version": 3
   },
   "file_extension": ".py",
   "mimetype": "text/x-python",
   "name": "python",
   "nbconvert_exporter": "python",
   "pygments_lexer": "ipython3",
   "version": "3.5.1"
  }
 },
 "nbformat": 4,
 "nbformat_minor": 1
}
