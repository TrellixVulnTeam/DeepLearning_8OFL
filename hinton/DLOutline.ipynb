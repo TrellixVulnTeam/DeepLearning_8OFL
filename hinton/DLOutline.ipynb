{
 "cells": [
  {
   "cell_type": "markdown",
   "metadata": {},
   "source": [
    "# <h2> outline<h2>\n",
    "\n",
    "<h4> linear/logistic regression workbook</h4>\n",
    "<li>multiclass classifiers softmax regression workbook</li> \n",
    "<p>cross entropy as part of softmax workbook</p>\n",
    "<h4>backpropagation workbook</h4>\n",
    "<p>derivation of chain rule for simple 2 layer FF network derivative linear/logistic/softmax</p>\n",
    "<p>propagating derivitave through w/multiple layers and tree structure demo</p>\n",
    "<h4> vanishing gradient demo after backprop</h4>\n",
    "<p>exploding gradient demo</p>\n",
    "<h4>SGD workbook</h4>\n",
    "<p>sgd vs gd using all training examples vs. batch picked at random. Use wikipedia backpropagation link for more\n",
    "details on why batch is better, direction vs. gradient descent</p>\n",
    "<h4> Activation functions/relu/selu workbook</h4>\n",
    "<h4>CNN workbook</h4>\n",
    "<p>CNN image classification example/raffic signs</p>\n",
    "<p>VAE to add variations/generalization error better</p>\n",
    "<p>Poorly defined problem Cervical Cancer problem</p>\n",
    "<h4>RNN workbook</h4>\n",
    "<h4>RESNET workbook</h4>\n",
    "<h4>Reciommender workbook</h4>\n",
    "<p>Wide and deep on sparse datasets, example from weblog targeting vs. RF</p>\n",
    "<h5>Data visualization</h5>\n",
    "<p>Google typescript/ppolymer stack https://pair-code.github.io/facets/</p>"
   ]
  },
  {
   "cell_type": "code",
   "execution_count": null,
   "metadata": {
    "collapsed": true
   },
   "outputs": [],
   "source": []
  }
 ],
 "metadata": {
  "kernelspec": {
   "display_name": "Python [conda env:tf35]",
   "language": "python",
   "name": "conda-env-tf35-py"
  },
  "language_info": {
   "codemirror_mode": {
    "name": "ipython",
    "version": 3
   },
   "file_extension": ".py",
   "mimetype": "text/x-python",
   "name": "python",
   "nbconvert_exporter": "python",
   "pygments_lexer": "ipython3",
   "version": "3.5.1"
  }
 },
 "nbformat": 4,
 "nbformat_minor": 1
}
