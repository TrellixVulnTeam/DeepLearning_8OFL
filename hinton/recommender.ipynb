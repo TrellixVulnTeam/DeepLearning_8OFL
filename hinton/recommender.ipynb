{
 "cells": [
  {
   "cell_type": "code",
   "execution_count": null,
   "metadata": {
    "collapsed": true
   },
   "outputs": [],
   "source": [
    "<h6>Deep Recommender</h6>\n",
    "#https://github.com/NVIDIA/DeepRecommender\n",
    "This is only for a type of recommendation engine which is a collabrative filter. This is not a replacement\n",
    "or a claim for recommendation engines which are based on multi-armed bandits. \n",
    "\n",
    "\n",
    "#From Mining Massive Datasets\n"
   ]
  }
 ],
 "metadata": {
  "anaconda-cloud": {},
  "kernelspec": {
   "display_name": "Python [conda env:tf35]",
   "language": "python",
   "name": "conda-env-tf35-py"
  },
  "language_info": {
   "codemirror_mode": {
    "name": "ipython",
    "version": 3
   },
   "file_extension": ".py",
   "mimetype": "text/x-python",
   "name": "python",
   "nbconvert_exporter": "python",
   "pygments_lexer": "ipython3",
   "version": "3.5.1"
  }
 },
 "nbformat": 4,
 "nbformat_minor": 1
}
