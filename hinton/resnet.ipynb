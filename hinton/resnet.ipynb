{
 "cells": [
  {
   "cell_type": "markdown",
   "metadata": {},
   "source": [
    "<img src=\"resnet.png\">"
   ]
  },
  {
   "cell_type": "markdown",
   "metadata": {
    "collapsed": true
   },
   "source": [
    "the key contribution is the skip layer allowing for deeper networks and better performance. From MSFT and shows \n",
    "good image classification performance. Code in tflearn. Run and compare vs LeNet on traffic sign. Compare\n",
    "generalization error. The question is can we create our own deep network vs. a feedforward network and use this\n",
    "as a general purpose classifier? This would be an improvement over a MLP. \n"
   ]
  },
  {
   "cell_type": "code",
   "execution_count": null,
   "metadata": {
    "collapsed": true
   },
   "outputs": [],
   "source": [
    "import tensorflow as tf\n",
    "\n",
    "graph = tf.Graph()\n",
    "with graph.as_default():\n",
    "    x1_tf = tf.Variable(1.5, name='x1')\n",
    "    x2_tf = tf.Variable(3.5, name='x2')\n",
    "    out_tf = x1_tf + x2_tf\n",
    "\n",
    "    grads_tf = tf.gradients(ys=[out_tf], xs=[x1_tf, x2_tf])\n",
    "    with tf.Session() as sess:\n",
    "        sess.run(tf.global_variables_initializer())\n",
    "        fd = {\n",
    "            out_tf: 10.0\n",
    "        }\n",
    "        print(sess.run(grads_tf, feed_dict=fd))\n"
   ]
  },
  {
   "cell_type": "code",
   "execution_count": null,
   "metadata": {
    "collapsed": true
   },
   "outputs": [],
   "source": [
    "above how does the gradient get propagated back with the skip layer? "
   ]
  }
 ],
 "metadata": {
  "kernelspec": {
   "display_name": "Python [conda env:tf35]",
   "language": "python",
   "name": "conda-env-tf35-py"
  },
  "language_info": {
   "codemirror_mode": {
    "name": "ipython",
    "version": 3
   },
   "file_extension": ".py",
   "mimetype": "text/x-python",
   "name": "python",
   "nbconvert_exporter": "python",
   "pygments_lexer": "ipython3",
   "version": "3.5.1"
  }
 },
 "nbformat": 4,
 "nbformat_minor": 1
}
