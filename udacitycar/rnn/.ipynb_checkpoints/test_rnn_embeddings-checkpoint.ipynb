{
 "cells": [
  {
   "cell_type": "markdown",
   "metadata": {},
   "source": [
    "<h6>Slicing</h6>\n",
    "<p>The convention is to use start:end:increment for indexing using colon operators in python\n",
    "        array/lists. If you have a 1d array then slice a sgement using the notation above. If there is \n",
    "        nothing before the colon it means start from the beginning. A [:1] means start from the beginning and\n",
    "        end at index 1 so this returns the first element. A [1:] means start at the first element and return the\n",
    "    rest of the array. \n",
    "</p>\n",
    "\n"
   ]
  },
  {
   "cell_type": "code",
   "execution_count": 137,
   "metadata": {},
   "outputs": [
    {
     "data": {
      "text/plain": [
       "[1, 2, 3, 4, 5, 6]"
      ]
     },
     "metadata": {},
     "output_type": "display_data"
    },
    {
     "data": {
      "text/plain": [
       "'original d array'"
      ]
     },
     "metadata": {},
     "output_type": "display_data"
    },
    {
     "data": {
      "text/plain": [
       "'from index 1 to end'"
      ]
     },
     "metadata": {},
     "output_type": "display_data"
    },
    {
     "data": {
      "text/plain": [
       "[2, 3, 4, 5, 6]"
      ]
     },
     "metadata": {},
     "output_type": "display_data"
    },
    {
     "data": {
      "text/plain": [
       "[2, 3, 4, 5, 6]"
      ]
     },
     "metadata": {},
     "output_type": "display_data"
    },
    {
     "data": {
      "text/plain": [
       "'from start to end-1, len(arr)-1 shortened to -1'"
      ]
     },
     "metadata": {},
     "output_type": "display_data"
    },
    {
     "data": {
      "text/plain": [
       "[1, 2, 3, 4, 5]"
      ]
     },
     "metadata": {},
     "output_type": "display_data"
    },
    {
     "data": {
      "text/plain": [
       "[1, 2, 3, 4, 5]"
      ]
     },
     "metadata": {},
     "output_type": "display_data"
    }
   ],
   "source": [
    "\n",
    "\n",
    "#index shifting\n",
    "d = [1,2,3,4,5,6]\n",
    "display(d)\n",
    "#shift right\n",
    "display(\"original d array\")\n",
    "display(\"from index 1 to end\")\n",
    "display(d[1:len(d)])\n",
    "#shorthand\n",
    "display(d[1:])\n",
    "display(\"from start to end-1, len(arr)-1 shortened to -1\")\n",
    "#shift left\n",
    "display(d[:len(d)-1])\n",
    "#the -1 index is short for len(arr)-1 \n",
    "display(d[:-1])\n",
    "#for a 2d array we have the same conventions\n",
    "td = [[1,2],[3,4],[5,6]]\n",
    "td[:-1]"
   ]
  },
  {
   "cell_type": "code",
   "execution_count": 131,
   "metadata": {},
   "outputs": [
    {
     "data": {
      "text/html": [
       "<div>\n",
       "<style>\n",
       "    .dataframe thead tr:only-child th {\n",
       "        text-align: right;\n",
       "    }\n",
       "\n",
       "    .dataframe thead th {\n",
       "        text-align: left;\n",
       "    }\n",
       "\n",
       "    .dataframe tbody tr th {\n",
       "        vertical-align: top;\n",
       "    }\n",
       "</style>\n",
       "<table border=\"1\" class=\"dataframe\">\n",
       "  <thead>\n",
       "    <tr style=\"text-align: right;\">\n",
       "      <th></th>\n",
       "      <th>0</th>\n",
       "    </tr>\n",
       "  </thead>\n",
       "  <tbody>\n",
       "    <tr>\n",
       "      <th>0</th>\n",
       "      <td>1</td>\n",
       "    </tr>\n",
       "    <tr>\n",
       "      <th>1</th>\n",
       "      <td>2</td>\n",
       "    </tr>\n",
       "    <tr>\n",
       "      <th>2</th>\n",
       "      <td>3</td>\n",
       "    </tr>\n",
       "    <tr>\n",
       "      <th>3</th>\n",
       "      <td>4</td>\n",
       "    </tr>\n",
       "    <tr>\n",
       "      <th>4</th>\n",
       "      <td>5</td>\n",
       "    </tr>\n",
       "  </tbody>\n",
       "</table>\n",
       "</div>"
      ],
      "text/plain": [
       "   0\n",
       "0  1\n",
       "1  2\n",
       "2  3\n",
       "3  4\n",
       "4  5"
      ]
     },
     "metadata": {},
     "output_type": "display_data"
    },
    {
     "data": {
      "text/html": [
       "<div>\n",
       "<style>\n",
       "    .dataframe thead tr:only-child th {\n",
       "        text-align: right;\n",
       "    }\n",
       "\n",
       "    .dataframe thead th {\n",
       "        text-align: left;\n",
       "    }\n",
       "\n",
       "    .dataframe tbody tr th {\n",
       "        vertical-align: top;\n",
       "    }\n",
       "</style>\n",
       "<table border=\"1\" class=\"dataframe\">\n",
       "  <thead>\n",
       "    <tr style=\"text-align: right;\">\n",
       "      <th></th>\n",
       "      <th>0</th>\n",
       "    </tr>\n",
       "  </thead>\n",
       "  <tbody>\n",
       "    <tr>\n",
       "      <th>0</th>\n",
       "      <td>NaN</td>\n",
       "    </tr>\n",
       "    <tr>\n",
       "      <th>1</th>\n",
       "      <td>1.0</td>\n",
       "    </tr>\n",
       "    <tr>\n",
       "      <th>2</th>\n",
       "      <td>2.0</td>\n",
       "    </tr>\n",
       "    <tr>\n",
       "      <th>3</th>\n",
       "      <td>3.0</td>\n",
       "    </tr>\n",
       "    <tr>\n",
       "      <th>4</th>\n",
       "      <td>4.0</td>\n",
       "    </tr>\n",
       "  </tbody>\n",
       "</table>\n",
       "</div>"
      ],
      "text/plain": [
       "     0\n",
       "0  NaN\n",
       "1  1.0\n",
       "2  2.0\n",
       "3  3.0\n",
       "4  4.0"
      ]
     },
     "metadata": {},
     "output_type": "display_data"
    },
    {
     "data": {
      "text/html": [
       "<div>\n",
       "<style>\n",
       "    .dataframe thead tr:only-child th {\n",
       "        text-align: right;\n",
       "    }\n",
       "\n",
       "    .dataframe thead th {\n",
       "        text-align: left;\n",
       "    }\n",
       "\n",
       "    .dataframe tbody tr th {\n",
       "        vertical-align: top;\n",
       "    }\n",
       "</style>\n",
       "<table border=\"1\" class=\"dataframe\">\n",
       "  <thead>\n",
       "    <tr style=\"text-align: right;\">\n",
       "      <th></th>\n",
       "      <th>0</th>\n",
       "      <th>1</th>\n",
       "    </tr>\n",
       "  </thead>\n",
       "  <tbody>\n",
       "    <tr>\n",
       "      <th>0</th>\n",
       "      <td>1</td>\n",
       "      <td>2</td>\n",
       "    </tr>\n",
       "    <tr>\n",
       "      <th>1</th>\n",
       "      <td>3</td>\n",
       "      <td>4</td>\n",
       "    </tr>\n",
       "    <tr>\n",
       "      <th>2</th>\n",
       "      <td>5</td>\n",
       "      <td>6</td>\n",
       "    </tr>\n",
       "    <tr>\n",
       "      <th>3</th>\n",
       "      <td>7</td>\n",
       "      <td>8</td>\n",
       "    </tr>\n",
       "  </tbody>\n",
       "</table>\n",
       "</div>"
      ],
      "text/plain": [
       "   0  1\n",
       "0  1  2\n",
       "1  3  4\n",
       "2  5  6\n",
       "3  7  8"
      ]
     },
     "metadata": {},
     "output_type": "display_data"
    },
    {
     "data": {
      "text/html": [
       "<div>\n",
       "<style>\n",
       "    .dataframe thead tr:only-child th {\n",
       "        text-align: right;\n",
       "    }\n",
       "\n",
       "    .dataframe thead th {\n",
       "        text-align: left;\n",
       "    }\n",
       "\n",
       "    .dataframe tbody tr th {\n",
       "        vertical-align: top;\n",
       "    }\n",
       "</style>\n",
       "<table border=\"1\" class=\"dataframe\">\n",
       "  <thead>\n",
       "    <tr style=\"text-align: right;\">\n",
       "      <th></th>\n",
       "      <th>0</th>\n",
       "      <th>1</th>\n",
       "    </tr>\n",
       "  </thead>\n",
       "  <tbody>\n",
       "    <tr>\n",
       "      <th>0</th>\n",
       "      <td>NaN</td>\n",
       "      <td>1.0</td>\n",
       "    </tr>\n",
       "    <tr>\n",
       "      <th>1</th>\n",
       "      <td>NaN</td>\n",
       "      <td>3.0</td>\n",
       "    </tr>\n",
       "    <tr>\n",
       "      <th>2</th>\n",
       "      <td>NaN</td>\n",
       "      <td>5.0</td>\n",
       "    </tr>\n",
       "    <tr>\n",
       "      <th>3</th>\n",
       "      <td>NaN</td>\n",
       "      <td>7.0</td>\n",
       "    </tr>\n",
       "  </tbody>\n",
       "</table>\n",
       "</div>"
      ],
      "text/plain": [
       "    0    1\n",
       "0 NaN  1.0\n",
       "1 NaN  3.0\n",
       "2 NaN  5.0\n",
       "3 NaN  7.0"
      ]
     },
     "metadata": {},
     "output_type": "display_data"
    },
    {
     "data": {
      "text/plain": [
       "'original d array'"
      ]
     },
     "metadata": {},
     "output_type": "display_data"
    },
    {
     "data": {
      "text/plain": [
       "[1, 2, 3, 4, 5, 6]"
      ]
     },
     "metadata": {},
     "output_type": "display_data"
    },
    {
     "data": {
      "text/plain": [
       "'shifted right'"
      ]
     },
     "metadata": {},
     "output_type": "display_data"
    },
    {
     "data": {
      "text/plain": [
       "[2, 3, 4, 5, 6]"
      ]
     },
     "metadata": {},
     "output_type": "display_data"
    },
    {
     "data": {
      "text/plain": [
       "'shifted left'"
      ]
     },
     "metadata": {},
     "output_type": "display_data"
    },
    {
     "data": {
      "text/plain": [
       "[1, 2, 3, 4, 5]"
      ]
     },
     "metadata": {},
     "output_type": "display_data"
    },
    {
     "data": {
      "text/plain": [
       "'d_leftlong'"
      ]
     },
     "metadata": {},
     "output_type": "display_data"
    },
    {
     "data": {
      "text/plain": [
       "[1, 2, 3, 4, 5]"
      ]
     },
     "metadata": {},
     "output_type": "display_data"
    },
    {
     "data": {
      "text/plain": [
       "'indexing from end'"
      ]
     },
     "metadata": {},
     "output_type": "display_data"
    },
    {
     "data": {
      "text/plain": [
       "[6, 5, 4, 3, 2, 1]"
      ]
     },
     "metadata": {},
     "output_type": "display_data"
    }
   ],
   "source": [
    "import tensorflow as tf\n",
    "import numpy as np\n",
    "import pandas\n",
    "from IPython.display import display\n",
    "\n",
    "d = [1,2,3,4,5,6,1,2,3,4,5,6]\n",
    "df = pandas.DataFrame(d)\n",
    "display(df.head())\n",
    "df_shift = df.shift(1)\n",
    "\n",
    "display(df_shift.head())\n",
    "\n",
    "#what to convert NaN to? What is the shifted one at the end supposed to look like? \n",
    "d_2=[[1,2],[3,4],[5,6],[7,8]]\n",
    "df_2 = pandas.DataFrame(d_2)\n",
    "display(df_2.head())\n",
    "df_2shift = df_2.shift(1,axis=1)\n",
    "display(df_2shift.head())\n"
   ]
  },
  {
   "cell_type": "code",
   "execution_count": 92,
   "metadata": {},
   "outputs": [
    {
     "name": "stdout",
     "output_type": "stream",
     "text": [
      "0 a\n",
      "0 a\n",
      "83\n",
      "83\n",
      "c: C  vocab_to_int: 24\n",
      "encoded 24\n",
      "first 100 chars: Chapter 1\n",
      "\n",
      "\n",
      "Happy families are all alike; every unhappy family is unhappy in its own\n",
      "way.\n",
      "\n",
      "Everythin\n"
     ]
    },
    {
     "data": {
      "text/plain": [
       "array([24, 60, 10, 74, 33, 67, 41, 71,  5, 40, 40, 40, 80, 10, 74, 74, 47,\n",
       "       71, 51, 10, 29, 61, 69, 61, 67, 52, 71, 10, 41, 67, 71, 10, 69, 69,\n",
       "       71, 10, 69, 61, 27, 67,  2, 71, 67,  6, 67, 41, 47, 71, 31, 28, 60,\n",
       "       10, 74, 74, 47, 71, 51, 10, 29, 61, 69, 47, 71, 61, 52, 71, 31, 28,\n",
       "       60, 10, 74, 74, 47, 71, 61, 28, 71, 61, 33, 52, 71, 37, 56, 28, 40,\n",
       "       56, 10, 47, 50, 40, 40, 13,  6, 67, 41, 47, 33, 60, 61, 28])"
      ]
     },
     "execution_count": 92,
     "metadata": {},
     "output_type": "execute_result"
    }
   ],
   "source": [
    "import tensorflow as tf\n",
    "import numpy as np\n",
    "\n",
    "with open('anna.txt') as file_handle:\n",
    "    text = file_handle.read()\n",
    "vocab = set(text)\n",
    "vocab_to_int = {v:k for k,v in enumerate(vocab)}\n",
    "int_to_vocab = {k:v for k,v in enumerate(vocab)}\n",
    "int_to_vocab2 = dict(enumerate(vocab))\n",
    "\n",
    "#well the first one is easier to remember but the ctor is cool also.\n",
    "#for k in vocab_to_int:\n",
    "#    print(k,vocab_to_int[k])\n",
    "    \n",
    "l1 = list(int_to_vocab.keys())\n",
    "print(l1[0],int_to_vocab[10])\n",
    "\n",
    "l2 = list(int_to_vocab2.keys())\n",
    "print (l2[0],int_to_vocab2[10])\n",
    "\n",
    "print(len(int_to_vocab.values()))\n",
    "print(len(int_to_vocab.keys()))\n",
    "\n",
    "#what is an encoding? int to letters. \n",
    "\n",
    "encoded = [vocab_to_int[c] for c in text]\n",
    "for c in text:\n",
    "    print(\"c:\",c,\" vocab_to_int:\",vocab_to_int[c])\n",
    "    break\n",
    "\n",
    "        \n",
    "\n",
    "print(\"encoded\",encoded[0]) #unclear what this does besides turning into nparray and ints. which they are. \n",
    "print(\"first 100 chars:\",text[:100])\n",
    "encoded[:100]#is a list not an np.array is this important? \n",
    "np.array(encoded[:100])\n",
    "\n",
    "#Y is input shifted over 1. \n"
   ]
  },
  {
   "cell_type": "code",
   "execution_count": 111,
   "metadata": {},
   "outputs": [
    {
     "name": "stdout",
     "output_type": "stream",
     "text": [
      "[[1 2 3 4]\n",
      " [5 6 1 2]\n",
      " [3 4 5 6]]\n",
      "shape: 4\n",
      "0\n",
      "x: [[1 2]\n",
      " [5 6]\n",
      " [3 4]]\n",
      "2\n",
      "x: [[3 4]\n",
      " [1 2]\n",
      " [5 6]]\n",
      "y: [[0 0 0 0]\n",
      " [0 0 0 0]\n",
      " [0 0 0 0]]\n",
      "y: [[4 4 4 3]\n",
      " [2 2 2 1]\n",
      " [6 6 6 5]]\n"
     ]
    }
   ],
   "source": [
    "#making batches from sequences. \n",
    "\n",
    "#each batch contains multiple sequences\n",
    "#each sequence contains steps. How long is a batch? \n",
    "#so confusing\n",
    "#each batch is a series of sequneces of windows. Window size\n",
    "#is steps? \n",
    "\n",
    "# n_seqs * n_steps = chars per batch. \n",
    "#\n",
    "input = np.array([1,2,3,4,5,6,1,2,3,4,5,6])\n",
    "n_seqs = 3\n",
    "n_steps = 2\n",
    "\n",
    "num_in_batch = n_seqs * n_steps\n",
    "\n",
    "#how to put sliding window into input_arr\n",
    "num_batches = len(input) / num_in_batch\n",
    "\n",
    "#pick num rows first, -1 lets system decide and fill in rest\n",
    "input_batch = input.reshape(3,-1)\n",
    "print(input_batch)\n",
    "print(\"shape:\",input_batch.shape[1])\n",
    "\n",
    "for n in range(0,input_batch.shape[0],n_steps):\n",
    "    print(n)\n",
    "    x=input_batch[:,n:n+n_steps]\n",
    "    print(\"x:\",x)\n",
    "\n",
    "y = np.zeros_like(input_batch)\n",
    "print(\"y:\",y)\n",
    "y[:, :-1], y[:, -1] = x[:, 1:], x[:, 0]\n",
    "print(\"y:\",y)\n",
    "#for n in range(0, arr.shape[1], n_steps):\n",
    "#        # The features\n",
    "#        x = arr[:, n:n+n_steps]\n",
    "#        # The targets, shifted by one\n",
    "#        y = np.zeros_like(x)\n",
    "#        y[:, :-1], y[:, -1] = x[:, 1:], x[:, 0]\n",
    "#        yield x, y\n",
    "\n",
    "\n"
   ]
  },
  {
   "cell_type": "code",
   "execution_count": null,
   "metadata": {
    "collapsed": true
   },
   "outputs": [],
   "source": []
  },
  {
   "cell_type": "code",
   "execution_count": 1,
   "metadata": {},
   "outputs": [
    {
     "name": "stdout",
     "output_type": "stream",
     "text": [
      "Successfully downloaded train-images-idx3-ubyte.gz 9912422 bytes.\n",
      "Extracting /tmp/data/train-images-idx3-ubyte.gz\n",
      "Successfully downloaded train-labels-idx1-ubyte.gz 28881 bytes.\n",
      "Extracting /tmp/data/train-labels-idx1-ubyte.gz\n",
      "Successfully downloaded t10k-images-idx3-ubyte.gz 1648877 bytes.\n",
      "Extracting /tmp/data/t10k-images-idx3-ubyte.gz\n",
      "Successfully downloaded t10k-labels-idx1-ubyte.gz 4542 bytes.\n",
      "Extracting /tmp/data/t10k-labels-idx1-ubyte.gz\n"
     ]
    }
   ],
   "source": [
    "import tensorflow as tf\n",
    "#source\n",
    "#https://github.com/aymericdamien/TensorFlow-Examples/blob/master/examples/3_NeuralNetworks/recurrent_network.py\n",
    "\n",
    "from tensorflow.contrib import rnn\n",
    "\n",
    "# Import MNIST data\n",
    "from tensorflow.examples.tutorials.mnist import input_data\n",
    "mnist = input_data.read_data_sets(\"/tmp/data/\", one_hot=True)\n"
   ]
  },
  {
   "cell_type": "code",
   "execution_count": 44,
   "metadata": {
    "collapsed": true
   },
   "outputs": [],
   "source": [
    "class RNN(object):\n",
    "    def __init__(self):\n",
    "        self.learning_rate=0.001\n",
    "        self.training_steps=10000\n",
    "        self.batch_size=120\n",
    "        self.display_step=200\n",
    "        self.num_input=28\n",
    "        self.timesteps=28\n",
    "        self.num_hidden=128\n",
    "        self.num_classes=10\n",
    "    \n",
    "    def input(self):\n",
    "        self.X = tf.placeholder(tf.float32, [None, self.timesteps, self.num_input])\n",
    "        self.Y = tf.placeholder(tf.float32, [None,self.num_classes])\n",
    "        self.weights = tf.Variable(tf.random_normal([self.num_hidden, self.num_classes]))\n",
    "        self.bias = tf.Variable(tf.random_normal([self.num_classes]))\n",
    "    \n",
    "    def model(self):\n",
    "        self.x = tf.unstack(self.X, self.timesteps, 1)\n",
    "        #print (\"x unstack:\",self.x.shape)\n",
    "        with tf.variable_scope('lstm1'):\n",
    "            self.lstm_cell = tf.contrib.rnn.BasicLSTMCell(self.num_hidden,forget_bias=1.0,reuse=True\n",
    "                                                         )\n",
    "            self.outputs,self.states = tf.contrib.rnn.static_rnn(self.lstm_cell, self.x, dtype=tf.float32)\n",
    "            self.linear_model = tf.matmul(self.outputs[-1], self.weights['out'])+self.biases['out']\n",
    "            self.logits = tf.nn.softmax(self.linear_model)\n",
    "    \n",
    "    def train(self):\n",
    "        self.loss = tf.reduce_mean(tf.nn.softmax_cross_entropy_with_logits(logits=self.model,labels=self.Y))\n",
    "        self.optimizer = tf.train.GradientDescentOptimizer(self.learning_rate)\n",
    "        self.train_op = self.optimizer.minimize(self.loss) \n",
    "        self.correct_pred = tf.equal(tf.argmax(self.logits,1),tf.argmax(self.Y,1))\n",
    "        self.accuracy = tf.reduce_mean(tf.case(self.correct_pred,tf.float32))\n",
    "        \n",
    "        init=tf.global_variables_initializer()\n",
    "        with tf.Session() as sess:\n",
    "            sess.run(init)\n",
    "            for step in range(1,self.training_steps):\n",
    "                batch_x, batch_y = mnist.train.next_batch(batch_size)\n",
    "                #reshape for sequential format in a CNN we reshaped to single 768 pixel array\n",
    "                batch_x = batch_x.reshape(batch_size, timesteps, num_input)\n",
    "                sess.run(self.train_op, feed_dict={self.X:batch_x, self.Y:batch_y})\n",
    "                loss,acc = sess.run([loss,accuracy], feed_dict={self.X:batch_x, self.Y:batch_y})\n",
    "                if(step%100==0):\n",
    "                    print(\"Step:\",step,\" loss:\", loss, \" acc:\",acc)\n",
    "            print(\"optimization finished\")\n",
    "            test_len = 128\n",
    "            test_data = mnist.test.images[:test_len].reshape((-1, timesteps, num_input))\n",
    "            test_label = mnist.test.labels[:test_len]\n",
    "            print(\"Testing Accuracy:\", \\\n",
    "            sess.run(accuracy, feed_dict={X: test_data, Y: test_label}))"
   ]
  },
  {
   "cell_type": "code",
   "execution_count": 45,
   "metadata": {},
   "outputs": [
    {
     "ename": "TypeError",
     "evalue": "list indices must be integers or slices, not tuple",
     "output_type": "error",
     "traceback": [
      "\u001b[0;31m---------------------------------------------------------------------------\u001b[0m",
      "\u001b[0;31mTypeError\u001b[0m                                 Traceback (most recent call last)",
      "\u001b[0;32m<ipython-input-45-6a191307313a>\u001b[0m in \u001b[0;36m<module>\u001b[0;34m()\u001b[0m\n\u001b[1;32m      1\u001b[0m \u001b[0mrnn\u001b[0m \u001b[0;34m=\u001b[0m \u001b[0mRNN\u001b[0m\u001b[0;34m(\u001b[0m\u001b[0;34m)\u001b[0m\u001b[0;34m\u001b[0m\u001b[0m\n\u001b[1;32m      2\u001b[0m \u001b[0mrnn\u001b[0m\u001b[0;34m.\u001b[0m\u001b[0minput\u001b[0m\u001b[0;34m(\u001b[0m\u001b[0;34m)\u001b[0m\u001b[0;34m\u001b[0m\u001b[0m\n\u001b[0;32m----> 3\u001b[0;31m \u001b[0mrnn\u001b[0m\u001b[0;34m.\u001b[0m\u001b[0mmodel\u001b[0m\u001b[0;34m(\u001b[0m\u001b[0;34m)\u001b[0m\u001b[0;34m\u001b[0m\u001b[0m\n\u001b[0m\u001b[1;32m      4\u001b[0m \u001b[0mrnn\u001b[0m\u001b[0;34m.\u001b[0m\u001b[0mtrain\u001b[0m\u001b[0;34m(\u001b[0m\u001b[0;34m)\u001b[0m\u001b[0;34m\u001b[0m\u001b[0m\n",
      "\u001b[0;32m<ipython-input-44-2d4e432af6d2>\u001b[0m in \u001b[0;36mmodel\u001b[0;34m(self)\u001b[0m\n\u001b[1;32m     23\u001b[0m                                                          )\n\u001b[1;32m     24\u001b[0m             \u001b[0mself\u001b[0m\u001b[0;34m.\u001b[0m\u001b[0moutputs\u001b[0m\u001b[0;34m,\u001b[0m\u001b[0mself\u001b[0m\u001b[0;34m.\u001b[0m\u001b[0mstates\u001b[0m \u001b[0;34m=\u001b[0m \u001b[0mtf\u001b[0m\u001b[0;34m.\u001b[0m\u001b[0mcontrib\u001b[0m\u001b[0;34m.\u001b[0m\u001b[0mrnn\u001b[0m\u001b[0;34m.\u001b[0m\u001b[0mstatic_rnn\u001b[0m\u001b[0;34m(\u001b[0m\u001b[0mself\u001b[0m\u001b[0;34m.\u001b[0m\u001b[0mlstm_cell\u001b[0m\u001b[0;34m,\u001b[0m \u001b[0mself\u001b[0m\u001b[0;34m.\u001b[0m\u001b[0mx\u001b[0m\u001b[0;34m,\u001b[0m \u001b[0mdtype\u001b[0m\u001b[0;34m=\u001b[0m\u001b[0mtf\u001b[0m\u001b[0;34m.\u001b[0m\u001b[0mfloat32\u001b[0m\u001b[0;34m)\u001b[0m\u001b[0;34m\u001b[0m\u001b[0m\n\u001b[0;32m---> 25\u001b[0;31m             \u001b[0mself\u001b[0m\u001b[0;34m.\u001b[0m\u001b[0mlinear_model\u001b[0m \u001b[0;34m=\u001b[0m \u001b[0mtf\u001b[0m\u001b[0;34m.\u001b[0m\u001b[0mmatmul\u001b[0m\u001b[0;34m(\u001b[0m\u001b[0mself\u001b[0m\u001b[0;34m.\u001b[0m\u001b[0moutputs\u001b[0m\u001b[0;34m[\u001b[0m\u001b[0;34m:\u001b[0m\u001b[0;34m,\u001b[0m\u001b[0;34m-\u001b[0m\u001b[0;36m1\u001b[0m\u001b[0;34m]\u001b[0m\u001b[0;34m,\u001b[0m \u001b[0mself\u001b[0m\u001b[0;34m.\u001b[0m\u001b[0mweights\u001b[0m\u001b[0;34m[\u001b[0m\u001b[0;34m'out'\u001b[0m\u001b[0;34m]\u001b[0m\u001b[0;34m)\u001b[0m\u001b[0;34m+\u001b[0m\u001b[0mself\u001b[0m\u001b[0;34m.\u001b[0m\u001b[0mbiases\u001b[0m\u001b[0;34m[\u001b[0m\u001b[0;34m'out'\u001b[0m\u001b[0;34m]\u001b[0m\u001b[0;34m\u001b[0m\u001b[0m\n\u001b[0m\u001b[1;32m     26\u001b[0m             \u001b[0mself\u001b[0m\u001b[0;34m.\u001b[0m\u001b[0mlogits\u001b[0m \u001b[0;34m=\u001b[0m \u001b[0mtf\u001b[0m\u001b[0;34m.\u001b[0m\u001b[0mnn\u001b[0m\u001b[0;34m.\u001b[0m\u001b[0msoftmax\u001b[0m\u001b[0;34m(\u001b[0m\u001b[0mself\u001b[0m\u001b[0;34m.\u001b[0m\u001b[0mlinear_model\u001b[0m\u001b[0;34m)\u001b[0m\u001b[0;34m\u001b[0m\u001b[0m\n\u001b[1;32m     27\u001b[0m \u001b[0;34m\u001b[0m\u001b[0m\n",
      "\u001b[0;31mTypeError\u001b[0m: list indices must be integers or slices, not tuple"
     ]
    }
   ],
   "source": [
    "rnn = RNN()\n",
    "rnn.input()\n",
    "rnn.model()\n",
    "rnn.train()\n"
   ]
  },
  {
   "cell_type": "code",
   "execution_count": null,
   "metadata": {
    "collapsed": true
   },
   "outputs": [],
   "source": []
  }
 ],
 "metadata": {
  "kernelspec": {
   "display_name": "Python 3",
   "language": "python",
   "name": "python3"
  },
  "language_info": {
   "codemirror_mode": {
    "name": "ipython",
    "version": 3
   },
   "file_extension": ".py",
   "mimetype": "text/x-python",
   "name": "python",
   "nbconvert_exporter": "python",
   "pygments_lexer": "ipython3",
   "version": "3.6.1"
  }
 },
 "nbformat": 4,
 "nbformat_minor": 2
}
