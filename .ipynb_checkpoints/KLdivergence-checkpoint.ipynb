{
 "cells": [
  {
   "cell_type": "markdown",
   "metadata": {},
   "source": [
    "<h6>KL Divergence</h6>\n",
    "<p>\n",
    "How do you calculate the difference between 2 probablity distributions and how do you compute the notion of 2 equal\n",
    "probablity distributions. For example person1 is flipping a coin 10 times as {H,T,H,H,H,T,T,T,H,H} should be equal to \n",
    "{H,H,H,H,H,T,T,T,T,T}. We want P(X) to be similar at the least and equal with more examples. \n",
    "</p>\n",
    "<p>\n",
    "The bayesian interpretation would be the information gained when we update from the prior Q to the posterior P. We see\n",
    "this in updating a sensor as in a self driving car. \n",
    "\n",
    "\n",
    "</p>\n",
    "<p>The KL divergence from Q to P:</p>\n",
    "$P(P||Q) =  -\\sum_{k}^{N} P(i) log\\frac{Q(i)}{P(i)} $\n",
    "\n",
    "<h6>Entropy Calculation</h6>\n",
    "<p>From the definition of entropy:</p>\n",
    "$E = \\sum_{i=1}^{N} P(X)I(X) = \\sum_{i=1}^{N} P(x_i) log_{b} P(x_i)$\n",
    "\n"
   ]
  },
  {
   "cell_type": "code",
   "execution_count": null,
   "metadata": {
    "collapsed": true
   },
   "outputs": [],
   "source": []
  }
 ],
 "metadata": {
  "kernelspec": {
   "display_name": "Python 3",
   "language": "python",
   "name": "python3"
  },
  "language_info": {
   "codemirror_mode": {
    "name": "ipython",
    "version": 3
   },
   "file_extension": ".py",
   "mimetype": "text/x-python",
   "name": "python",
   "nbconvert_exporter": "python",
   "pygments_lexer": "ipython3",
   "version": "3.4.5"
  }
 },
 "nbformat": 4,
 "nbformat_minor": 2
}
