{
 "cells": [
  {
   "cell_type": "code",
   "execution_count": 1,
   "metadata": {},
   "outputs": [
    {
     "name": "stderr",
     "output_type": "stream",
     "text": [
      "Using TensorFlow backend.\n"
     ]
    },
    {
     "name": "stdout",
     "output_type": "stream",
     "text": [
      "_________________________________________________________________\n",
      "Layer (type)                 Output Shape              Param #   \n",
      "=================================================================\n",
      "conv1 (Conv2D)               (None, 32, 32, 32)        2432      \n",
      "_________________________________________________________________\n",
      "relu1 (Activation)           (None, 32, 32, 32)        0         \n",
      "_________________________________________________________________\n",
      "maxpool1 (MaxPooling2D)      (None, 31, 31, 32)        0         \n",
      "_________________________________________________________________\n",
      "conv2 (Conv2D)               (None, 31, 31, 64)        51264     \n",
      "_________________________________________________________________\n",
      "relu2 (Activation)           (None, 31, 31, 64)        0         \n",
      "_________________________________________________________________\n",
      "maxpool2 (MaxPooling2D)      (None, 15, 15, 64)        0         \n",
      "_________________________________________________________________\n",
      "conv3 (Conv2D)               (None, 15, 15, 128)       204928    \n",
      "_________________________________________________________________\n",
      "relu3 (Activation)           (None, 15, 15, 128)       0         \n",
      "_________________________________________________________________\n",
      "maxpool3 (MaxPooling2D)      (None, 7, 7, 128)         0         \n",
      "_________________________________________________________________\n",
      "flatten (Flatten)            (None, 6272)              0         \n",
      "_________________________________________________________________\n",
      "dropout1 (Dropout)           (None, 6272)              0         \n",
      "_________________________________________________________________\n",
      "hidden1 (Dense)              (None, 128)               802944    \n",
      "_________________________________________________________________\n",
      "relu4 (Activation)           (None, 128)               0         \n",
      "_________________________________________________________________\n",
      "dropout2 (Dropout)           (None, 128)               0         \n",
      "_________________________________________________________________\n",
      "hidden2 (Dense)              (None, 128)               16512     \n",
      "_________________________________________________________________\n",
      "relu5 (Activation)           (None, 128)               0         \n",
      "_________________________________________________________________\n",
      "output (Dense)               (None, 43)                5547      \n",
      "_________________________________________________________________\n",
      "softmax (Activation)         (None, 43)                0         \n",
      "=================================================================\n",
      "Total params: 1,083,627\n",
      "Trainable params: 1,083,627\n",
      "Non-trainable params: 0\n",
      "_________________________________________________________________\n"
     ]
    }
   ],
   "source": [
    "import os\n",
    "from keras.models import load_model\n",
    "from keras.models import Sequential\n",
    "from keras.layers import Dense, Activation, Dropout,Convolution2D,MaxPooling2D,Flatten\n",
    "from keras.optimizers import Adam\n",
    "\n",
    "\n",
    "# number of classes\n",
    "nb_classes = 43\n",
    "\n",
    "# input image dimensions\n",
    "img_rows, img_cols, img_ch = 32, 32, 3\n",
    "\n",
    "# number of convolutional filters to use\n",
    "nb_filter1 = 32\n",
    "nb_filter2 = 64\n",
    "nb_filter3 = 128\n",
    "\n",
    "\n",
    "\n",
    "model = Sequential()\n",
    "model.add(Convolution2D(32, kernel_size=(5, 5),padding='same',\n",
    "                        input_shape=(img_rows,img_cols,img_ch),name='conv1'))\n",
    "model.add(Activation('relu',name='relu1'))\n",
    "model.add(MaxPooling2D(pool_size=(2,2),strides=1,name='maxpool1'))\n",
    "model.add(Convolution2D(64, kernel_size=(5, 5),padding='same',\n",
    "                        name='conv2'))\n",
    "model.add(Activation('relu',name='relu2'))\n",
    "model.add(MaxPooling2D(pool_size=(2,2),strides=None,name='maxpool2'))\n",
    "model.add(Convolution2D(128, kernel_size=(5, 5), padding='same',\n",
    "                        name='conv3'))\n",
    "model.add(Activation('relu',name='relu3'))\n",
    "model.add(MaxPooling2D(pool_size=(2,2),strides=None,name='maxpool3'))\n",
    "model.add(Flatten(name='flatten'))\n",
    "model.add(Dropout(0.5,name='dropout1'))\n",
    "model.add(Dense(128, name='hidden1'))\n",
    "model.add(Activation('relu',name='relu4'))\n",
    "model.add(Dropout(0.5,name='dropout2'))\n",
    "model.add(Dense(128,  name='hidden2'))\n",
    "model.add(Activation('relu',name='relu5'))\n",
    "model.add(Dense(nb_classes, name='output'))\n",
    "model.add(Activation('softmax',name='softmax'))\n",
    "\n",
    "model.summary()"
   ]
  },
  {
   "cell_type": "code",
   "execution_count": 4,
   "metadata": {},
   "outputs": [],
   "source": [
    "import pickle\n",
    "\n",
    "training_file = 'train.p'\n",
    "testing_file = 'test.p'\n",
    "valid_file = 'valid.p'\n",
    " \n",
    "with open(training_file, mode='rb') as f:\n",
    "    train = pickle.load(f)\n",
    "with open(testing_file, mode='rb') as f:\n",
    "    test = pickle.load(f)\n",
    "with open(valid_file, mode='rb') as f:\n",
    "    valid = pickle.load(f)\n"
   ]
  },
  {
   "cell_type": "code",
   "execution_count": 5,
   "metadata": {
    "collapsed": true
   },
   "outputs": [],
   "source": [
    "    X_train, y_train, X_test, y_test = train['features'], train['labels'],test['features'], test['labels']\n",
    "    X_valid, y_valid = test['features'], test['labels']"
   ]
  },
  {
   "cell_type": "code",
   "execution_count": null,
   "metadata": {
    "collapsed": true
   },
   "outputs": [],
   "source": []
  }
 ],
 "metadata": {
  "kernelspec": {
   "display_name": "Python 3",
   "language": "python",
   "name": "python3"
  },
  "language_info": {
   "codemirror_mode": {
    "name": "ipython",
    "version": 3
   },
   "file_extension": ".py",
   "mimetype": "text/x-python",
   "name": "python",
   "nbconvert_exporter": "python",
   "pygments_lexer": "ipython3",
   "version": "3.5.2"
  }
 },
 "nbformat": 4,
 "nbformat_minor": 1
}
