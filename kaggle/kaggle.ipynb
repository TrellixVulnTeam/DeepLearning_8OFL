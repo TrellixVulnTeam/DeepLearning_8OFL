{
 "cells": [
  {
   "cell_type": "code",
   "execution_count": 1,
   "metadata": {
    "collapsed": true
   },
   "outputs": [],
   "source": [
    "# Load pickled data\n",
    "import matplotlib.pyplot as plt\n",
    "import pickle, cv2, csv, os, time\n",
    "import numpy as np\n",
    "from numpy import newaxis\n",
    "from random import randint\n",
    "import tensorflow as tf\n",
    "from sklearn.utils import shuffle\n",
    "from sklearn.model_selection import train_test_split\n",
    "from matplotlib import gridspec\n",
    "# Visualizations will be shown in the notebook.\n",
    "%matplotlib inline"
   ]
  },
  {
   "cell_type": "code",
   "execution_count": 2,
   "metadata": {},
   "outputs": [
    {
     "data": {
      "text/plain": [
       "(4128, 3096, 3)"
      ]
     },
     "execution_count": 2,
     "metadata": {},
     "output_type": "execute_result"
    }
   ],
   "source": [
    "img = cv2.imread('/Users/dc/DeepLearning/kaggle/train/Type_1/0.jpg')\n",
    "img.shape\n",
    "#scaling removes data. not good.\n",
    "img1 = cv2.imread('/Users/dc/DeepLearning/kaggle/train/Type_1/10.jpg')\n",
    "img1.shape"
   ]
  },
  {
   "cell_type": "code",
   "execution_count": 24,
   "metadata": {},
   "outputs": [
    {
     "name": "stdout",
     "output_type": "stream",
     "text": [
      "/Users/dc/DeepLearning/kaggle\n",
      "path: /Users/dc/DeepLearning/kaggle/train/Type_1/  numFiles: 251\n",
      "dict of image dimensions: {3264: 2448, 4128: 3096, 2448: 3264, 3096: 4128, 4160: 3120, 640: 480}\n",
      "elapsed time: 5.088619565963745\n",
      "path: /Users/dc/DeepLearning/kaggle/train/Type_2/  numFiles: 782\n",
      "dict of image dimensions: {3264: 2448, 4128: 3096, 2448: 3264, 3096: 4128, 4160: 3120, 640: 480, 3088: 4128}\n",
      "elapsed time: 12.940347735087077\n",
      "path: /Users/dc/DeepLearning/kaggle/train/Type_3/  numFiles: 451\n",
      "dict of image dimensions: {3264: 2448, 4128: 2322, 2448: 3264, 3096: 4128, 4160: 3120, 640: 480}\n",
      "elapsed time: 5.532049918174744\n",
      "path: /Users/dc/DeepLearning/kaggle/additional_Type_1_v2/Type_1/  numFiles: 1190\n",
      "dict of image dimensions: {4128: 3096, 3264: 2448, 2448: 3264, 480: 640, 3096: 4128, 4160: 3120, 640: 480}\n",
      "elapsed time: 17.08666516939799\n",
      "path: /Users/dc/DeepLearning/kaggle/additional_Type_1_v2/Type_1/  numFiles: 1190\n",
      "dict of image dimensions: {4128: 3096, 3264: 2448, 2448: 3264, 480: 640, 3096: 4128, 4160: 3120, 640: 480}\n",
      "elapsed time: 17.025126135349275\n",
      "path: /Users/dc/DeepLearning/kaggle/additional_Type_1_v2/Type_1/  numFiles: 1190\n",
      "dict of image dimensions: {4128: 3096, 3264: 2448, 2448: 3264, 480: 640, 3096: 4128, 4160: 3120, 640: 480}\n",
      "elapsed time: 17.00294075012207\n",
      "path: /Users/dc/DeepLearning/kaggle/test/  numFiles: 512\n",
      "dict of image dimensions: {4128: 3096, 3264: 2448, 2448: 3264, 3096: 4128, 640: 480, 4160: 3120}\n",
      "elapsed time: 7.005499215920766\n"
     ]
    }
   ],
   "source": [
    "import os\n",
    "from skimage.transform import rescale, resize, downscale_local_mean\n",
    "\n",
    "\n",
    "current_path = os.getcwd()\n",
    "print (current_path)\n",
    "train_path1 = current_path + \"/train/Type_1/\"\n",
    "train_path2 = current_path + \"/train/Type_2/\"\n",
    "train_path3 = current_path + \"/train/Type_3/\"\n",
    "add_type1 = current_path + \"/additional_Type_1_v2/Type_1/\" \n",
    "add_type2 = current_path + \"/additional_Type_2_v2/Type_2/\" \n",
    "add_type3 = current_path + \"/additional_Type_3_v2/Type_3/\" \n",
    "\n",
    "test = current_path+\"/test/\"\n",
    "\n",
    "path_list =[]\n",
    "path_list.append(add_type1)\n",
    "path_list.append(add_type2)\n",
    "path_list.append(add_type3)\n",
    "path_list.append(train_path1)\n",
    "path_list.append(train_path2)\n",
    "path_list.append(train_path3)\n",
    "\n",
    "path_list.append(test)\n",
    "\n",
    "def resize_images(path,pickle_filename):\n",
    "    resizeimg=[]\n",
    "    filename_resized=[]\n",
    "    size_dict= {}\n",
    "    #for path in path_list:\n",
    "    start_time = time.time()\n",
    "    for root, dirs, files in os.walk(path, topdown=False):\n",
    "        print (\"path:\",path,' numFiles:',len(files))\n",
    "        for f in files:\n",
    "            if f !='.DS_Store':\n",
    "                #print (\"path:\",path,\" path+f:\",path+f)\n",
    "                img = cv2.imread(path+f)\n",
    "                image_resized = resize(img, (400, 400), mode='reflect')\n",
    "                resizeimg.append(image_resized)\n",
    "                filename_resized.append(f)\n",
    "                #print (img.shape)\n",
    "                size_dict[img.shape[0]]=img.shape[1]\n",
    "        print(\"dict of image dimensions:\",size_dict)\n",
    "        a=(image_resized,filename_resized)\n",
    "        with open(pickle_filename, 'wb') as handle:\n",
    "            pickle.dump(a, handle, protocol=pickle.HIGHEST_PROTOCOL)\n",
    "    end_time = time.time()\n",
    "    print(\"elapsed time:\",(end_time-start_time)/60.)\n",
    "    return resizeimg,filename_resized\n",
    "\n",
    "type1_resize,files_type1 = resize_images(train_path1,'type1_resize.p')\n",
    "#print (len(type1_resize))\n",
    "with open('type1_resize.p', 'rb') as handle:\n",
    "    a = pickle.load(handle)\n",
    "a[0] == type1_resize\n",
    "a[1] == files_type1\n",
    "type2_resize,files_type2 = resize_images(train_path2,'type2_resize.p')\n",
    "type3_resize,files_type3 = resize_images(train_path3,'type3_resize.p')\n",
    "type1add_resize,files_typeadd1 = resize_images(add_type1,'type1add_resize.p')\n",
    "type2add_resize,files_typeadd2 = resize_images(add_type1,'type2add_resize.p')\n",
    "type3add_resize,files_typeadd3 = resize_images(add_type1,'type3add_resize.p')\n",
    "test_resize,files_test = resize_images(test,'test.p')\n",
    "\n",
    "            "
   ]
  },
  {
   "cell_type": "code",
   "execution_count": null,
   "metadata": {},
   "outputs": [],
   "source": [
    "import scipy.ndimage as ndi\n",
    "\n",
    "#crop test\n",
    "img = cv2.imread('/Users/dc/DeepLearning/kaggle/train/Type_1/0.jpg')\n",
    "\n",
    "height = img.shape[0]\n",
    "width = img.shape[1]\n",
    "cv2.line(img,(0,int(height/2.)),(int(width),int(height/2.0)),(255,0,0))\n",
    "cv2.line(img,(int(width/2.),0),(int(width/2.0),height),(255,0,0))\n",
    "\n",
    "trans_factor=.8 \n",
    "zoom_range=[.8,.8]\n",
    "\n",
    "\n",
    "y_offset = np.random.uniform(0,trans_factor*width)\n",
    "x_offset = np.random.uniform(0,trans_factor*height)\n",
    "\n",
    "print ('y_offset:', y_offset, \"x_offset:\", x_offset)\n",
    "\n",
    "offset = np.array([0,200])\n",
    "#center image\n",
    "#offset=np.array([10,10])\n",
    "scale_factor = np.random.uniform(zoom_range[0],zoom_range[1])\n",
    "print (scale_factor)\n",
    "crop = np.array([[scale_factor,0],[0,scale_factor]])\n",
    "\n",
    "print('image.shape before roll:',img.shape)\n",
    "img_roll = np.rollaxis(img,axis=-1, start=0)\n",
    "print('image.shape after roll:',img_roll.shape)\n",
    "#this is for the affine transform for each channel you have to roll the axis? Seems funky\n",
    "#you can use a numpy.reshape also. this is clearer and more mainstream\n",
    "\n",
    "image_channel = [ndi.interpolation.affine_transform(image_channel,\n",
    "                        crop, offset=offset, order=0, mode='nearest',\n",
    "                        cval=0.0) for image_channel in img_roll]\n",
    "image_array = np.stack(image_channel, axis=0)\n",
    "image_array = np.rollaxis(image_array, 0, 3)\n",
    "\n",
    "print ('image_array:',image_array.shape)\n",
    "#height_rs = image_array.shape[0]\n",
    "#width_rs = image_array.shape[1]\n",
    "#print(height_rs, width_rs)\n",
    "#cv2.line(image_array,(10,10),(100,100),(255,0,0))\n",
    "#cv2.line(image_array,(0,int(height_rs/2.)),(int(width_rs),int(height_rs/2.0)),(255,0,0))\n",
    "#cv2.line(image_array,(int(width_rs/2.),0),(int(width_rs/2.0),height_rs),(255,0,0))\n",
    "\n",
    "fig = plt.figure()\n",
    "\n",
    "ax = fig.add_subplot(2, 2, 1)\n",
    "ax.imshow(img)\n",
    "plt.title(\"orig\")\n",
    "ax1 = fig.add_subplot(2, 2, 2)\n",
    "ax1.imshow(image_array)\n",
    "plt.title(\"crop .8\")\n",
    "#fig.add_subplot(image_array)\n",
    "\n",
    "#plt.show()\n",
    "#problem is the shift away from center in the crop .8 image"
   ]
  },
  {
   "cell_type": "code",
   "execution_count": 7,
   "metadata": {},
   "outputs": [
    {
     "data": {
      "text/plain": [
       "(3264, 2448, 3)"
      ]
     },
     "execution_count": 7,
     "metadata": {},
     "output_type": "execute_result"
    }
   ],
   "source": [
    "type(image_array)\n",
    "image_array.shape"
   ]
  },
  {
   "cell_type": "code",
   "execution_count": 8,
   "metadata": {},
   "outputs": [
    {
     "name": "stdout",
     "output_type": "stream",
     "text": [
      "orig: (3264, 2448, 3)\n",
      "resized: (400, 400, 3)\n"
     ]
    },
    {
     "data": {
      "text/plain": [
       "<matplotlib.text.Text at 0x130d3aef0>"
      ]
     },
     "execution_count": 8,
     "metadata": {},
     "output_type": "execute_result"
    },
    {
     "data": {
      "image/png": "[encoded data removed]",
      "text/plain": [
       "<matplotlib.figure.Figure at 0x12c86ebe0>"
      ]
     },
     "metadata": {},
     "output_type": "display_data"
    }
   ],
   "source": [
    "#we can crop to produce a smaller resolution. \n",
    "import skimage\n",
    "from skimage.transform import rescale, resize, downscale_local_mean\n",
    "\n",
    "image = cv2.imread('/Users/dc/DeepLearning/kaggle/train/Type_1/0.jpg')\n",
    "height = image.shape[0]\n",
    "width = image.shape[1]\n",
    "cv2.line(image,(0,int(height/2.)),(int(width),int(height/2.0)),(255,0,0))\n",
    "cv2.line(image,(int(width/2.),0),(int(width/2.0),height),(255,0,0))\n",
    "\n",
    "\n",
    "print ('orig:',image.shape)\n",
    "image_resized = resize(image, (400, 400), mode='reflect')\n",
    "height = image_resized.shape[0]\n",
    "width = image_resized.shape[1]\n",
    "cv2.line(image_resized,(0,int(height/2.)),(int(width),int(height/2.0)),(255,0,0))\n",
    "cv2.line(image_resized,(int(width/2.),0),(int(width/2.0),height),(255,0,0))\n",
    "\n",
    "#image_downscaled = downscale_local_mean(image, (480, 640))\n",
    "print ('resized:',image_resized.shape)\n",
    "fig, axes = plt.subplots(nrows=2, ncols=2,\n",
    "                         sharex=True, sharey=True)\n",
    "\n",
    "ax = axes.ravel()\n",
    "ax[0].imshow(image)\n",
    "ax[0].set_title(\"Original image\")\n",
    "\n",
    "ax[1].imshow(image_resized)\n",
    "ax[1].set_title(\"resized\")\n",
    "\n",
    "#ax[2].imshow(image_downscaled)\n",
    "#ax[2].set_title(\"downscaled\")\n"
   ]
  },
  {
   "cell_type": "code",
   "execution_count": null,
   "metadata": {
    "collapsed": true
   },
   "outputs": [],
   "source": []
  }
 ],
 "metadata": {
  "anaconda-cloud": {},
  "kernelspec": {
   "display_name": "Python 3",
   "language": "python",
   "name": "python3"
  },
  "language_info": {
   "codemirror_mode": {
    "name": "ipython",
    "version": 3
   },
   "file_extension": ".py",
   "mimetype": "text/x-python",
   "name": "python",
   "nbconvert_exporter": "python",
   "pygments_lexer": "ipython3",
   "version": "3.5.2"
  }
 },
 "nbformat": 4,
 "nbformat_minor": 1
}
