{
 "cells": [
  {
   "cell_type": "code",
   "execution_count": null,
   "metadata": {
    "collapsed": true,
    "deletable": true,
    "editable": true
   },
   "outputs": [],
   "source": [
    "#include this as part of baseline lecture. \n",
    "https://www.youtube.com/watch?v=d12ra3b_M-0&index=9&list=PLOU2XLYxmsIIuiBfYad6rFYQU_jL2ryal\n",
    "    \n",
    "#use census data and facets\n",
    "assume income correlated w/age\n",
    "\n",
    "might not be linear relationiship. A linear classifier can't capture this. can bucket feature\n",
    "to make PWL. Can do this in facets. \n",
    "\n",
    "You can bucket by age. Wow that is a good UI. this is a standard. \n",
    "Categorical featrues: \n",
    "    educatoin coolmn. Create a feature column. Using raw alues if there are small vocab or large vcab there are separate\n",
    "    strategies. \n",
    "    \n",
    "    Feature crossing creates new features which are combinations of existing ones. \n",
    "    Linear classifiers can't model interactions between features. Math derivation please. does nonlinear help?\n",
    "    (add colinearity discussion not in video..not sure how to prove this)\n",
    "    use a feature cross to create a new feature. \n",
    "    they convert categorical variables to a feature hash. For occupation, set to 1000 which is more than the number\n",
    "    of categories...\n",
    "    video implies small vocabulary use one hot. large vocab use embeddings. he uses embeddings for words. \n",
    "    uses for similarities bewteen words. \n",
    "    one problem of hash is collision. \n",
    "    Embeddings: learned automatically\n",
    "    Concepts for feature engineering:\n",
    "    bucketing: to deal with nonlinearity in data, bucket to make piece wise linear\n",
    "    crossing: to add features composed of other features. \n",
    "    hashing : to convert small vocabulary categorical variables to hashing vector.\n",
    "    embedding: to covert large vocabulary categorical variables to embedding vector.\n",
    "    \n",
    "    \n",
    "    \n",
    "    \n",
    "\n",
    "    "
   ]
  }
 ],
 "metadata": {
  "kernelspec": {
   "display_name": "Python 3",
   "language": "python",
   "name": "python3"
  },
  "language_info": {
   "codemirror_mode": {
    "name": "ipython",
    "version": 3
   },
   "file_extension": ".py",
   "mimetype": "text/x-python",
   "name": "python",
   "nbconvert_exporter": "python",
   "pygments_lexer": "ipython3",
   "version": "3.4.5"
  }
 },
 "nbformat": 4,
 "nbformat_minor": 2
}
