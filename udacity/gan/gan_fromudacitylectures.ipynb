{
 "cells": [
  {
   "cell_type": "markdown",
   "metadata": {
    "deletable": true,
    "editable": true
   },
   "source": [
    "<h6>Example GAN applications</h6>\n",
    "Drawing app, convert sketch into drawing. \n",
    "<img src='ganapp1.png'>\n",
    "StackedGAN takes input as text and generates a bird as an output. The GAN is drawing from a probability distribution to\n",
    "create the image. \n",
    "<img src='ganapp2.png'>\n",
    "GANS can work in unsupervised mode where it converts photo of face into cartoon of face. The models were trained on photos\n",
    "and cartoons but it did not need pairs to show which matched. NVIDIA showed simimar technique on how to turn day scenes into\n",
    "night scenes. \n",
    "<img src='ganapp3.png'>\n",
    "Berkeley cycle gan translates horse to zebra. \n",
    "<img src='ganapp4.png'>\n",
    "GANS can be used to create data. Apple created 3d datasets of areas around eyes using GANS\n",
    "<img src='ganapp5.png'>\n",
    "Imitation Learning: getting sumo wrestler to wrestle walk on their own. Imitate a human agent.  \n",
    "<img src='ganapp6.png'>\n",
    "<img src='ganapp2.png'>\n"
   ]
  },
  {
   "cell_type": "markdown",
   "metadata": {
    "collapsed": true,
    "deletable": true,
    "editable": true
   },
   "source": [
    "<h6>GAN Example Architecture</h6>\n",
    "Take in random noise as input and output image. There are 2 parts to a GAN, the discriminator and generator. The ideal goal \n",
    "is to calculate a probability distribution representing the data, i.e. a probability distribution which will generate\n",
    "realistic images. One way to generate this PrDist is using autoencoders. Another way is to use the discriiminator to help\n",
    "the generator to figure out a probablity distribution. Feed into the discriminator which is a normal CNN classifier\n",
    "half real images and half fake images. Assign\n",
    "a P(image) ~1 for real and P(image)~0 for fake images. The generator does the opposite and tries to get discriminator to output\n",
    "images as real? This doesn't seeem opposite to me. Over time the generator converges to produce output images which are\n",
    "more real. \n",
    "<img src='gan1.png'>\n",
    "<p>\n",
    "The GAN network relies on game theory where there is an eventual Nash equilibrium. The cost for the discriminator is the\n",
    "negative cost of the generator. The optimizations work in opposite. One wants to maximize the value function the ohter wants\n",
    "to minimize the value function. If both networks are big enough can show there is an equilibriim where the data density is equal\n",
    "to the generator density. This is different than using softmax to give probability outputs in an event space! Those are discriminitave models\n",
    "vs generative models. Even though the equilibrium may exist we may not be able to find it. One of the problems with GANS is when \n",
    "there are multiple clusters. The generator will find one cluster and the discriminator will reject it then go to next cluster.. this continues\n",
    "to infinity. \n",
    "</p>"
   ]
  },
  {
   "cell_type": "markdown",
   "metadata": {
    "collapsed": true,
    "deletable": true,
    "editable": true
   },
   "source": [
    "<h6>Simplest GAN, no Conv no recurrence</h6>\n",
    "<p>\n",
    "Generate MNIST digits with simple GAN. \n",
    "The simplest GAN consists of a FC layer in both the generator and discriminator.\n",
    "Requirement is tp have at least 1 hidden layer so both G/D can approximate a probabiltiy distribution \n",
    "if given enough hidden units. LeakyRELU for discriminator and tahnh for generator activation function. Tanh implies the data\n",
    "has to be scaled from -1/+1. One trick for numerical stability is to replace the 1s w/.9. loss = cross_entropy(loss,labels*.9)\n",
    "</p>\n",
    "<img src='udacitygan1.png'>\n",
    "<p>\n",
    "To get GANS to scale up to large images we replace the fully connected layers with convolutions\n",
    "</p>\n",
    "\n",
    "\n"
   ]
  },
  {
   "cell_type": "code",
   "execution_count": null,
   "metadata": {
    "collapsed": true,
    "deletable": true,
    "editable": true
   },
   "outputs": [],
   "source": []
  }
 ],
 "metadata": {
  "kernelspec": {
   "display_name": "Python 3",
   "language": "python",
   "name": "python3"
  },
  "language_info": {
   "codemirror_mode": {
    "name": "ipython",
    "version": 3
   },
   "file_extension": ".py",
   "mimetype": "text/x-python",
   "name": "python",
   "nbconvert_exporter": "python",
   "pygments_lexer": "ipython3",
   "version": "3.4.5"
  }
 },
 "nbformat": 4,
 "nbformat_minor": 2
}
