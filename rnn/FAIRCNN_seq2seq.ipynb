{
 "cells": [
  {
   "cell_type": "code",
   "execution_count": null,
   "metadata": {
    "collapsed": true
   },
   "outputs": [],
   "source": [
    "<h6>Convolutional Sequence to Sequence</h6>\n",
    "https://www.facebook.com/yann.lecun/posts/10154765200937143\n",
    "    For language translation and other seq2seq tasks\n",
    "\n",
    "    There are 2 approaches, the tensorflow approach:https://research.googleblog.com/2017/04/introducing-tf-seq2seq-open-source.html\n",
    "            and the FAIR approach above. \n",
    "            For seq2seq they seem to be considering only MLT. \n",
    "            "
   ]
  }
 ],
 "metadata": {
  "kernelspec": {
   "display_name": "Python 3",
   "language": "python",
   "name": "python3"
  },
  "language_info": {
   "codemirror_mode": {
    "name": "ipython",
    "version": 3
   },
   "file_extension": ".py",
   "mimetype": "text/x-python",
   "name": "python",
   "nbconvert_exporter": "python",
   "pygments_lexer": "ipython3",
   "version": "3.5.1"
  }
 },
 "nbformat": 4,
 "nbformat_minor": 1
}
