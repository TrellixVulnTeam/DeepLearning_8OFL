{
 "cells": [
  {
   "cell_type": "code",
   "execution_count": 1,
   "metadata": {
    "collapsed": true
   },
   "outputs": [],
   "source": [
    "import tensorflow as tf\n",
    "from tensorflow.contrib import rnn\n",
    "from tensorflow.contrib import legacy_seq2seq\n",
    "\n",
    "\n",
    "batch_size=100\n",
    "seq_length=10\n",
    "rnn_size=10\n",
    "vocab_size=1000\n",
    "\n",
    "cells=[]\n",
    "\n",
    "cell = rnn.MultiRNNCell(cells, state_is_tuple=True)\n",
    "input_data = tf.placeholder(tf.int32, [batch_size, seq_length])\n",
    "targets = tf.placeholder(\n",
    "            tf.int32, [args.batch_size, args.seq_length])\n",
    "\n",
    "initial_state = cell.zero_state(args.batch_size, tf.float32)\n",
    "\n",
    "softmax_w = tf.get_variable(\"softmax_w\",[rnn_size, vocab_size])\n",
    "softmax_b = tf.get_variable(\"softmax_b\", [vocab_size])\n",
    "\n",
    "embedding = tf.get_variable(\"embedding\", [vocab_size, rnn_size])\n",
    "inputs = tf.nn.embedding_lookup(embedding, input_data)\n",
    "\n",
    "\n"
   ]
  },
  {
   "cell_type": "code",
   "execution_count": null,
   "metadata": {
    "collapsed": true
   },
   "outputs": [],
   "source": []
  }
 ],
 "metadata": {
  "kernelspec": {
   "display_name": "Python 3",
   "language": "python",
   "name": "python3"
  },
  "language_info": {
   "codemirror_mode": {
    "name": "ipython",
    "version": 3
   },
   "file_extension": ".py",
   "mimetype": "text/x-python",
   "name": "python",
   "nbconvert_exporter": "python",
   "pygments_lexer": "ipython3",
   "version": "3.5.1"
  }
 },
 "nbformat": 4,
 "nbformat_minor": 2
}
