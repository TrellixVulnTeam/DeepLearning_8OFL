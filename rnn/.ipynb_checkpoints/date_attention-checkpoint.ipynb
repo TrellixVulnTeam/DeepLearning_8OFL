{
 "cells": [
  {
   "cell_type": "markdown",
   "metadata": {
    "deletable": true,
    "editable": true
   },
   "source": [
    "<h6>LSTM cells with attention</h6>\n",
    "\n",
    "<img src=\"lstm.png\">\n",
    "<img src=\"lstm1.png\">\n",
    "<img src=\"lstm2.png\">\n",
    "\n",
    "\n",
    "The basid LSTM equations are: \n",
    "    \n",
    "    "
   ]
  },
  {
   "cell_type": "code",
   "execution_count": 5,
   "metadata": {
    "collapsed": false,
    "deletable": true,
    "editable": true
   },
   "outputs": [],
   "source": [
    "#https://medium.com/datalogue/attention-in-keras-1892773a4f22\n",
    "\n",
    "import numpy as np\n",
    "\n",
    "import random\n",
    "import json\n",
    "import os\n",
    "\n",
    "DATA_FOLDER = os.getcwd()\n",
    "\n",
    "from faker import Faker\n",
    "import babel\n",
    "from babel.dates import format_date\n",
    "\n",
    "FORMATS = ['short',\n",
    "           'medium',\n",
    "           'long',\n",
    "           'full',\n",
    "           'd MMM YYY',\n",
    "           'd MMMM YYY',\n",
    "           'dd MMM YYY',\n",
    "           'd MMM, YYY',\n",
    "           'd MMMM, YYY',\n",
    "           'dd, MMM YYY',\n",
    "           'd MM YY',\n",
    "           'd MMMM YYY',\n",
    "           'MMMM d YYY',\n",
    "           'MMMM d, YYY',\n",
    "           'dd.MM.YY',\n",
    "           ]\n",
    "\n",
    "LOCALES = babel.localedata.locale_identifiers()\n",
    "\n",
    "def create_date(,):\n",
    "    \"\"\"\n",
    "    \"\"\"\n",
    "    dt = fake.date_object()\n",
    "    \n",
    "    try:\n",
    "        human = format_date(dt, format=random_choice(FORMATS), locale=random_choice(LOCALES))\n",
    "        case_change = random.randint(0,3)\n",
    "        \n",
    "        if case_change == 1:\n",
    "            human = human.upper()\n",
    "        elif case_change == 2:\n",
    "            human = human.lower()\n",
    "        \n",
    "        machine = dt.isoformat()\n",
    "    except AttributeError as e:\n",
    "        return None,None,None\n",
    "    return human, machine, dt\n",
    "\n",
    "def create_dataset(dataset_name, n_examples, vocabulary=False):\n",
    "    \"\"\"\n",
    "    \"\"\"\n",
    "    human_vocab = set()\n",
    "    machine_vocab = set()\n",
    "    \n",
    "    with open(dataset_name, 'w') as f:\n",
    "        for i in range(n_examples):\n",
    "            h,m,_ = create_date()\n",
    "            if h is not None:\n",
    "                f.write('\"' + h + '\",\"' + m + '\"\\n')\n",
    "                human_vocab.update(tuple(h))\n",
    "                machine_vocab.update(tuple(h))\n",
    "    \n",
    "    if vocabulary:\n",
    "        int2human = dict(enumerate(human_vocab))\n",
    "        int2human.update = ({len(int2human):'<unk>', len(int2human)+1:'<eot>'})\n",
    "        \n",
    "        int2machine = dict(enumerate(machine_vocab))\n",
    "        int2machine.update = ({len(int2machine):'<unk>', len(int2machine)+1:'<eot>'})\n",
    "        \n",
    "        human2int = {v:k for k, v in int2human.items()}\n",
    "        machine2int = {v:k for k,v in int2machine.items()} \n",
    "\n",
    "        with open(os.path.join(DATA_FOLDER, 'human_vocab.json'), 'w') as f:\n",
    "            json.dump(human2int, f)\n",
    "        with open(os.path.join(DATA_FOLDER, 'machine_vocab.json'), 'w') as f:\n",
    "            json.dump(machine2int, f)\n",
    "        "
   ]
  },
  {
   "cell_type": "code",
   "execution_count": 6,
   "metadata": {
    "collapsed": false,
    "deletable": true,
    "editable": true
   },
   "outputs": [
    {
     "ename": "TypeError",
     "evalue": "create_dataset() got an unexpected keyword argument 'vocabulary'",
     "output_type": "error",
     "traceback": [
      "\u001b[0;31m---------------------------------------------------------------------------\u001b[0m",
      "\u001b[0;31mTypeError\u001b[0m                                 Traceback (most recent call last)",
      "\u001b[0;32m<ipython-input-6-83cf85b28d4f>\u001b[0m in \u001b[0;36m<module>\u001b[0;34m()\u001b[0m\n\u001b[1;32m      1\u001b[0m create_dataset(os.path.join(DATA_FOLDER, 'training.csv'), 500000,\n\u001b[0;32m----> 2\u001b[0;31m                    vocabulary=True)\n\u001b[0m",
      "\u001b[0;31mTypeError\u001b[0m: create_dataset() got an unexpected keyword argument 'vocabulary'"
     ]
    }
   ],
   "source": [
    "create_dataset(os.path.join(DATA_FOLDER, 'training.csv'), 500000,\n",
    "                   vocabulary=True)"
   ]
  },
  {
   "cell_type": "code",
   "execution_count": null,
   "metadata": {
    "collapsed": true
   },
   "outputs": [],
   "source": []
  }
 ],
 "metadata": {
  "kernelspec": {
   "display_name": "Python 3",
   "language": "python",
   "name": "python3"
  },
  "language_info": {
   "codemirror_mode": {
    "name": "ipython",
    "version": 3
   },
   "file_extension": ".py",
   "mimetype": "text/x-python",
   "name": "python",
   "nbconvert_exporter": "python",
   "pygments_lexer": "ipython3",
   "version": "3.4.5"
  }
 },
 "nbformat": 4,
 "nbformat_minor": 2
}
