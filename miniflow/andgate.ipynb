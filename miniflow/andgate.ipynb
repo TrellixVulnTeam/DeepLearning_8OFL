{
 "cells": [
  {
   "cell_type": "code",
   "execution_count": 1,
   "metadata": {
    "collapsed": true
   },
   "outputs": [],
   "source": [
    "import numpy as np"
   ]
  },
  {
   "cell_type": "code",
   "execution_count": 15,
   "metadata": {},
   "outputs": [
    {
     "name": "stdout",
     "output_type": "stream",
     "text": [
      "initial wt: [[ 1.]\n",
      " [ 1.]\n",
      " [ 1.]]\n",
      "output [[ 0.5]\n",
      " [ 0.5]\n",
      " [ 0.5]\n",
      " [ 0.5]]\n",
      "weights: [[  2.22044605e-16]\n",
      " [  2.22044605e-16]\n",
      " [ -3.05311332e-16]]\n"
     ]
    }
   ],
   "source": [
    "def sigmoid(x,deriv=False):\n",
    "    if deriv==True:\n",
    "        return(x*(1-x))\n",
    "    return 1/(1+np.exp(-x))\n",
    "\n",
    "#input array = A,B,bias=1 always\n",
    "X = np.array([\n",
    "    [0,0,1],\n",
    "    [0,1,1],\n",
    "    [1,0,1],\n",
    "    [1,1,1]])\n",
    "y = np.array([[0,1,1,0]]).T\n",
    "\n",
    "#funny these converge to the same weights. Different than our 1.2,.6 solution bc of the bias\n",
    "#do we really need the bias? \n",
    "#np.random.seed(42)\n",
    "#W = 2*np.random.random((3,1)) - 1\n",
    "W=np.ones((3,1))\n",
    "print('initial wt:',W)\n",
    "\n",
    "\n",
    "for iter in range(0,10000):\n",
    "    l0 = X\n",
    "    l1 = sigmoid(np.dot(l0,W))\n",
    "    l1_error = y - l1\n",
    "    l1_delta = l1_error * sigmoid(l1,True)\n",
    "    W += np.dot(l0.T,l1_delta)\n",
    "print ('output',l1)\n",
    "print ('weights:',W)"
   ]
  },
  {
   "cell_type": "code",
   "execution_count": null,
   "metadata": {
    "collapsed": true
   },
   "outputs": [],
   "source": []
  }
 ],
 "metadata": {
  "kernelspec": {
   "display_name": "Python 3",
   "language": "python",
   "name": "python3"
  },
  "language_info": {
   "codemirror_mode": {
    "name": "ipython",
    "version": 3
   },
   "file_extension": ".py",
   "mimetype": "text/x-python",
   "name": "python",
   "nbconvert_exporter": "python",
   "pygments_lexer": "ipython3",
   "version": "3.5.1"
  }
 },
 "nbformat": 4,
 "nbformat_minor": 2
}
