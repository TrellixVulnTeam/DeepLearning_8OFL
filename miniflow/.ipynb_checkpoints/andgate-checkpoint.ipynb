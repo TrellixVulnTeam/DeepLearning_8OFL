{
 "cells": [
  {
   "cell_type": "code",
   "execution_count": 1,
   "metadata": {
    "collapsed": true
   },
   "outputs": [],
   "source": [
    "import numpy as np"
   ]
  },
  {
   "cell_type": "code",
   "execution_count": 14,
   "metadata": {},
   "outputs": [
    {
     "name": "stdout",
     "output_type": "stream",
     "text": [
      "initial wt: [[ 1.]\n",
      " [ 1.]\n",
      " [ 1.]]\n",
      "output [[ 0.00966634]\n",
      " [ 0.0078647 ]\n",
      " [ 0.99358957]\n",
      " [ 0.99211843]]\n",
      "weights: [[ 9.67289232]\n",
      " [-0.20808277]\n",
      " [-4.62944354]]\n"
     ]
    }
   ],
   "source": [
    "def sigmoid(x,deriv=False):\n",
    "    if deriv==True:\n",
    "        return(x*(1-x))\n",
    "    return 1/(1+np.exp(-x))\n",
    "\n",
    "#input array = A,B,bias=1 always\n",
    "X = np.array([\n",
    "    [0,0,1],\n",
    "    [0,1,1],\n",
    "    [1,0,1],\n",
    "    [1,1,1]])\n",
    "y = np.array([[0,0,1,1]]).T\n",
    "\n",
    "np.random.seed(42)\n",
    "\n",
    "#mean 0?\n",
    "#W = 2*np.random.random((3,1)) - 1\n",
    "W=np.ones((3,1))\n",
    "print('initial wt:',W)\n",
    "\n",
    "\n",
    "for iter in range(0,10000):\n",
    "    l0 = X\n",
    "    l1 = sigmoid(np.dot(l0,W))\n",
    "    l1_error = y - l1\n",
    "    l1_delta = l1_error * sigmoid(l1,True)\n",
    "    W += np.dot(l0.T,l1_delta)\n",
    "print ('output',l1)\n",
    "print ('weights:',W)"
   ]
  },
  {
   "cell_type": "code",
   "execution_count": null,
   "metadata": {
    "collapsed": true
   },
   "outputs": [],
   "source": []
  }
 ],
 "metadata": {
  "kernelspec": {
   "display_name": "Python 3",
   "language": "python",
   "name": "python3"
  },
  "language_info": {
   "codemirror_mode": {
    "name": "ipython",
    "version": 3
   },
   "file_extension": ".py",
   "mimetype": "text/x-python",
   "name": "python",
   "nbconvert_exporter": "python",
   "pygments_lexer": "ipython3",
   "version": "3.5.1"
  }
 },
 "nbformat": 4,
 "nbformat_minor": 2
}
